{
 "cells": [
  {
   "cell_type": "code",
   "execution_count": 1,
   "id": "ff905806",
   "metadata": {
    "ExecuteTime": {
     "end_time": "2023-08-09T18:33:13.938566Z",
     "start_time": "2023-08-09T18:33:13.931186Z"
    },
    "code_folding": [
     0
    ]
   },
   "outputs": [
    {
     "data": {
      "text/html": [
       "<!-- definir quelques styles custom pour l'ensemble du notebook -->\n",
       "<style>    \n",
       "    @import url(\"css/custom_styles.css\")\n",
       "</style>\n"
      ],
      "text/plain": [
       "<IPython.core.display.HTML object>"
      ]
     },
     "metadata": {},
     "output_type": "display_data"
    }
   ],
   "source": [
    "%%html\n",
    "<!-- definir quelques styles custom pour l'ensemble du notebook -->\n",
    "<style>    \n",
    "    @import url(\"css/custom_styles.css\")\n",
    "</style>"
   ]
  },
  {
   "cell_type": "markdown",
   "id": "f9bafcf8",
   "metadata": {},
   "source": [
    "<center>\n",
    "    <h1>\n",
    "    Transformation Et Manipulation Des Données<br>\n",
    "    </h1>\n",
    "    MovieLens - Préparation des données pour système de recommandations de films.<br>\n",
    "    <br>\n",
    "    <b>Jean-Francois Gagnon</b><br>\n",
    "    <b>Michèle de La Sablonnière</b><br>\n",
    "    <br>\n",
    "    420-A56<br>\n",
    "    <br>\n",
    "</center>"
   ]
  },
  {
   "cell_type": "markdown",
   "id": "ef7240a4",
   "metadata": {},
   "source": [
    "# Introduction\n",
    "    \n",
    "Nous avons choisi la base de données [MovieLens Small](https://tinyurl.com/bdhmcfht). Elle décrit les notations des utilisateurs de MovieLens; un service de recommandation de films. Elle contient plus de 100K notations représentant plus de 9700 films. Ces notations ont été établi par plus de 600 utilisateurs entre mars 1996 et septembre 2018. Elle contient également les métadonnées sur 19 genres. Les données sont structurées dans 4 fichiers distincts.\n",
    "\n",
    "<br>**tags.csv**\n",
    "\n",
    "Fichier contenant les tags (quelques mots générés par les utilisateurs) de chaque film. Ces données ne sont pas utilisées dans ce projet dans un but de réduire la portée.\n",
    "\n",
    "<br>**links.csv**\n",
    "\n",
    "Fichier contenant les metadonnées permettant de lier un film à d'autres sources de données. Chaque ligne a ce format:\n",
    "\n",
    "<div class=\"indentation\">\n",
    "<div class=\"fixblock\">movieId, imdbId, tmdbId</div>\n",
    "\n",
    "|Attribut|<center>Description</center>|\n",
    "|:-|:---|\n",
    "|movieId| Identifiant du film dans cette base de données.|\n",
    "|imdbId| Identifiant du film dans [Internet Movie Database](http://www.imdb.com).|\n",
    "|tmdbId| Identifiant du film dans [The Movie DB](https://www.themoviedb.org).|    \n",
    "</div>\n",
    "\n",
    "<br>**ratings.csv**\n",
    "\n",
    "Ce fichier contient les notations. Chaque ligne a ce format:\n",
    "\n",
    "<div class=\"indentation\">\n",
    "<div class=\"fixblock\">userId, movieId, rating, timestamp</div>\n",
    "\n",
    "|Attribut|<center>Description</center>|\n",
    "|:-|:---|\n",
    "|userId| Identifiant de l'utilisateur dans cette base de données.|\n",
    "|movieId| Identifiant du film dans cette base de données.|\n",
    "|rating| Nombre d'étoiles attribuées avec une granularité de $\\frac{1}{2}$. |\n",
    "|timestamp| Date à laquelle la note a été entrée. Encodée dans le format [UTC](https://tinyurl.com/32e6a5pc).|\n",
    "</div>\n",
    "\n",
    "<br>**movies.csv**\n",
    "\n",
    "Ce fichier contient les métadonnées de chaque film. Chaque ligne a ce format:\n",
    "\n",
    "<div class=\"indentation\">\n",
    "<div class=\"fixblock\">movieId, title, genres</div>\n",
    "\n",
    "|Attribut|<center>Description</center>|\n",
    "|:-|:---|\n",
    "|movieId| Identifiant du film dans cette base de données.|\n",
    "|title| Titre du film. Peut contenir l'année de parution.|\n",
    "|genres| Genres. Liste de mots séparés par un 'pipe' (\\|). |\n",
    "</div>\n",
    "\n",
    "<br>\n",
    "\n",
    "L'objectif de ce projet est de préparer les données pour un éventuel système de recommantation de films. Nous allons examiner chaque fichier indépendamment et utiliser le web scraping afin de corriger, dans la mesure du possible, les informations manquantes. Nous allons transformer les variables des bases de données et en créer de nouvelles. Nous allons sauvegarder tout notre prétraitement dans 2 nouvelles bases de données. Finalement, nous allons proposer quelques méthodes d'apprentissage utiles pour un système de recommendations de films."
   ]
  },
  {
   "cell_type": "code",
   "execution_count": 2,
   "id": "4d914ec6",
   "metadata": {
    "ExecuteTime": {
     "end_time": "2023-08-09T18:33:15.390102Z",
     "start_time": "2023-08-09T18:33:13.948235Z"
    },
    "code_folding": []
   },
   "outputs": [],
   "source": [
    "#\n",
    "# imports utilitaires\n",
    "#\n",
    "\n",
    "%matplotlib inline\n",
    "\n",
    "import json\n",
    "import matplotlib.pyplot as plt\n",
    "import numpy as np\n",
    "import os\n",
    "import pandas as pd\n",
    "import re\n",
    "import seaborn as sns\n",
    "import time\n",
    "\n",
    "from bs4 import BeautifulSoup\n",
    "from datetime import datetime\n",
    "from dateutil.relativedelta import relativedelta\n",
    "from sklearn.preprocessing import StandardScaler\n",
    "from sklearn.feature_extraction.text import TfidfTransformer\n",
    "\n",
    "from tqdm.notebook import tqdm\n",
    "\n",
    "#\n",
    "# imports faisant partie de nos propres modules\n",
    "#\n",
    "\n",
    "import helpers as hlp\n",
    "import helpers.Clustering as clstr\n",
    "import helpers.dataset.MovieLens as mvl\n",
    "import helpers.WebScraping as scrap\n",
    "import helpers.jupyter as jup"
   ]
  },
  {
   "cell_type": "markdown",
   "id": "682de01b",
   "metadata": {},
   "source": [
    "# Obtenir la base de données\n",
    "\n",
    "Notre approche se veut la plus automatisée possible. Nous avons donc construit plusieurs modules python permettant de configurer et de rendre transparent nos processus. [config_overrides.json](./config_overrides.json) et [helpers](./helpers) donneront plus de détails."
   ]
  },
  {
   "cell_type": "code",
   "execution_count": 3,
   "id": "654c4385",
   "metadata": {
    "ExecuteTime": {
     "end_time": "2023-08-09T18:33:15.456903Z",
     "start_time": "2023-08-09T18:33:15.392611Z"
    }
   },
   "outputs": [],
   "source": [
    "#\n",
    "# parametres configurant nos traitements\n",
    "#\n",
    "configs = hlp.get_configs(\"config_overrides.json\")\n",
    "\n",
    "#\n",
    "# obtenir le dataset\n",
    "#\n",
    "mvl_dataset = mvl.load(configs.dataset)"
   ]
  },
  {
   "cell_type": "markdown",
   "id": "f5118517",
   "metadata": {},
   "source": [
    "# links.csv\n",
    "    \n",
    "Les informations contenues dans ce fichier serviront pour le web scraping. Il donc important d'en faire un survol rapide."
   ]
  },
  {
   "cell_type": "code",
   "execution_count": 4,
   "id": "caf550da",
   "metadata": {
    "ExecuteTime": {
     "end_time": "2023-08-09T18:33:15.476587Z",
     "start_time": "2023-08-09T18:33:15.458852Z"
    }
   },
   "outputs": [
    {
     "name": "stdout",
     "output_type": "stream",
     "text": [
      "Links: (9742, 3)\n",
      "Head\n"
     ]
    },
    {
     "data": {
      "text/html": [
       "<div>\n",
       "<style scoped>\n",
       "    .dataframe tbody tr th:only-of-type {\n",
       "        vertical-align: middle;\n",
       "    }\n",
       "\n",
       "    .dataframe tbody tr th {\n",
       "        vertical-align: top;\n",
       "    }\n",
       "\n",
       "    .dataframe thead th {\n",
       "        text-align: right;\n",
       "    }\n",
       "</style>\n",
       "<table border=\"1\" class=\"dataframe\">\n",
       "  <thead>\n",
       "    <tr style=\"text-align: right;\">\n",
       "      <th></th>\n",
       "      <th>movieId</th>\n",
       "      <th>imdbId</th>\n",
       "      <th>tmdbId</th>\n",
       "    </tr>\n",
       "  </thead>\n",
       "  <tbody>\n",
       "    <tr>\n",
       "      <th>0</th>\n",
       "      <td>1</td>\n",
       "      <td>0114709</td>\n",
       "      <td>862</td>\n",
       "    </tr>\n",
       "    <tr>\n",
       "      <th>1</th>\n",
       "      <td>2</td>\n",
       "      <td>0113497</td>\n",
       "      <td>8844</td>\n",
       "    </tr>\n",
       "    <tr>\n",
       "      <th>2</th>\n",
       "      <td>3</td>\n",
       "      <td>0113228</td>\n",
       "      <td>15602</td>\n",
       "    </tr>\n",
       "    <tr>\n",
       "      <th>3</th>\n",
       "      <td>4</td>\n",
       "      <td>0114885</td>\n",
       "      <td>31357</td>\n",
       "    </tr>\n",
       "    <tr>\n",
       "      <th>4</th>\n",
       "      <td>5</td>\n",
       "      <td>0113041</td>\n",
       "      <td>11862</td>\n",
       "    </tr>\n",
       "  </tbody>\n",
       "</table>\n",
       "</div>"
      ],
      "text/plain": [
       "   movieId   imdbId tmdbId\n",
       "0        1  0114709    862\n",
       "1        2  0113497   8844\n",
       "2        3  0113228  15602\n",
       "3        4  0114885  31357\n",
       "4        5  0113041  11862"
      ]
     },
     "metadata": {},
     "output_type": "display_data"
    },
    {
     "name": "stdout",
     "output_type": "stream",
     "text": [
      "Types\n"
     ]
    },
    {
     "data": {
      "text/html": [
       "<div>\n",
       "<style scoped>\n",
       "    .dataframe tbody tr th:only-of-type {\n",
       "        vertical-align: middle;\n",
       "    }\n",
       "\n",
       "    .dataframe tbody tr th {\n",
       "        vertical-align: top;\n",
       "    }\n",
       "\n",
       "    .dataframe thead th {\n",
       "        text-align: right;\n",
       "    }\n",
       "</style>\n",
       "<table border=\"1\" class=\"dataframe\">\n",
       "  <thead>\n",
       "    <tr style=\"text-align: right;\">\n",
       "      <th></th>\n",
       "      <th>movieId</th>\n",
       "      <th>imdbId</th>\n",
       "      <th>tmdbId</th>\n",
       "    </tr>\n",
       "  </thead>\n",
       "  <tbody>\n",
       "    <tr>\n",
       "      <th>Type</th>\n",
       "      <td>int64</td>\n",
       "      <td>object</td>\n",
       "      <td>object</td>\n",
       "    </tr>\n",
       "  </tbody>\n",
       "</table>\n",
       "</div>"
      ],
      "text/plain": [
       "     movieId  imdbId  tmdbId\n",
       "Type   int64  object  object"
      ]
     },
     "metadata": {},
     "output_type": "display_data"
    },
    {
     "name": "stdout",
     "output_type": "stream",
     "text": [
      "Valeur manquante 8 (0.1%)\n"
     ]
    },
    {
     "data": {
      "text/html": [
       "<div>\n",
       "<style scoped>\n",
       "    .dataframe tbody tr th:only-of-type {\n",
       "        vertical-align: middle;\n",
       "    }\n",
       "\n",
       "    .dataframe tbody tr th {\n",
       "        vertical-align: top;\n",
       "    }\n",
       "\n",
       "    .dataframe thead th {\n",
       "        text-align: right;\n",
       "    }\n",
       "</style>\n",
       "<table border=\"1\" class=\"dataframe\">\n",
       "  <thead>\n",
       "    <tr style=\"text-align: right;\">\n",
       "      <th></th>\n",
       "      <th>movieId</th>\n",
       "      <th>imdbId</th>\n",
       "      <th>tmdbId</th>\n",
       "    </tr>\n",
       "  </thead>\n",
       "  <tbody>\n",
       "    <tr>\n",
       "      <th>624</th>\n",
       "      <td>791</td>\n",
       "      <td>0113610</td>\n",
       "      <td>NaN</td>\n",
       "    </tr>\n",
       "    <tr>\n",
       "      <th>843</th>\n",
       "      <td>1107</td>\n",
       "      <td>0102336</td>\n",
       "      <td>NaN</td>\n",
       "    </tr>\n",
       "    <tr>\n",
       "      <th>2141</th>\n",
       "      <td>2851</td>\n",
       "      <td>0081454</td>\n",
       "      <td>NaN</td>\n",
       "    </tr>\n",
       "    <tr>\n",
       "      <th>3027</th>\n",
       "      <td>4051</td>\n",
       "      <td>0056600</td>\n",
       "      <td>NaN</td>\n",
       "    </tr>\n",
       "    <tr>\n",
       "      <th>5532</th>\n",
       "      <td>26587</td>\n",
       "      <td>0092337</td>\n",
       "      <td>NaN</td>\n",
       "    </tr>\n",
       "    <tr>\n",
       "      <th>5854</th>\n",
       "      <td>32600</td>\n",
       "      <td>0377059</td>\n",
       "      <td>NaN</td>\n",
       "    </tr>\n",
       "    <tr>\n",
       "      <th>6059</th>\n",
       "      <td>40697</td>\n",
       "      <td>0105946</td>\n",
       "      <td>NaN</td>\n",
       "    </tr>\n",
       "    <tr>\n",
       "      <th>7382</th>\n",
       "      <td>79299</td>\n",
       "      <td>0874957</td>\n",
       "      <td>NaN</td>\n",
       "    </tr>\n",
       "  </tbody>\n",
       "</table>\n",
       "</div>"
      ],
      "text/plain": [
       "      movieId   imdbId tmdbId\n",
       "624       791  0113610    NaN\n",
       "843      1107  0102336    NaN\n",
       "2141     2851  0081454    NaN\n",
       "3027     4051  0056600    NaN\n",
       "5532    26587  0092337    NaN\n",
       "5854    32600  0377059    NaN\n",
       "6059    40697  0105946    NaN\n",
       "7382    79299  0874957    NaN"
      ]
     },
     "metadata": {},
     "output_type": "display_data"
    }
   ],
   "source": [
    "print(\"Links:\", mvl_dataset.links.shape)\n",
    "print(\"Head\")\n",
    "display(mvl_dataset.links.head())\n",
    "clstr.show_types(mvl_dataset.links)\n",
    "clstr.show_na(mvl_dataset.links);"
   ]
  },
  {
   "cell_type": "markdown",
   "id": "8014dc1d",
   "metadata": {},
   "source": [
    "* 9742 individus\n",
    "* 3 variables (elles correspondent bien à la description)\n",
    "* Les types sont **objet** pour imdbId et tmdbId à cause de leur nature. Noter les double zéro (00) dans imdbId. Cette transformation est faite par les modules python et non montrée dans ce notebook. movieId est numérique mais sert tout de même d'identifiant.\n",
    "* Il manque quelques liens sur TMDB (https://www.themoviedb.org/). Les liens [IMDB](https://www.imdb.com/) seront par conséquent utilisés."
   ]
  },
  {
   "cell_type": "markdown",
   "id": "7b174c52",
   "metadata": {},
   "source": [
    "# movies.csv"
   ]
  },
  {
   "cell_type": "code",
   "execution_count": 5,
   "id": "719fc69a",
   "metadata": {
    "ExecuteTime": {
     "end_time": "2023-08-09T18:33:15.492565Z",
     "start_time": "2023-08-09T18:33:15.479752Z"
    }
   },
   "outputs": [
    {
     "name": "stdout",
     "output_type": "stream",
     "text": [
      "Movies: (9742, 3)\n",
      "Head\n"
     ]
    },
    {
     "data": {
      "text/html": [
       "<div>\n",
       "<style scoped>\n",
       "    .dataframe tbody tr th:only-of-type {\n",
       "        vertical-align: middle;\n",
       "    }\n",
       "\n",
       "    .dataframe tbody tr th {\n",
       "        vertical-align: top;\n",
       "    }\n",
       "\n",
       "    .dataframe thead th {\n",
       "        text-align: right;\n",
       "    }\n",
       "</style>\n",
       "<table border=\"1\" class=\"dataframe\">\n",
       "  <thead>\n",
       "    <tr style=\"text-align: right;\">\n",
       "      <th></th>\n",
       "      <th>movieId</th>\n",
       "      <th>title</th>\n",
       "      <th>genres</th>\n",
       "    </tr>\n",
       "  </thead>\n",
       "  <tbody>\n",
       "    <tr>\n",
       "      <th>0</th>\n",
       "      <td>1</td>\n",
       "      <td>Toy Story (1995)</td>\n",
       "      <td>Adventure|Animation|Children|Comedy|Fantasy</td>\n",
       "    </tr>\n",
       "    <tr>\n",
       "      <th>1</th>\n",
       "      <td>2</td>\n",
       "      <td>Jumanji (1995)</td>\n",
       "      <td>Adventure|Children|Fantasy</td>\n",
       "    </tr>\n",
       "    <tr>\n",
       "      <th>2</th>\n",
       "      <td>3</td>\n",
       "      <td>Grumpier Old Men (1995)</td>\n",
       "      <td>Comedy|Romance</td>\n",
       "    </tr>\n",
       "    <tr>\n",
       "      <th>3</th>\n",
       "      <td>4</td>\n",
       "      <td>Waiting to Exhale (1995)</td>\n",
       "      <td>Comedy|Drama|Romance</td>\n",
       "    </tr>\n",
       "    <tr>\n",
       "      <th>4</th>\n",
       "      <td>5</td>\n",
       "      <td>Father of the Bride Part II (1995)</td>\n",
       "      <td>Comedy</td>\n",
       "    </tr>\n",
       "  </tbody>\n",
       "</table>\n",
       "</div>"
      ],
      "text/plain": [
       "   movieId                               title  \\\n",
       "0        1                    Toy Story (1995)   \n",
       "1        2                      Jumanji (1995)   \n",
       "2        3             Grumpier Old Men (1995)   \n",
       "3        4            Waiting to Exhale (1995)   \n",
       "4        5  Father of the Bride Part II (1995)   \n",
       "\n",
       "                                        genres  \n",
       "0  Adventure|Animation|Children|Comedy|Fantasy  \n",
       "1                   Adventure|Children|Fantasy  \n",
       "2                               Comedy|Romance  \n",
       "3                         Comedy|Drama|Romance  \n",
       "4                                       Comedy  "
      ]
     },
     "metadata": {},
     "output_type": "display_data"
    },
    {
     "name": "stdout",
     "output_type": "stream",
     "text": [
      "Types\n"
     ]
    },
    {
     "data": {
      "text/html": [
       "<div>\n",
       "<style scoped>\n",
       "    .dataframe tbody tr th:only-of-type {\n",
       "        vertical-align: middle;\n",
       "    }\n",
       "\n",
       "    .dataframe tbody tr th {\n",
       "        vertical-align: top;\n",
       "    }\n",
       "\n",
       "    .dataframe thead th {\n",
       "        text-align: right;\n",
       "    }\n",
       "</style>\n",
       "<table border=\"1\" class=\"dataframe\">\n",
       "  <thead>\n",
       "    <tr style=\"text-align: right;\">\n",
       "      <th></th>\n",
       "      <th>movieId</th>\n",
       "      <th>title</th>\n",
       "      <th>genres</th>\n",
       "    </tr>\n",
       "  </thead>\n",
       "  <tbody>\n",
       "    <tr>\n",
       "      <th>Type</th>\n",
       "      <td>int64</td>\n",
       "      <td>object</td>\n",
       "      <td>object</td>\n",
       "    </tr>\n",
       "  </tbody>\n",
       "</table>\n",
       "</div>"
      ],
      "text/plain": [
       "     movieId   title  genres\n",
       "Type   int64  object  object"
      ]
     },
     "metadata": {},
     "output_type": "display_data"
    },
    {
     "name": "stdout",
     "output_type": "stream",
     "text": [
      "Valeur manquante 0 (0.0%)\n"
     ]
    }
   ],
   "source": [
    "print(\"Movies:\", mvl_dataset.movies.shape)\n",
    "print(\"Head\")\n",
    "display(mvl_dataset.movies.head())\n",
    "clstr.show_types(mvl_dataset.movies)\n",
    "clstr.show_na(mvl_dataset.movies);"
   ]
  },
  {
   "cell_type": "markdown",
   "id": "8245cf58",
   "metadata": {},
   "source": [
    "* 9742 individus\n",
    "* 3 variables (elles correspondent bien à la description)\n",
    "* **title** et **genres** sont qualitatifs, movieId est numérique.\n",
    "* noter que **genres** et \"multimodal\"; il peut prendre simultanément N modalités\n",
    "\n",
    "Tel que décris plus haut, **title** contient l'année de parution. Nous allons l'extraire afin d'obtenir une nouvelle variable. Nous allons aussi tenter de l'enlever du titre."
   ]
  },
  {
   "cell_type": "code",
   "execution_count": 6,
   "id": "74e568fd",
   "metadata": {
    "ExecuteTime": {
     "end_time": "2023-08-09T18:33:17.046932Z",
     "start_time": "2023-08-09T18:33:15.494694Z"
    },
    "code_folding": [
     0
    ]
   },
   "outputs": [
    {
     "name": "stdout",
     "output_type": "stream",
     "text": [
      "Informations extraites: (9742, 2)\n",
      "Head\n"
     ]
    },
    {
     "data": {
      "text/html": [
       "<div>\n",
       "<style scoped>\n",
       "    .dataframe tbody tr th:only-of-type {\n",
       "        vertical-align: middle;\n",
       "    }\n",
       "\n",
       "    .dataframe tbody tr th {\n",
       "        vertical-align: top;\n",
       "    }\n",
       "\n",
       "    .dataframe thead th {\n",
       "        text-align: right;\n",
       "    }\n",
       "</style>\n",
       "<table border=\"1\" class=\"dataframe\">\n",
       "  <thead>\n",
       "    <tr style=\"text-align: right;\">\n",
       "      <th></th>\n",
       "      <th>title</th>\n",
       "      <th>year</th>\n",
       "    </tr>\n",
       "  </thead>\n",
       "  <tbody>\n",
       "    <tr>\n",
       "      <th>0</th>\n",
       "      <td>Toy Story</td>\n",
       "      <td>1995</td>\n",
       "    </tr>\n",
       "    <tr>\n",
       "      <th>1</th>\n",
       "      <td>Jumanji</td>\n",
       "      <td>1995</td>\n",
       "    </tr>\n",
       "    <tr>\n",
       "      <th>2</th>\n",
       "      <td>Grumpier Old Men</td>\n",
       "      <td>1995</td>\n",
       "    </tr>\n",
       "    <tr>\n",
       "      <th>3</th>\n",
       "      <td>Waiting to Exhale</td>\n",
       "      <td>1995</td>\n",
       "    </tr>\n",
       "    <tr>\n",
       "      <th>4</th>\n",
       "      <td>Father of the Bride Part II</td>\n",
       "      <td>1995</td>\n",
       "    </tr>\n",
       "  </tbody>\n",
       "</table>\n",
       "</div>"
      ],
      "text/plain": [
       "                         title  year\n",
       "0                    Toy Story  1995\n",
       "1                      Jumanji  1995\n",
       "2             Grumpier Old Men  1995\n",
       "3            Waiting to Exhale  1995\n",
       "4  Father of the Bride Part II  1995"
      ]
     },
     "metadata": {},
     "output_type": "display_data"
    },
    {
     "name": "stdout",
     "output_type": "stream",
     "text": [
      "Valeur manquante 12 (0.1%)\n"
     ]
    },
    {
     "data": {
      "text/html": [
       "<div>\n",
       "<style scoped>\n",
       "    .dataframe tbody tr th:only-of-type {\n",
       "        vertical-align: middle;\n",
       "    }\n",
       "\n",
       "    .dataframe tbody tr th {\n",
       "        vertical-align: top;\n",
       "    }\n",
       "\n",
       "    .dataframe thead th {\n",
       "        text-align: right;\n",
       "    }\n",
       "</style>\n",
       "<table border=\"1\" class=\"dataframe\">\n",
       "  <thead>\n",
       "    <tr style=\"text-align: right;\">\n",
       "      <th></th>\n",
       "      <th>title</th>\n",
       "      <th>year</th>\n",
       "    </tr>\n",
       "  </thead>\n",
       "  <tbody>\n",
       "    <tr>\n",
       "      <th>6059</th>\n",
       "      <td>Babylon 5</td>\n",
       "      <td>&lt;NA&gt;</td>\n",
       "    </tr>\n",
       "    <tr>\n",
       "      <th>9031</th>\n",
       "      <td>Ready Player One</td>\n",
       "      <td>&lt;NA&gt;</td>\n",
       "    </tr>\n",
       "    <tr>\n",
       "      <th>9091</th>\n",
       "      <td>Hyena Road</td>\n",
       "      <td>&lt;NA&gt;</td>\n",
       "    </tr>\n",
       "    <tr>\n",
       "      <th>9138</th>\n",
       "      <td>The Adventures of Sherlock Holmes and Doctor W...</td>\n",
       "      <td>&lt;NA&gt;</td>\n",
       "    </tr>\n",
       "    <tr>\n",
       "      <th>9179</th>\n",
       "      <td>Nocturnal Animals</td>\n",
       "      <td>&lt;NA&gt;</td>\n",
       "    </tr>\n",
       "    <tr>\n",
       "      <th>9259</th>\n",
       "      <td>Paterson</td>\n",
       "      <td>&lt;NA&gt;</td>\n",
       "    </tr>\n",
       "    <tr>\n",
       "      <th>9367</th>\n",
       "      <td>Moonlight</td>\n",
       "      <td>&lt;NA&gt;</td>\n",
       "    </tr>\n",
       "    <tr>\n",
       "      <th>9448</th>\n",
       "      <td>The OA</td>\n",
       "      <td>&lt;NA&gt;</td>\n",
       "    </tr>\n",
       "    <tr>\n",
       "      <th>9514</th>\n",
       "      <td>Cosmos</td>\n",
       "      <td>&lt;NA&gt;</td>\n",
       "    </tr>\n",
       "    <tr>\n",
       "      <th>9515</th>\n",
       "      <td>Maria Bamford: Old Baby</td>\n",
       "      <td>&lt;NA&gt;</td>\n",
       "    </tr>\n",
       "    <tr>\n",
       "      <th>9525</th>\n",
       "      <td>Generation Iron 2</td>\n",
       "      <td>&lt;NA&gt;</td>\n",
       "    </tr>\n",
       "    <tr>\n",
       "      <th>9611</th>\n",
       "      <td>Black Mirror</td>\n",
       "      <td>&lt;NA&gt;</td>\n",
       "    </tr>\n",
       "  </tbody>\n",
       "</table>\n",
       "</div>"
      ],
      "text/plain": [
       "                                                  title  year\n",
       "6059                                          Babylon 5  <NA>\n",
       "9031                                   Ready Player One  <NA>\n",
       "9091                                         Hyena Road  <NA>\n",
       "9138  The Adventures of Sherlock Holmes and Doctor W...  <NA>\n",
       "9179                                  Nocturnal Animals  <NA>\n",
       "9259                                           Paterson  <NA>\n",
       "9367                                          Moonlight  <NA>\n",
       "9448                                             The OA  <NA>\n",
       "9514                                             Cosmos  <NA>\n",
       "9515                            Maria Bamford: Old Baby  <NA>\n",
       "9525                                  Generation Iron 2  <NA>\n",
       "9611                                       Black Mirror  <NA>"
      ]
     },
     "metadata": {},
     "output_type": "display_data"
    }
   ],
   "source": [
    "def split_title_year(title, regex):\n",
    "    x = regex.search(title)\n",
    "    if x:\n",
    "        title = x.group(1)\n",
    "        year = x.group(2)\n",
    "        year = int(year) if year else pd.NA\n",
    "    else:\n",
    "        year = pd.NA\n",
    "    \n",
    "    return pd.Series({\"title\": title, \"year\": year})\n",
    "\n",
    "title_year_re = re.compile(configs.dataset.title_regex, flags=0)        \n",
    "title_year = mvl_dataset.movies.title.apply(split_title_year, args=(title_year_re,))\n",
    "\n",
    "#\n",
    "# validation de l'extraction\n",
    "#\n",
    "print(\"Informations extraites:\", title_year.shape)\n",
    "print(\"Head\")\n",
    "display(title_year.head())\n",
    "clstr.show_na(title_year);"
   ]
  },
  {
   "cell_type": "markdown",
   "id": "63b581c8",
   "metadata": {},
   "source": [
    "Il manque quelques années de parution. Il est probablement possible de les fixer en utilisant **links.imdbId** avec le web scraping."
   ]
  },
  {
   "cell_type": "code",
   "execution_count": 7,
   "id": "1f3a9fa7",
   "metadata": {
    "ExecuteTime": {
     "end_time": "2023-08-09T18:33:19.142700Z",
     "start_time": "2023-08-09T18:33:17.048802Z"
    },
    "code_folding": [
     0,
     30
    ]
   },
   "outputs": [
    {
     "data": {
      "application/vnd.jupyter.widget-view+json": {
       "model_id": "4a35baa9882f4bcab72f4f2d7eedbf07",
       "version_major": 2,
       "version_minor": 0
      },
      "text/plain": [
       "  0%|          | 0/12 [00:00<?, ?it/s]"
      ]
     },
     "metadata": {},
     "output_type": "display_data"
    },
    {
     "name": "stdout",
     "output_type": "stream",
     "text": [
      "Web scraping year: 2.08s\n",
      "Valeur manquante 0 (0.0%)\n"
     ]
    }
   ],
   "source": [
    "def imdb_scap_year(response, index, imdbId):\n",
    "    success = False\n",
    "    if response.ok:\n",
    "        bs = BeautifulSoup(response.text, \"html.parser\")\n",
    "\n",
    "        imdb_info = bs.find(\"script\", attrs={\"type\": \"application/ld+json\"})\n",
    "        imdb_json = json.loads(imdb_info.text)\n",
    "        date_published = scrap.get_nested_property(imdb_json, [\"datePublished\"])\n",
    "        if not success and date_published:\n",
    "            date_published = pd.to_datetime(date_published)\n",
    "            year = date_published.year\n",
    "            success = True\n",
    "\n",
    "        imdb_info = bs.find(\"script\", attrs={\"type\": \"application/json\"})\n",
    "        imdb_json = json.loads(imdb_info.text)\n",
    "        releaseYear = scrap.get_nested_property(imdb_json, \n",
    "                                                [\"props\", \n",
    "                                                 \"pageProps\", \n",
    "                                                 \"mainColumnData\", \n",
    "                                                 \"releaseYear\",\n",
    "                                                 \"year\"])\n",
    "        if not success and releaseYear:\n",
    "            year = releaseYear\n",
    "            success = True\n",
    "\n",
    "    if success:\n",
    "        return (index, year, response.url)\n",
    "    else:\n",
    "        return (index, None, response.url)\n",
    "\n",
    "def imdb_scap_year_apply_results(final_results):\n",
    "    for index, year, url in final_results:\n",
    "        if year is None:\n",
    "            print(url, title_year.title[index], \"Failed\")\n",
    "        else:\n",
    "            title_year.year[index] = year\n",
    "\n",
    "#    \n",
    "# corriger year via web scraping avec imdb\n",
    "#\n",
    "year_na = title_year.year.isna()\n",
    "year_link = mvl_dataset.links.imdbId[ year_na ]\n",
    "\n",
    "if year_link.shape[0] > 0:\n",
    "    with hlp.Profile() as year_profile:\n",
    "        # par souci de temps d'iteration, nous avons parallelise les requetes\n",
    "        results = scrap.imdb_requests_parallel(year_link,\n",
    "                                               configs.web_scraping,\n",
    "                                               imdb_scap_year,\n",
    "                                               executor=configs.executor)\n",
    "        imdb_scap_year_apply_results(results)\n",
    "    print(f\"Web scraping year: {year_profile.round_duration(2)}s\")\n",
    "\n",
    "# validation du scraping\n",
    "clstr.show_na(title_year);"
   ]
  },
  {
   "cell_type": "code",
   "execution_count": 8,
   "id": "f64c90c9",
   "metadata": {
    "ExecuteTime": {
     "end_time": "2023-08-09T18:33:19.147543Z",
     "start_time": "2023-08-09T18:33:19.144432Z"
    }
   },
   "outputs": [],
   "source": [
    "#\n",
    "# mettre a jour movies\n",
    "#\n",
    "mvl_dataset.movies[\"year\"] = title_year.year.astype(np.int64)"
   ]
  },
  {
   "cell_type": "markdown",
   "id": "d7f456dc",
   "metadata": {},
   "source": [
    "Nous avons réussi à obtenir toutes les années. Nous devons inspecter l'effet de son retrait de **title**."
   ]
  },
  {
   "cell_type": "code",
   "execution_count": 9,
   "id": "21f934ca",
   "metadata": {
    "ExecuteTime": {
     "end_time": "2023-08-09T18:33:22.209285Z",
     "start_time": "2023-08-09T18:33:19.149377Z"
    },
    "code_folding": [
     9
    ]
   },
   "outputs": [
    {
     "name": "stdout",
     "output_type": "stream",
     "text": [
      "Titre sans l'année et le nombre de films qui lui correspond\n"
     ]
    },
    {
     "data": {
      "text/html": [
       "<div>\n",
       "<style scoped>\n",
       "    .dataframe tbody tr th:only-of-type {\n",
       "        vertical-align: middle;\n",
       "    }\n",
       "\n",
       "    .dataframe tbody tr th {\n",
       "        vertical-align: top;\n",
       "    }\n",
       "\n",
       "    .dataframe thead th {\n",
       "        text-align: right;\n",
       "    }\n",
       "</style>\n",
       "<table border=\"1\" class=\"dataframe\">\n",
       "  <thead>\n",
       "    <tr style=\"text-align: right;\">\n",
       "      <th></th>\n",
       "      <th>imdbIds</th>\n",
       "      <th>years</th>\n",
       "      <th>counts</th>\n",
       "    </tr>\n",
       "    <tr>\n",
       "      <th>title</th>\n",
       "      <th></th>\n",
       "      <th></th>\n",
       "      <th></th>\n",
       "    </tr>\n",
       "  </thead>\n",
       "  <tbody>\n",
       "    <tr>\n",
       "      <th>Hamlet</th>\n",
       "      <td>[0116477, 0040416, 0058175, 0171359, 0099726]</td>\n",
       "      <td>[1996, 1948, 1964, 2000, 1990]</td>\n",
       "      <td>5</td>\n",
       "    </tr>\n",
       "    <tr>\n",
       "      <th>Christmas Carol, A</th>\n",
       "      <td>[0029992, 1067106, 0216621, 0188504]</td>\n",
       "      <td>[1938, 2009, 1999, 1977]</td>\n",
       "      <td>4</td>\n",
       "    </tr>\n",
       "    <tr>\n",
       "      <th>Misérables, Les</th>\n",
       "      <td>[0113828, 0119683, 1707386, 0230534]</td>\n",
       "      <td>[1995, 1998, 2012, 2000]</td>\n",
       "      <td>4</td>\n",
       "    </tr>\n",
       "    <tr>\n",
       "      <th>Jane Eyre</th>\n",
       "      <td>[0116684, 0036969, 0065911, 1229822]</td>\n",
       "      <td>[1996, 1944, 1970, 2011]</td>\n",
       "      <td>4</td>\n",
       "    </tr>\n",
       "    <tr>\n",
       "      <th>Three Musketeers, The</th>\n",
       "      <td>[0108333, 0040876, 0072281, 1509767]</td>\n",
       "      <td>[1993, 1948, 1973, 2011]</td>\n",
       "      <td>4</td>\n",
       "    </tr>\n",
       "  </tbody>\n",
       "</table>\n",
       "</div>"
      ],
      "text/plain": [
       "                                                             imdbIds  \\\n",
       "title                                                                  \n",
       "Hamlet                 [0116477, 0040416, 0058175, 0171359, 0099726]   \n",
       "Christmas Carol, A              [0029992, 1067106, 0216621, 0188504]   \n",
       "Misérables, Les                 [0113828, 0119683, 1707386, 0230534]   \n",
       "Jane Eyre                       [0116684, 0036969, 0065911, 1229822]   \n",
       "Three Musketeers, The           [0108333, 0040876, 0072281, 1509767]   \n",
       "\n",
       "                                                years  counts  \n",
       "title                                                          \n",
       "Hamlet                 [1996, 1948, 1964, 2000, 1990]       5  \n",
       "Christmas Carol, A           [1938, 2009, 1999, 1977]       4  \n",
       "Misérables, Les              [1995, 1998, 2012, 2000]       4  \n",
       "Jane Eyre                    [1996, 1944, 1970, 2011]       4  \n",
       "Three Musketeers, The        [1993, 1948, 1973, 2011]       4  "
      ]
     },
     "metadata": {},
     "output_type": "display_data"
    }
   ],
   "source": [
    "#\n",
    "# validation effet extraction de l'annee de title\n",
    "#\n",
    "imdb_ids = mvl_dataset.links.imdbId[mvl_dataset.links.movieId == mvl_dataset.movies.movieId]\n",
    "\n",
    "title = mvl_dataset.movies[[\"movieId\", \"year\"]].copy()\n",
    "title[\"title\"] = title_year.title.copy()\n",
    "title[\"imdbId\"] = imdb_ids.copy()\n",
    "\n",
    "def title_agregate(dataframe):\n",
    "    return pd.Series({\"imdbIds\": dataframe.imdbId.unique(),\n",
    "                      \"years\": dataframe.year.unique(),\n",
    "                      \"counts\": dataframe.movieId.nunique()})\n",
    "\n",
    "groups = title.groupby(\"title\").apply(title_agregate)\n",
    "groups.sort_values(by=\"counts\", ascending=False, inplace=True)\n",
    "\n",
    "print(\"Titre sans l'année et le nombre de films qui lui correspond\")\n",
    "display(groups.head())"
   ]
  },
  {
   "cell_type": "markdown",
   "id": "aea018a4",
   "metadata": {},
   "source": [
    "Une inspection manuelle de [Hamlet 1996](http://www.imdb.com/title/tt0116477) et [Hamlet 1948](http://www.imdb.com/title/tt0040416) via IMDB permet de voir que l'année juxtaposée au titre est un identifiant unique. Nous devons donc garder **title** tel quel. La prochaine étape est d'enlever les éventuels doublons."
   ]
  },
  {
   "cell_type": "code",
   "execution_count": 10,
   "id": "2123f163",
   "metadata": {
    "ExecuteTime": {
     "end_time": "2023-08-09T18:33:22.219065Z",
     "start_time": "2023-08-09T18:33:22.210953Z"
    }
   },
   "outputs": [
    {
     "name": "stdout",
     "output_type": "stream",
     "text": [
      "Vérifier doublons\n",
      "Avant: (9742, 4)\n",
      "Après: (9742, 4)\n"
     ]
    }
   ],
   "source": [
    "#\n",
    "# validation doublons\n",
    "#\n",
    "print(\"Vérifier doublons\")\n",
    "print(\"Avant:\", mvl_dataset.movies.shape)\n",
    "mvl_dataset.movies.drop_duplicates(inplace=True)\n",
    "print(\"Après:\", mvl_dataset.movies.shape)"
   ]
  },
  {
   "cell_type": "markdown",
   "id": "11c5ed4b",
   "metadata": {},
   "source": [
    "Aucun doublon trouvé. Nous allons analyser **genres**."
   ]
  },
  {
   "cell_type": "code",
   "execution_count": 11,
   "id": "c695dfa3",
   "metadata": {
    "ExecuteTime": {
     "end_time": "2023-08-09T18:33:22.247645Z",
     "start_time": "2023-08-09T18:33:22.224256Z"
    },
    "code_folding": []
   },
   "outputs": [
    {
     "name": "stdout",
     "output_type": "stream",
     "text": [
      "Unique genres: 20\n"
     ]
    },
    {
     "data": {
      "text/html": [
       "<div>\n",
       "<style scoped>\n",
       "    .dataframe tbody tr th:only-of-type {\n",
       "        vertical-align: middle;\n",
       "    }\n",
       "\n",
       "    .dataframe tbody tr th {\n",
       "        vertical-align: top;\n",
       "    }\n",
       "\n",
       "    .dataframe thead th {\n",
       "        text-align: right;\n",
       "    }\n",
       "</style>\n",
       "<table border=\"1\" class=\"dataframe\">\n",
       "  <thead>\n",
       "    <tr style=\"text-align: right;\">\n",
       "      <th></th>\n",
       "      <th>(no genres listed)</th>\n",
       "      <th>Action</th>\n",
       "      <th>Adventure</th>\n",
       "      <th>Animation</th>\n",
       "      <th>Children</th>\n",
       "      <th>Comedy</th>\n",
       "      <th>Crime</th>\n",
       "      <th>Documentary</th>\n",
       "      <th>Drama</th>\n",
       "      <th>Fantasy</th>\n",
       "      <th>Film-Noir</th>\n",
       "      <th>Horror</th>\n",
       "      <th>IMAX</th>\n",
       "      <th>Musical</th>\n",
       "      <th>Mystery</th>\n",
       "      <th>Romance</th>\n",
       "      <th>Sci-Fi</th>\n",
       "      <th>Thriller</th>\n",
       "      <th>War</th>\n",
       "      <th>Western</th>\n",
       "    </tr>\n",
       "  </thead>\n",
       "  <tbody>\n",
       "    <tr>\n",
       "      <th># films</th>\n",
       "      <td>34</td>\n",
       "      <td>1828</td>\n",
       "      <td>1263</td>\n",
       "      <td>611</td>\n",
       "      <td>664</td>\n",
       "      <td>3756</td>\n",
       "      <td>1199</td>\n",
       "      <td>440</td>\n",
       "      <td>4361</td>\n",
       "      <td>779</td>\n",
       "      <td>87</td>\n",
       "      <td>978</td>\n",
       "      <td>158</td>\n",
       "      <td>334</td>\n",
       "      <td>573</td>\n",
       "      <td>1596</td>\n",
       "      <td>980</td>\n",
       "      <td>1894</td>\n",
       "      <td>382</td>\n",
       "      <td>167</td>\n",
       "    </tr>\n",
       "  </tbody>\n",
       "</table>\n",
       "</div>"
      ],
      "text/plain": [
       "         (no genres listed)  Action  Adventure  Animation  Children  Comedy  \\\n",
       "# films                  34    1828       1263        611       664    3756   \n",
       "\n",
       "         Crime  Documentary  Drama  Fantasy  Film-Noir  Horror  IMAX  Musical  \\\n",
       "# films   1199          440   4361      779         87     978   158      334   \n",
       "\n",
       "         Mystery  Romance  Sci-Fi  Thriller  War  Western  \n",
       "# films      573     1596     980      1894  382      167  "
      ]
     },
     "metadata": {},
     "output_type": "display_data"
    }
   ],
   "source": [
    "#\n",
    "# validation modalites genres\n",
    "#\n",
    "def show_unique_genres(sort_effectif=False, figsize=(6, 2.5)):\n",
    "    genres_count = {}\n",
    "\n",
    "    def add(genre):\n",
    "        if genre in genres_count:\n",
    "            genres_count[genre] += 1\n",
    "        else:\n",
    "            genres_count[genre] = 1\n",
    "    \n",
    "    for genres_str in mvl_dataset.movies.genres:\n",
    "        if genres_str is None:\n",
    "            add(None)\n",
    "        else:\n",
    "            genre_array = genres_str.split(configs.dataset.genre_splitter)\n",
    "            for genre in genre_array:\n",
    "                add(genre)\n",
    "\n",
    "    genres_df = pd.Series(data=genres_count.values(),\n",
    "                          index=genres_count.keys(),\n",
    "                          name=\"# films\")\n",
    "\n",
    "    if sort_effectif:\n",
    "        #genres_df /= mvl_dataset.movies.shape[0] / 100\n",
    "        genres_df.sort_values(ascending=False, inplace=True)\n",
    "    else:\n",
    "        genres_df.sort_index(inplace=True)\n",
    "\n",
    "    print(\"Unique genres:\", genres_df.shape[0])\n",
    "    display(genres_df.to_frame().T)\n",
    "    \n",
    "    return genres_df\n",
    "\n",
    "show_unique_genres();"
   ]
  },
  {
   "cell_type": "markdown",
   "id": "9e1c8962",
   "metadata": {
    "ExecuteTime": {
     "end_time": "2023-07-17T00:35:29.008411Z",
     "start_time": "2023-07-17T00:35:29.005017Z"
    }
   },
   "source": [
    "(no genres listed) semble être en fait des valeurs manquantes. Regardons les autres films ayant cette modalité."
   ]
  },
  {
   "cell_type": "code",
   "execution_count": 12,
   "id": "366e6826",
   "metadata": {
    "ExecuteTime": {
     "end_time": "2023-08-09T18:33:22.260872Z",
     "start_time": "2023-08-09T18:33:22.249372Z"
    },
    "code_folding": [
     3
    ]
   },
   "outputs": [
    {
     "name": "stdout",
     "output_type": "stream",
     "text": [
      "HEAD (no genres listed) 34\n"
     ]
    },
    {
     "data": {
      "text/html": [
       "<div>\n",
       "<style scoped>\n",
       "    .dataframe tbody tr th:only-of-type {\n",
       "        vertical-align: middle;\n",
       "    }\n",
       "\n",
       "    .dataframe tbody tr th {\n",
       "        vertical-align: top;\n",
       "    }\n",
       "\n",
       "    .dataframe thead th {\n",
       "        text-align: right;\n",
       "    }\n",
       "</style>\n",
       "<table border=\"1\" class=\"dataframe\">\n",
       "  <thead>\n",
       "    <tr style=\"text-align: right;\">\n",
       "      <th></th>\n",
       "      <th>movieId</th>\n",
       "      <th>title</th>\n",
       "      <th>genres</th>\n",
       "      <th>year</th>\n",
       "    </tr>\n",
       "  </thead>\n",
       "  <tbody>\n",
       "    <tr>\n",
       "      <th>8517</th>\n",
       "      <td>114335</td>\n",
       "      <td>La cravate (1957)</td>\n",
       "      <td>(no genres listed)</td>\n",
       "      <td>1957</td>\n",
       "    </tr>\n",
       "    <tr>\n",
       "      <th>8684</th>\n",
       "      <td>122888</td>\n",
       "      <td>Ben-hur (2016)</td>\n",
       "      <td>(no genres listed)</td>\n",
       "      <td>2016</td>\n",
       "    </tr>\n",
       "    <tr>\n",
       "      <th>8687</th>\n",
       "      <td>122896</td>\n",
       "      <td>Pirates of the Caribbean: Dead Men Tell No Tal...</td>\n",
       "      <td>(no genres listed)</td>\n",
       "      <td>2017</td>\n",
       "    </tr>\n",
       "    <tr>\n",
       "      <th>8782</th>\n",
       "      <td>129250</td>\n",
       "      <td>Superfast! (2015)</td>\n",
       "      <td>(no genres listed)</td>\n",
       "      <td>2015</td>\n",
       "    </tr>\n",
       "    <tr>\n",
       "      <th>8836</th>\n",
       "      <td>132084</td>\n",
       "      <td>Let It Be Me (1995)</td>\n",
       "      <td>(no genres listed)</td>\n",
       "      <td>1995</td>\n",
       "    </tr>\n",
       "  </tbody>\n",
       "</table>\n",
       "</div>"
      ],
      "text/plain": [
       "      movieId                                              title  \\\n",
       "8517   114335                                  La cravate (1957)   \n",
       "8684   122888                                     Ben-hur (2016)   \n",
       "8687   122896  Pirates of the Caribbean: Dead Men Tell No Tal...   \n",
       "8782   129250                                  Superfast! (2015)   \n",
       "8836   132084                                Let It Be Me (1995)   \n",
       "\n",
       "                  genres  year  \n",
       "8517  (no genres listed)  1957  \n",
       "8684  (no genres listed)  2016  \n",
       "8687  (no genres listed)  2017  \n",
       "8782  (no genres listed)  2015  \n",
       "8836  (no genres listed)  1995  "
      ]
     },
     "metadata": {},
     "output_type": "display_data"
    }
   ],
   "source": [
    "#\n",
    "# examiner (no genres listed)\n",
    "#    \n",
    "def show_no_genres():\n",
    "    no_genres_crit = mvl_dataset.movies.genres.str.contains(\"(no genres listed)\", regex=False)\n",
    "    no_genres = mvl_dataset.movies[no_genres_crit]\n",
    "    print(\"HEAD (no genres listed)\", no_genres.shape[0])\n",
    "    if no_genres.shape[0] > 0:\n",
    "        display(no_genres.head())\n",
    "    return no_genres.index\n",
    "    \n",
    "no_genres_index = show_no_genres()"
   ]
  },
  {
   "cell_type": "markdown",
   "id": "cb6165c1",
   "metadata": {},
   "source": [
    "On voit que (no genres listed) est toujours utilisé seul; il représente bien les valeurs manquantes. Nous allons utiliser le web scraping pour le remplacer."
   ]
  },
  {
   "cell_type": "code",
   "execution_count": 13,
   "id": "9f311dea",
   "metadata": {
    "ExecuteTime": {
     "end_time": "2023-08-09T18:33:28.467564Z",
     "start_time": "2023-08-09T18:33:22.263199Z"
    },
    "code_folding": [
     0,
     22
    ],
    "scrolled": false
   },
   "outputs": [
    {
     "data": {
      "application/vnd.jupyter.widget-view+json": {
       "model_id": "5f4761f6566a4001b54671172f61cfa3",
       "version_major": 2,
       "version_minor": 0
      },
      "text/plain": [
       "  0%|          | 0/34 [00:00<?, ?it/s]"
      ]
     },
     "metadata": {},
     "output_type": "display_data"
    },
    {
     "name": "stdout",
     "output_type": "stream",
     "text": [
      "Web scraping genres: 6.18s\n",
      "Unique genres: 24\n"
     ]
    },
    {
     "data": {
      "text/html": [
       "<div>\n",
       "<style scoped>\n",
       "    .dataframe tbody tr th:only-of-type {\n",
       "        vertical-align: middle;\n",
       "    }\n",
       "\n",
       "    .dataframe tbody tr th {\n",
       "        vertical-align: top;\n",
       "    }\n",
       "\n",
       "    .dataframe thead th {\n",
       "        text-align: right;\n",
       "    }\n",
       "</style>\n",
       "<table border=\"1\" class=\"dataframe\">\n",
       "  <thead>\n",
       "    <tr style=\"text-align: right;\">\n",
       "      <th></th>\n",
       "      <th>Drama</th>\n",
       "      <th>Comedy</th>\n",
       "      <th>Thriller</th>\n",
       "      <th>Action</th>\n",
       "      <th>Romance</th>\n",
       "      <th>Adventure</th>\n",
       "      <th>Crime</th>\n",
       "      <th>Sci-Fi</th>\n",
       "      <th>Horror</th>\n",
       "      <th>Fantasy</th>\n",
       "      <th>...</th>\n",
       "      <th>War</th>\n",
       "      <th>Musical</th>\n",
       "      <th>Western</th>\n",
       "      <th>IMAX</th>\n",
       "      <th>Film-Noir</th>\n",
       "      <th>Short</th>\n",
       "      <th>Music</th>\n",
       "      <th>Biography</th>\n",
       "      <th>Family</th>\n",
       "      <th>History</th>\n",
       "    </tr>\n",
       "  </thead>\n",
       "  <tbody>\n",
       "    <tr>\n",
       "      <th># films</th>\n",
       "      <td>4375</td>\n",
       "      <td>3767</td>\n",
       "      <td>1895</td>\n",
       "      <td>1833</td>\n",
       "      <td>1602</td>\n",
       "      <td>1266</td>\n",
       "      <td>1204</td>\n",
       "      <td>982</td>\n",
       "      <td>979</td>\n",
       "      <td>783</td>\n",
       "      <td>...</td>\n",
       "      <td>383</td>\n",
       "      <td>337</td>\n",
       "      <td>167</td>\n",
       "      <td>158</td>\n",
       "      <td>87</td>\n",
       "      <td>4</td>\n",
       "      <td>3</td>\n",
       "      <td>2</td>\n",
       "      <td>1</td>\n",
       "      <td>1</td>\n",
       "    </tr>\n",
       "  </tbody>\n",
       "</table>\n",
       "<p>1 rows × 24 columns</p>\n",
       "</div>"
      ],
      "text/plain": [
       "         Drama  Comedy  Thriller  Action  Romance  Adventure  Crime  Sci-Fi  \\\n",
       "# films   4375    3767      1895    1833     1602       1266   1204     982   \n",
       "\n",
       "         Horror  Fantasy  ...  War  Musical  Western  IMAX  Film-Noir  Short  \\\n",
       "# films     979      783  ...  383      337      167   158         87      4   \n",
       "\n",
       "         Music  Biography  Family  History  \n",
       "# films      3          2       1        1  \n",
       "\n",
       "[1 rows x 24 columns]"
      ]
     },
     "metadata": {},
     "output_type": "display_data"
    },
    {
     "name": "stdout",
     "output_type": "stream",
     "text": [
      "HEAD (no genres listed) 0\n"
     ]
    }
   ],
   "source": [
    "def imdb_scap_genres(response, index, imdbId):\n",
    "    success = False\n",
    "    if response.ok:\n",
    "        bs = BeautifulSoup(response.text, \"html.parser\")\n",
    "\n",
    "        imdb_info = bs.find(\"script\", attrs={\"type\": \"application/ld+json\"})\n",
    "        imdb_json = json.loads(imdb_info.text)\n",
    "                \n",
    "        genres = scrap.get_nested_property(imdb_json, [\"genre\"])\n",
    "        if not success and genres:\n",
    "            success = True\n",
    "        else:\n",
    "            error = json.dumps(imdb_json, indent=4)\n",
    "    else:\n",
    "        error = response.reason\n",
    "\n",
    "    if success:\n",
    "        return (index, genres, response.url, None)\n",
    "    else:\n",
    "        \n",
    "        return (index, None, response.url, error)\n",
    "\n",
    "def imdb_scap_genres_apply_results(final_results, genres_splitter):\n",
    "    for index, genres, url, error in final_results:\n",
    "        if genres is None:\n",
    "            if False:\n",
    "                print()\n",
    "                print(error)\n",
    "                print()\n",
    "\n",
    "            print(url, mvl_dataset.movies.title[index], \"Failed\")\n",
    "        else:\n",
    "            mvl_dataset.movies.loc[index, \"genres\"] = genres_splitter.join(genres)\n",
    "\n",
    "\n",
    "#\n",
    "# corriger genres via web scraping avec imdb\n",
    "#\n",
    "genres_imdbIds = mvl_dataset.links.imdbId[no_genres_index]\n",
    "\n",
    "if genres_imdbIds.shape[0] > 0:\n",
    "    with hlp.Profile() as genres_profile:\n",
    "        if True:\n",
    "            results = scrap.imdb_requests_parallel(genres_imdbIds, \n",
    "                                                   configs.web_scraping, \n",
    "                                                   imdb_scap_genres,\n",
    "                                                   executor=configs.executor)\n",
    "            imdb_scap_genres_apply_results(results, configs.dataset.genre_splitter)\n",
    "        else:\n",
    "            # les resultats ne sont pas appliques ici\n",
    "            # ce code n'existe que pour mesurer le gain du multithreading\n",
    "            scrap.imdb_requests(genres_imdbIds, \n",
    "                                configs.web_scraping, \n",
    "                                imdb_scap_genres)\n",
    "    print(f\"Web scraping genres: {genres_profile.round_duration(2)}s\")\n",
    "        \n",
    "show_unique_genres(sort_effectif=True)\n",
    "show_no_genres();"
   ]
  },
  {
   "cell_type": "markdown",
   "id": "97846735",
   "metadata": {},
   "source": [
    "Nous avons réussi à enlever (no genres listed) mais nous avons introduit des nouvelles modalités. Nous allons tenter d'en diminuer le nombre afin de contrôler la dimentionalité de **genres**. Nous allons donc:\n",
    "\n",
    "* les modalités avec un effectif de $\\le 4$ seront enlevées\n",
    "* Music et Musical sont synonymes, nous gardons Musical\n",
    "* IMAX n'est pas un genre mais bien un format de diffusion."
   ]
  },
  {
   "cell_type": "code",
   "execution_count": 14,
   "id": "686a60f3",
   "metadata": {
    "ExecuteTime": {
     "end_time": "2023-08-09T18:33:28.507658Z",
     "start_time": "2023-08-09T18:33:28.470046Z"
    },
    "code_folding": [
     0,
     3
    ]
   },
   "outputs": [
    {
     "name": "stdout",
     "output_type": "stream",
     "text": [
      "Genres nettoyés\n",
      "Valeur manquante 1 (0.0%)\n"
     ]
    },
    {
     "data": {
      "text/html": [
       "<div>\n",
       "<style scoped>\n",
       "    .dataframe tbody tr th:only-of-type {\n",
       "        vertical-align: middle;\n",
       "    }\n",
       "\n",
       "    .dataframe tbody tr th {\n",
       "        vertical-align: top;\n",
       "    }\n",
       "\n",
       "    .dataframe thead th {\n",
       "        text-align: right;\n",
       "    }\n",
       "</style>\n",
       "<table border=\"1\" class=\"dataframe\">\n",
       "  <thead>\n",
       "    <tr style=\"text-align: right;\">\n",
       "      <th></th>\n",
       "      <th>movieId</th>\n",
       "      <th>title</th>\n",
       "      <th>genres</th>\n",
       "      <th>year</th>\n",
       "    </tr>\n",
       "  </thead>\n",
       "  <tbody>\n",
       "    <tr>\n",
       "      <th>9611</th>\n",
       "      <td>176601</td>\n",
       "      <td>Black Mirror</td>\n",
       "      <td>None</td>\n",
       "      <td>2011</td>\n",
       "    </tr>\n",
       "  </tbody>\n",
       "</table>\n",
       "</div>"
      ],
      "text/plain": [
       "      movieId         title genres  year\n",
       "9611   176601  Black Mirror   None  2011"
      ]
     },
     "metadata": {},
     "output_type": "display_data"
    },
    {
     "name": "stdout",
     "output_type": "stream",
     "text": [
      "Unique genres: 19\n"
     ]
    },
    {
     "data": {
      "text/html": [
       "<div>\n",
       "<style scoped>\n",
       "    .dataframe tbody tr th:only-of-type {\n",
       "        vertical-align: middle;\n",
       "    }\n",
       "\n",
       "    .dataframe tbody tr th {\n",
       "        vertical-align: top;\n",
       "    }\n",
       "\n",
       "    .dataframe thead th {\n",
       "        text-align: right;\n",
       "    }\n",
       "</style>\n",
       "<table border=\"1\" class=\"dataframe\">\n",
       "  <thead>\n",
       "    <tr style=\"text-align: right;\">\n",
       "      <th></th>\n",
       "      <th>Drama</th>\n",
       "      <th>Comedy</th>\n",
       "      <th>Thriller</th>\n",
       "      <th>Action</th>\n",
       "      <th>Romance</th>\n",
       "      <th>Adventure</th>\n",
       "      <th>Crime</th>\n",
       "      <th>Sci-Fi</th>\n",
       "      <th>Horror</th>\n",
       "      <th>Fantasy</th>\n",
       "      <th>Children</th>\n",
       "      <th>Animation</th>\n",
       "      <th>Mystery</th>\n",
       "      <th>Documentary</th>\n",
       "      <th>War</th>\n",
       "      <th>Musical</th>\n",
       "      <th>Western</th>\n",
       "      <th>Film-Noir</th>\n",
       "      <th>None</th>\n",
       "    </tr>\n",
       "  </thead>\n",
       "  <tbody>\n",
       "    <tr>\n",
       "      <th># films</th>\n",
       "      <td>4375</td>\n",
       "      <td>3767</td>\n",
       "      <td>1895</td>\n",
       "      <td>1833</td>\n",
       "      <td>1602</td>\n",
       "      <td>1266</td>\n",
       "      <td>1204</td>\n",
       "      <td>982</td>\n",
       "      <td>979</td>\n",
       "      <td>783</td>\n",
       "      <td>664</td>\n",
       "      <td>614</td>\n",
       "      <td>576</td>\n",
       "      <td>445</td>\n",
       "      <td>383</td>\n",
       "      <td>339</td>\n",
       "      <td>167</td>\n",
       "      <td>87</td>\n",
       "      <td>1</td>\n",
       "    </tr>\n",
       "  </tbody>\n",
       "</table>\n",
       "</div>"
      ],
      "text/plain": [
       "         Drama  Comedy  Thriller  Action  Romance  Adventure  Crime  Sci-Fi  \\\n",
       "# films   4375    3767      1895    1833     1602       1266   1204     982   \n",
       "\n",
       "         Horror  Fantasy  Children  Animation  Mystery  Documentary  War  \\\n",
       "# films     979      783       664        614      576          445  383   \n",
       "\n",
       "         Musical  Western  Film-Noir  None  \n",
       "# films      339      167         87     1  "
      ]
     },
     "metadata": {},
     "output_type": "display_data"
    },
    {
     "name": "stdout",
     "output_type": "stream",
     "text": [
      "(9742, 4)\n"
     ]
    }
   ],
   "source": [
    "def split_genres_str(genres_str, splitter):\n",
    "    return genres_str.split(splitter)\n",
    "\n",
    "def clean_genres(genres_str, splitter, to_remove):\n",
    "    if genres_str is None or not isinstance(genres_str, str):\n",
    "        return genres_str\n",
    "    \n",
    "    genres_list = split_genres_str(genres_str, splitter)\n",
    "    genres_set = set(genres_list)\n",
    "    genres_set -= to_remove\n",
    "    \n",
    "    # bien que non portable, par souci d'efficacite\n",
    "    # transformation de Music et Musical ici\n",
    "    if \"Music\" in genres_set:\n",
    "        genres_set.remove(\"Music\")\n",
    "        genres_set.add(\"Musical\")\n",
    "\n",
    "    genres_str = splitter.join(genres_set)\n",
    "    if len(genres_str) == 0:\n",
    "        genres_str = None\n",
    "\n",
    "    return genres_str\n",
    "\n",
    "#\n",
    "# nettoyer les modalites de genres\n",
    "# Music et Musical sont aussi gere dans clean_genres\n",
    "#\n",
    "to_remove = [\"IMAX\", \"Short\", \"Biography\", \"Family\", \"History\"]\n",
    "to_remove = set(to_remove)\n",
    "cleaned_genres = mvl_dataset.movies.genres.apply(clean_genres, \n",
    "                                                 splitter=configs.dataset.genre_splitter,\n",
    "                                                 to_remove=to_remove)\n",
    "\n",
    "mvl_dataset.movies[\"genres\"] = cleaned_genres\n",
    "\n",
    "print(\"Genres nettoyés\")\n",
    "genres_na = clstr.show_na(mvl_dataset.movies)\n",
    "show_unique_genres(sort_effectif=True)\n",
    "print(mvl_dataset.movies.shape)"
   ]
  },
  {
   "cell_type": "markdown",
   "id": "5ab43f49",
   "metadata": {},
   "source": [
    "Certains films n'avaient que 1 seul genre et le retrait précédant crée 1 valeur manquante. Nous supprimons cet individu."
   ]
  },
  {
   "cell_type": "code",
   "execution_count": 15,
   "id": "b7557b40",
   "metadata": {
    "ExecuteTime": {
     "end_time": "2023-08-09T18:33:28.535035Z",
     "start_time": "2023-08-09T18:33:28.509599Z"
    }
   },
   "outputs": [
    {
     "name": "stdout",
     "output_type": "stream",
     "text": [
      "Unique genres: 18\n"
     ]
    },
    {
     "data": {
      "text/html": [
       "<div>\n",
       "<style scoped>\n",
       "    .dataframe tbody tr th:only-of-type {\n",
       "        vertical-align: middle;\n",
       "    }\n",
       "\n",
       "    .dataframe tbody tr th {\n",
       "        vertical-align: top;\n",
       "    }\n",
       "\n",
       "    .dataframe thead th {\n",
       "        text-align: right;\n",
       "    }\n",
       "</style>\n",
       "<table border=\"1\" class=\"dataframe\">\n",
       "  <thead>\n",
       "    <tr style=\"text-align: right;\">\n",
       "      <th></th>\n",
       "      <th>Drama</th>\n",
       "      <th>Comedy</th>\n",
       "      <th>Thriller</th>\n",
       "      <th>Action</th>\n",
       "      <th>Romance</th>\n",
       "      <th>Adventure</th>\n",
       "      <th>Crime</th>\n",
       "      <th>Sci-Fi</th>\n",
       "      <th>Horror</th>\n",
       "      <th>Fantasy</th>\n",
       "      <th>Children</th>\n",
       "      <th>Animation</th>\n",
       "      <th>Mystery</th>\n",
       "      <th>Documentary</th>\n",
       "      <th>War</th>\n",
       "      <th>Musical</th>\n",
       "      <th>Western</th>\n",
       "      <th>Film-Noir</th>\n",
       "    </tr>\n",
       "  </thead>\n",
       "  <tbody>\n",
       "    <tr>\n",
       "      <th># films</th>\n",
       "      <td>4375</td>\n",
       "      <td>3767</td>\n",
       "      <td>1895</td>\n",
       "      <td>1833</td>\n",
       "      <td>1602</td>\n",
       "      <td>1266</td>\n",
       "      <td>1204</td>\n",
       "      <td>982</td>\n",
       "      <td>979</td>\n",
       "      <td>783</td>\n",
       "      <td>664</td>\n",
       "      <td>614</td>\n",
       "      <td>576</td>\n",
       "      <td>445</td>\n",
       "      <td>383</td>\n",
       "      <td>339</td>\n",
       "      <td>167</td>\n",
       "      <td>87</td>\n",
       "    </tr>\n",
       "  </tbody>\n",
       "</table>\n",
       "</div>"
      ],
      "text/plain": [
       "         Drama  Comedy  Thriller  Action  Romance  Adventure  Crime  Sci-Fi  \\\n",
       "# films   4375    3767      1895    1833     1602       1266   1204     982   \n",
       "\n",
       "         Horror  Fantasy  Children  Animation  Mystery  Documentary  War  \\\n",
       "# films     979      783       664        614      576          445  383   \n",
       "\n",
       "         Musical  Western  Film-Noir  \n",
       "# films      339      167         87  "
      ]
     },
     "metadata": {},
     "output_type": "display_data"
    },
    {
     "name": "stdout",
     "output_type": "stream",
     "text": [
      "Valeur manquante 0 (0.0%)\n"
     ]
    }
   ],
   "source": [
    "mvl_dataset.movies.drop(index=genres_na, axis=0, inplace=True, errors=\"ignore\")\n",
    "\n",
    "# validation retrain NA de genres\n",
    "show_unique_genres(sort_effectif=True)\n",
    "clstr.show_na(mvl_dataset.movies);"
   ]
  },
  {
   "cell_type": "markdown",
   "id": "f969dde7",
   "metadata": {},
   "source": [
    "Il reste au final 18 modalités. Nous ajoutons **imdbId** afin d'avoir l'information dans une seule base de données."
   ]
  },
  {
   "cell_type": "code",
   "execution_count": 16,
   "id": "b0226bce",
   "metadata": {
    "ExecuteTime": {
     "end_time": "2023-08-09T18:33:28.579941Z",
     "start_time": "2023-08-09T18:33:28.536921Z"
    }
   },
   "outputs": [
    {
     "name": "stdout",
     "output_type": "stream",
     "text": [
      "Validation ajout imdbId\n"
     ]
    },
    {
     "data": {
      "text/html": [
       "<div>\n",
       "<style scoped>\n",
       "    .dataframe tbody tr th:only-of-type {\n",
       "        vertical-align: middle;\n",
       "    }\n",
       "\n",
       "    .dataframe tbody tr th {\n",
       "        vertical-align: top;\n",
       "    }\n",
       "\n",
       "    .dataframe thead th {\n",
       "        text-align: right;\n",
       "    }\n",
       "</style>\n",
       "<table border=\"1\" class=\"dataframe\">\n",
       "  <thead>\n",
       "    <tr style=\"text-align: right;\">\n",
       "      <th></th>\n",
       "      <th>movieId</th>\n",
       "      <th>imdbId</th>\n",
       "      <th>title</th>\n",
       "      <th>genres</th>\n",
       "      <th>year</th>\n",
       "    </tr>\n",
       "  </thead>\n",
       "  <tbody>\n",
       "    <tr>\n",
       "      <th>0</th>\n",
       "      <td>1</td>\n",
       "      <td>0114709</td>\n",
       "      <td>Toy Story (1995)</td>\n",
       "      <td>Fantasy|Children|Comedy|Adventure|Animation</td>\n",
       "      <td>1995</td>\n",
       "    </tr>\n",
       "    <tr>\n",
       "      <th>1</th>\n",
       "      <td>2</td>\n",
       "      <td>0113497</td>\n",
       "      <td>Jumanji (1995)</td>\n",
       "      <td>Children|Adventure|Fantasy</td>\n",
       "      <td>1995</td>\n",
       "    </tr>\n",
       "    <tr>\n",
       "      <th>2</th>\n",
       "      <td>3</td>\n",
       "      <td>0113228</td>\n",
       "      <td>Grumpier Old Men (1995)</td>\n",
       "      <td>Romance|Comedy</td>\n",
       "      <td>1995</td>\n",
       "    </tr>\n",
       "    <tr>\n",
       "      <th>3</th>\n",
       "      <td>4</td>\n",
       "      <td>0114885</td>\n",
       "      <td>Waiting to Exhale (1995)</td>\n",
       "      <td>Romance|Drama|Comedy</td>\n",
       "      <td>1995</td>\n",
       "    </tr>\n",
       "    <tr>\n",
       "      <th>4</th>\n",
       "      <td>5</td>\n",
       "      <td>0113041</td>\n",
       "      <td>Father of the Bride Part II (1995)</td>\n",
       "      <td>Comedy</td>\n",
       "      <td>1995</td>\n",
       "    </tr>\n",
       "  </tbody>\n",
       "</table>\n",
       "</div>"
      ],
      "text/plain": [
       "   movieId   imdbId                               title  \\\n",
       "0        1  0114709                    Toy Story (1995)   \n",
       "1        2  0113497                      Jumanji (1995)   \n",
       "2        3  0113228             Grumpier Old Men (1995)   \n",
       "3        4  0114885            Waiting to Exhale (1995)   \n",
       "4        5  0113041  Father of the Bride Part II (1995)   \n",
       "\n",
       "                                        genres  year  \n",
       "0  Fantasy|Children|Comedy|Adventure|Animation  1995  \n",
       "1                   Children|Adventure|Fantasy  1995  \n",
       "2                               Romance|Comedy  1995  \n",
       "3                         Romance|Drama|Comedy  1995  \n",
       "4                                       Comedy  1995  "
      ]
     },
     "metadata": {},
     "output_type": "display_data"
    }
   ],
   "source": [
    "#\n",
    "# ajout imdbId a movies\n",
    "#\n",
    "mvl_dataset.movies = pd.merge(mvl_dataset.movies, \n",
    "                              mvl_dataset.links[[\"movieId\", \"imdbId\"]],\n",
    "                              how=\"left\", \n",
    "                              on=\"movieId\")\n",
    "\n",
    "# pour faciliter la visualization, mettre imdbId au tout debut\n",
    "mvl_dataset.movies.insert(1, 'imdbId', mvl_dataset.movies.pop('imdbId'))\n",
    "\n",
    "# validation\n",
    "print(\"Validation ajout imdbId\")\n",
    "display(mvl_dataset.movies.head())"
   ]
  },
  {
   "cell_type": "markdown",
   "id": "9a0ee94f",
   "metadata": {},
   "source": [
    "# ratings.csv"
   ]
  },
  {
   "cell_type": "code",
   "execution_count": 17,
   "id": "61fade49",
   "metadata": {
    "ExecuteTime": {
     "end_time": "2023-08-09T18:33:28.602684Z",
     "start_time": "2023-08-09T18:33:28.583891Z"
    }
   },
   "outputs": [
    {
     "name": "stdout",
     "output_type": "stream",
     "text": [
      "Ratings (100836, 4)\n",
      "Head\n"
     ]
    },
    {
     "data": {
      "text/html": [
       "<div>\n",
       "<style scoped>\n",
       "    .dataframe tbody tr th:only-of-type {\n",
       "        vertical-align: middle;\n",
       "    }\n",
       "\n",
       "    .dataframe tbody tr th {\n",
       "        vertical-align: top;\n",
       "    }\n",
       "\n",
       "    .dataframe thead th {\n",
       "        text-align: right;\n",
       "    }\n",
       "</style>\n",
       "<table border=\"1\" class=\"dataframe\">\n",
       "  <thead>\n",
       "    <tr style=\"text-align: right;\">\n",
       "      <th></th>\n",
       "      <th>userId</th>\n",
       "      <th>movieId</th>\n",
       "      <th>rating</th>\n",
       "      <th>timestamp</th>\n",
       "    </tr>\n",
       "  </thead>\n",
       "  <tbody>\n",
       "    <tr>\n",
       "      <th>0</th>\n",
       "      <td>1</td>\n",
       "      <td>1</td>\n",
       "      <td>4.0</td>\n",
       "      <td>964982703</td>\n",
       "    </tr>\n",
       "    <tr>\n",
       "      <th>1</th>\n",
       "      <td>1</td>\n",
       "      <td>3</td>\n",
       "      <td>4.0</td>\n",
       "      <td>964981247</td>\n",
       "    </tr>\n",
       "    <tr>\n",
       "      <th>2</th>\n",
       "      <td>1</td>\n",
       "      <td>6</td>\n",
       "      <td>4.0</td>\n",
       "      <td>964982224</td>\n",
       "    </tr>\n",
       "    <tr>\n",
       "      <th>3</th>\n",
       "      <td>1</td>\n",
       "      <td>47</td>\n",
       "      <td>5.0</td>\n",
       "      <td>964983815</td>\n",
       "    </tr>\n",
       "    <tr>\n",
       "      <th>4</th>\n",
       "      <td>1</td>\n",
       "      <td>50</td>\n",
       "      <td>5.0</td>\n",
       "      <td>964982931</td>\n",
       "    </tr>\n",
       "  </tbody>\n",
       "</table>\n",
       "</div>"
      ],
      "text/plain": [
       "   userId  movieId  rating  timestamp\n",
       "0       1        1     4.0  964982703\n",
       "1       1        3     4.0  964981247\n",
       "2       1        6     4.0  964982224\n",
       "3       1       47     5.0  964983815\n",
       "4       1       50     5.0  964982931"
      ]
     },
     "metadata": {},
     "output_type": "display_data"
    },
    {
     "name": "stdout",
     "output_type": "stream",
     "text": [
      "Types\n"
     ]
    },
    {
     "data": {
      "text/html": [
       "<div>\n",
       "<style scoped>\n",
       "    .dataframe tbody tr th:only-of-type {\n",
       "        vertical-align: middle;\n",
       "    }\n",
       "\n",
       "    .dataframe tbody tr th {\n",
       "        vertical-align: top;\n",
       "    }\n",
       "\n",
       "    .dataframe thead th {\n",
       "        text-align: right;\n",
       "    }\n",
       "</style>\n",
       "<table border=\"1\" class=\"dataframe\">\n",
       "  <thead>\n",
       "    <tr style=\"text-align: right;\">\n",
       "      <th></th>\n",
       "      <th>userId</th>\n",
       "      <th>movieId</th>\n",
       "      <th>rating</th>\n",
       "      <th>timestamp</th>\n",
       "    </tr>\n",
       "  </thead>\n",
       "  <tbody>\n",
       "    <tr>\n",
       "      <th>Type</th>\n",
       "      <td>int64</td>\n",
       "      <td>int64</td>\n",
       "      <td>float64</td>\n",
       "      <td>int64</td>\n",
       "    </tr>\n",
       "  </tbody>\n",
       "</table>\n",
       "</div>"
      ],
      "text/plain": [
       "     userId movieId   rating timestamp\n",
       "Type  int64   int64  float64     int64"
      ]
     },
     "metadata": {},
     "output_type": "display_data"
    },
    {
     "name": "stdout",
     "output_type": "stream",
     "text": [
      "Valeur manquante 0 (0.0%)\n"
     ]
    }
   ],
   "source": [
    "print(\"Ratings\", mvl_dataset.ratings.shape)\n",
    "print(\"Head\")\n",
    "display(mvl_dataset.ratings.head())\n",
    "clstr.show_types(mvl_dataset.ratings)\n",
    "clstr.show_na(mvl_dataset.ratings);"
   ]
  },
  {
   "cell_type": "markdown",
   "id": "636f8ac4",
   "metadata": {},
   "source": [
    "* **rating**, bien que montré en nombre flottant, est en fait un système d'étoiles où la mesure de base est $\\frac{1}{2}$. Nous gardons en quantitatif pour le moment car il semble avantageux pour faire un lien avec les données dans **movies.csv**. L'implémentation du sytème de suggestions pourra décider s'il est pertinent de passer en catégoriel.\n",
    "* **timestamp** est en fait une date dans le format UTC. Ceci semble suggérer qu'un utilisateur peut avoir voté plus d'une fois pour le même film ou utiliser un système pour automatiser les votes pouvant ainsi biaiser les résultats.\n",
    "* les autres variables sont quantitatives\n",
    "\n",
    "Nous allons tenter de valider les utilisateurs en analysant **timestamp**"
   ]
  },
  {
   "cell_type": "code",
   "execution_count": 61,
   "id": "6f7690fa",
   "metadata": {
    "ExecuteTime": {
     "end_time": "2023-08-09T19:20:50.110053Z",
     "start_time": "2023-08-09T19:20:50.094498Z"
    }
   },
   "outputs": [
    {
     "name": "stdout",
     "output_type": "stream",
     "text": [
      "Nombre de votes par (userId, movieId): 1\n"
     ]
    }
   ],
   "source": [
    "#\n",
    "# verification nombre de votes par couple (utilisateur, film)\n",
    "#\n",
    "votes = mvl_dataset.ratings.groupby(by=[\"userId\", \"movieId\"]).size().max()\n",
    "print(\"Nombre de votes par (userId, movieId):\", votes)"
   ]
  },
  {
   "cell_type": "markdown",
   "id": "78f44236",
   "metadata": {},
   "source": [
    "Un seul vote par utilisateur par film, donc pas de doublon. Prochaine étape est de vérifier pour l'utilisation d'un système automatisé (notation trop fréquente)."
   ]
  },
  {
   "cell_type": "code",
   "execution_count": 19,
   "id": "7b38e4d4",
   "metadata": {
    "ExecuteTime": {
     "end_time": "2023-08-09T18:33:29.009248Z",
     "start_time": "2023-08-09T18:33:28.631948Z"
    },
    "code_folding": [
     3,
     6,
     29,
     59
    ]
   },
   "outputs": [
    {
     "data": {
      "text/html": [
       "<div style='float: left;padding: 0px 25px 0px 0px;'><style type=\"text/css\">\n",
       "#T_09c6f caption {\n",
       "  color: black;\n",
       "  font-size: 120%;\n",
       "  font-weight: normal;\n",
       "}\n",
       "</style>\n",
       "<table id=\"T_09c6f\">\n",
       "  <caption>User les plus rapide</caption>\n",
       "  <thead>\n",
       "    <tr>\n",
       "      <th class=\"blank level0\" >&nbsp;</th>\n",
       "      <th id=\"T_09c6f_level0_col0\" class=\"col_heading level0 col0\" >rating_count</th>\n",
       "      <th id=\"T_09c6f_level0_col1\" class=\"col_heading level0 col1\" >dt_sec</th>\n",
       "      <th id=\"T_09c6f_level0_col2\" class=\"col_heading level0 col2\" >dt_expanded</th>\n",
       "      <th id=\"T_09c6f_level0_col3\" class=\"col_heading level0 col3\" >rating_freq</th>\n",
       "    </tr>\n",
       "    <tr>\n",
       "      <th class=\"index_name level0\" >userId</th>\n",
       "      <th class=\"blank col0\" >&nbsp;</th>\n",
       "      <th class=\"blank col1\" >&nbsp;</th>\n",
       "      <th class=\"blank col2\" >&nbsp;</th>\n",
       "      <th class=\"blank col3\" >&nbsp;</th>\n",
       "    </tr>\n",
       "  </thead>\n",
       "  <tbody>\n",
       "    <tr>\n",
       "      <th id=\"T_09c6f_level0_row0\" class=\"row_heading level0 row0\" >163</th>\n",
       "      <td id=\"T_09c6f_row0_col0\" class=\"data row0 col0\" >23</td>\n",
       "      <td id=\"T_09c6f_row0_col1\" class=\"data row0 col1\" >38</td>\n",
       "      <td id=\"T_09c6f_row0_col2\" class=\"data row0 col2\" >38s</td>\n",
       "      <td id=\"T_09c6f_row0_col3\" class=\"data row0 col3\" >605.263158</td>\n",
       "    </tr>\n",
       "    <tr>\n",
       "      <th id=\"T_09c6f_level0_row1\" class=\"row_heading level0 row1\" >147</th>\n",
       "      <td id=\"T_09c6f_row1_col0\" class=\"data row1 col0\" >20</td>\n",
       "      <td id=\"T_09c6f_row1_col1\" class=\"data row1 col1\" >45</td>\n",
       "      <td id=\"T_09c6f_row1_col2\" class=\"data row1 col2\" >45s</td>\n",
       "      <td id=\"T_09c6f_row1_col3\" class=\"data row1 col3\" >444.444444</td>\n",
       "    </tr>\n",
       "    <tr>\n",
       "      <th id=\"T_09c6f_level0_row2\" class=\"row_heading level0 row2\" >429</th>\n",
       "      <td id=\"T_09c6f_row2_col0\" class=\"data row2 col0\" >58</td>\n",
       "      <td id=\"T_09c6f_row2_col1\" class=\"data row2 col1\" >147</td>\n",
       "      <td id=\"T_09c6f_row2_col2\" class=\"data row2 col2\" >2m 27s</td>\n",
       "      <td id=\"T_09c6f_row2_col3\" class=\"data row2 col3\" >394.557823</td>\n",
       "    </tr>\n",
       "    <tr>\n",
       "      <th id=\"T_09c6f_level0_row3\" class=\"row_heading level0 row3\" >89</th>\n",
       "      <td id=\"T_09c6f_row3_col0\" class=\"data row3 col0\" >518</td>\n",
       "      <td id=\"T_09c6f_row3_col1\" class=\"data row3 col1\" >1393</td>\n",
       "      <td id=\"T_09c6f_row3_col2\" class=\"data row3 col2\" >23m 13s</td>\n",
       "      <td id=\"T_09c6f_row3_col3\" class=\"data row3 col3\" >371.859296</td>\n",
       "    </tr>\n",
       "    <tr>\n",
       "      <th id=\"T_09c6f_level0_row4\" class=\"row_heading level0 row4\" >53</th>\n",
       "      <td id=\"T_09c6f_row4_col0\" class=\"data row4 col0\" >20</td>\n",
       "      <td id=\"T_09c6f_row4_col1\" class=\"data row4 col1\" >59</td>\n",
       "      <td id=\"T_09c6f_row4_col2\" class=\"data row4 col2\" >59s</td>\n",
       "      <td id=\"T_09c6f_row4_col3\" class=\"data row4 col3\" >338.983051</td>\n",
       "    </tr>\n",
       "  </tbody>\n",
       "</table>\n",
       "</div><div style='float: left;padding: 0px 25px 0px 0px;'><style type=\"text/css\">\n",
       "#T_a2216 caption {\n",
       "  color: black;\n",
       "  font-size: 120%;\n",
       "  font-weight: normal;\n",
       "}\n",
       "</style>\n",
       "<table id=\"T_a2216\">\n",
       "  <caption>User les moins rapide</caption>\n",
       "  <thead>\n",
       "    <tr>\n",
       "      <th class=\"blank level0\" >&nbsp;</th>\n",
       "      <th id=\"T_a2216_level0_col0\" class=\"col_heading level0 col0\" >rating_count</th>\n",
       "      <th id=\"T_a2216_level0_col1\" class=\"col_heading level0 col1\" >dt_sec</th>\n",
       "      <th id=\"T_a2216_level0_col2\" class=\"col_heading level0 col2\" >dt_expanded</th>\n",
       "      <th id=\"T_a2216_level0_col3\" class=\"col_heading level0 col3\" >rating_freq</th>\n",
       "    </tr>\n",
       "    <tr>\n",
       "      <th class=\"index_name level0\" >userId</th>\n",
       "      <th class=\"blank col0\" >&nbsp;</th>\n",
       "      <th class=\"blank col1\" >&nbsp;</th>\n",
       "      <th class=\"blank col2\" >&nbsp;</th>\n",
       "      <th class=\"blank col3\" >&nbsp;</th>\n",
       "    </tr>\n",
       "  </thead>\n",
       "  <tbody>\n",
       "    <tr>\n",
       "      <th id=\"T_a2216_level0_row0\" class=\"row_heading level0 row0\" >430</th>\n",
       "      <td id=\"T_a2216_row0_col0\" class=\"data row0 col0\" >58</td>\n",
       "      <td id=\"T_a2216_row0_col1\" class=\"data row0 col1\" >273668512</td>\n",
       "      <td id=\"T_a2216_row0_col2\" class=\"data row0 col2\" >8y</td>\n",
       "      <td id=\"T_a2216_row0_col3\" class=\"data row0 col3\" >0.000212</td>\n",
       "    </tr>\n",
       "    <tr>\n",
       "      <th id=\"T_a2216_level0_row1\" class=\"row_heading level0 row1\" >543</th>\n",
       "      <td id=\"T_a2216_row1_col0\" class=\"data row1 col0\" >76</td>\n",
       "      <td id=\"T_a2216_row1_col1\" class=\"data row1 col1\" >178207424</td>\n",
       "      <td id=\"T_a2216_row1_col2\" class=\"data row1 col2\" >5y</td>\n",
       "      <td id=\"T_a2216_row1_col3\" class=\"data row1 col3\" >0.000426</td>\n",
       "    </tr>\n",
       "    <tr>\n",
       "      <th id=\"T_a2216_level0_row2\" class=\"row_heading level0 row2\" >443</th>\n",
       "      <td id=\"T_a2216_row2_col0\" class=\"data row2 col0\" >37</td>\n",
       "      <td id=\"T_a2216_row2_col1\" class=\"data row2 col1\" >81486422</td>\n",
       "      <td id=\"T_a2216_row2_col2\" class=\"data row2 col2\" >2y</td>\n",
       "      <td id=\"T_a2216_row2_col3\" class=\"data row2 col3\" >0.000454</td>\n",
       "    </tr>\n",
       "    <tr>\n",
       "      <th id=\"T_a2216_level0_row3\" class=\"row_heading level0 row3\" >172</th>\n",
       "      <td id=\"T_a2216_row3_col0\" class=\"data row3 col0\" >26</td>\n",
       "      <td id=\"T_a2216_row3_col1\" class=\"data row3 col1\" >52349725</td>\n",
       "      <td id=\"T_a2216_row3_col2\" class=\"data row3 col2\" >1y</td>\n",
       "      <td id=\"T_a2216_row3_col3\" class=\"data row3 col3\" >0.000497</td>\n",
       "    </tr>\n",
       "    <tr>\n",
       "      <th id=\"T_a2216_level0_row4\" class=\"row_heading level0 row4\" >341</th>\n",
       "      <td id=\"T_a2216_row4_col0\" class=\"data row4 col0\" >52</td>\n",
       "      <td id=\"T_a2216_row4_col1\" class=\"data row4 col1\" >82423700</td>\n",
       "      <td id=\"T_a2216_row4_col2\" class=\"data row4 col2\" >2y</td>\n",
       "      <td id=\"T_a2216_row4_col3\" class=\"data row4 col3\" >0.000631</td>\n",
       "    </tr>\n",
       "  </tbody>\n",
       "</table>\n",
       "</div>"
      ],
      "text/plain": [
       "<IPython.core.display.HTML object>"
      ]
     },
     "metadata": {},
     "output_type": "display_data"
    },
    {
     "name": "stdout",
     "output_type": "stream",
     "text": [
      "\n",
      "Stats générale\n"
     ]
    },
    {
     "data": {
      "text/html": [
       "<div style='float: left;padding: 0px 25px 0px 0px;'><style type=\"text/css\">\n",
       "</style>\n",
       "<table id=\"T_a4d19\">\n",
       "  <thead>\n",
       "    <tr>\n",
       "      <th class=\"blank level0\" >&nbsp;</th>\n",
       "      <th id=\"T_a4d19_level0_col0\" class=\"col_heading level0 col0\" >rating_freq</th>\n",
       "    </tr>\n",
       "  </thead>\n",
       "  <tbody>\n",
       "    <tr>\n",
       "      <th id=\"T_a4d19_level0_row0\" class=\"row_heading level0 row0\" >count</th>\n",
       "      <td id=\"T_a4d19_row0_col0\" class=\"data row0 col0\" >610.000000</td>\n",
       "    </tr>\n",
       "    <tr>\n",
       "      <th id=\"T_a4d19_level0_row1\" class=\"row_heading level0 row1\" >mean</th>\n",
       "      <td id=\"T_a4d19_row1_col0\" class=\"data row1 col0\" >39.423830</td>\n",
       "    </tr>\n",
       "    <tr>\n",
       "      <th id=\"T_a4d19_level0_row2\" class=\"row_heading level0 row2\" >std</th>\n",
       "      <td id=\"T_a4d19_row2_col0\" class=\"data row2 col0\" >60.607342</td>\n",
       "    </tr>\n",
       "    <tr>\n",
       "      <th id=\"T_a4d19_level0_row3\" class=\"row_heading level0 row3\" >min</th>\n",
       "      <td id=\"T_a4d19_row3_col0\" class=\"data row3 col0\" >0.000212</td>\n",
       "    </tr>\n",
       "    <tr>\n",
       "      <th id=\"T_a4d19_level0_row4\" class=\"row_heading level0 row4\" >25%</th>\n",
       "      <td id=\"T_a4d19_row4_col0\" class=\"data row4 col0\" >0.040348</td>\n",
       "    </tr>\n",
       "    <tr>\n",
       "      <th id=\"T_a4d19_level0_row5\" class=\"row_heading level0 row5\" >50%</th>\n",
       "      <td id=\"T_a4d19_row5_col0\" class=\"data row5 col0\" >16.786110</td>\n",
       "    </tr>\n",
       "    <tr>\n",
       "      <th id=\"T_a4d19_level0_row6\" class=\"row_heading level0 row6\" >75%</th>\n",
       "      <td id=\"T_a4d19_row6_col0\" class=\"data row6 col0\" >62.192679</td>\n",
       "    </tr>\n",
       "    <tr>\n",
       "      <th id=\"T_a4d19_level0_row7\" class=\"row_heading level0 row7\" >max</th>\n",
       "      <td id=\"T_a4d19_row7_col0\" class=\"data row7 col0\" >605.263158</td>\n",
       "    </tr>\n",
       "  </tbody>\n",
       "</table>\n",
       "</div><div style='float: left;padding: 0px 25px 0px 0px;'><style type=\"text/css\">\n",
       "</style>\n",
       "<table id=\"T_51f90\">\n",
       "  <thead>\n",
       "    <tr>\n",
       "      <th class=\"blank level0\" >&nbsp;</th>\n",
       "      <th id=\"T_51f90_level0_col0\" class=\"col_heading level0 col0\" >rating_count</th>\n",
       "    </tr>\n",
       "  </thead>\n",
       "  <tbody>\n",
       "    <tr>\n",
       "      <th id=\"T_51f90_level0_row0\" class=\"row_heading level0 row0\" >count</th>\n",
       "      <td id=\"T_51f90_row0_col0\" class=\"data row0 col0\" >610.000000</td>\n",
       "    </tr>\n",
       "    <tr>\n",
       "      <th id=\"T_51f90_level0_row1\" class=\"row_heading level0 row1\" >mean</th>\n",
       "      <td id=\"T_51f90_row1_col0\" class=\"data row1 col0\" >165.304918</td>\n",
       "    </tr>\n",
       "    <tr>\n",
       "      <th id=\"T_51f90_level0_row2\" class=\"row_heading level0 row2\" >std</th>\n",
       "      <td id=\"T_51f90_row2_col0\" class=\"data row2 col0\" >269.480584</td>\n",
       "    </tr>\n",
       "    <tr>\n",
       "      <th id=\"T_51f90_level0_row3\" class=\"row_heading level0 row3\" >min</th>\n",
       "      <td id=\"T_51f90_row3_col0\" class=\"data row3 col0\" >20.000000</td>\n",
       "    </tr>\n",
       "    <tr>\n",
       "      <th id=\"T_51f90_level0_row4\" class=\"row_heading level0 row4\" >25%</th>\n",
       "      <td id=\"T_51f90_row4_col0\" class=\"data row4 col0\" >35.000000</td>\n",
       "    </tr>\n",
       "    <tr>\n",
       "      <th id=\"T_51f90_level0_row5\" class=\"row_heading level0 row5\" >50%</th>\n",
       "      <td id=\"T_51f90_row5_col0\" class=\"data row5 col0\" >70.500000</td>\n",
       "    </tr>\n",
       "    <tr>\n",
       "      <th id=\"T_51f90_level0_row6\" class=\"row_heading level0 row6\" >75%</th>\n",
       "      <td id=\"T_51f90_row6_col0\" class=\"data row6 col0\" >168.000000</td>\n",
       "    </tr>\n",
       "    <tr>\n",
       "      <th id=\"T_51f90_level0_row7\" class=\"row_heading level0 row7\" >max</th>\n",
       "      <td id=\"T_51f90_row7_col0\" class=\"data row7 col0\" >2698.000000</td>\n",
       "    </tr>\n",
       "  </tbody>\n",
       "</table>\n",
       "</div>"
      ],
      "text/plain": [
       "<IPython.core.display.HTML object>"
      ]
     },
     "metadata": {},
     "output_type": "display_data"
    },
    {
     "data": {
      "image/png": "[encoded data removed]",
      "text/plain": [
       "<Figure size 700x300 with 1 Axes>"
      ]
     },
     "metadata": {},
     "output_type": "display_data"
    }
   ],
   "source": [
    "#\n",
    "# verification frequence de notation par utilisateur\n",
    "#\n",
    "def dt_sec(data):\n",
    "    return data.max() - data.min()\n",
    "\n",
    "def dt_expanded(data):\n",
    "    utc_min = datetime.utcfromtimestamp(data.min())\n",
    "    utc_max = datetime.utcfromtimestamp(data.max())\n",
    "    dt_full = relativedelta(utc_max, utc_min)\n",
    "    \n",
    "    full = []\n",
    "    if dt_full.years > 0:\n",
    "        full.append(f\"{dt_full.years}y\")\n",
    "    elif dt_full.months > 0:\n",
    "        full.append(f\"{dt_full.months}m\")\n",
    "    elif dt_full.days > 0:\n",
    "        full.append(f\"{dt_full.days}d\")\n",
    "    elif dt_full.hours > 0:\n",
    "        full.append(f\"{dt_full.hours}h\")\n",
    "    else:\n",
    "        if dt_full.minutes > 0:\n",
    "            full.append(f\"{dt_full.minutes}m\")\n",
    "\n",
    "        if dt_full.seconds > 0:\n",
    "            full.append(f\"{dt_full.seconds}s\")\n",
    "    \n",
    "    return \" \".join(full)\n",
    "\n",
    "def rating_freq(data):\n",
    "    num = data.shape[0]\n",
    "    freq = num / dt_sec(data)\n",
    "    # mHz pour mieux voir ecarts\n",
    "    return freq * 1000\n",
    "\n",
    "user_ratings = mvl_dataset.ratings[[\"userId\", \"rating\", \"timestamp\"]] \\\n",
    "                          .groupby(by=\"userId\") \\\n",
    "                          .agg(rating_count=(\"rating\", \"count\"), \n",
    "                               dt_sec=(\"timestamp\", dt_sec),\n",
    "                               dt_expanded=(\"timestamp\", dt_expanded),\n",
    "                               rating_freq=(\"timestamp\", rating_freq))\n",
    "\n",
    "rating_freq_stats = user_ratings.rating_freq.describe().to_frame()\n",
    "rating_cout_stats = user_ratings.rating_count.describe().to_frame()\n",
    "fastest_users = user_ratings.nlargest(5, \"rating_freq\")\n",
    "slowest_users = user_ratings.nsmallest(5, \"rating_freq\")\n",
    "\n",
    "html = jup.horizontify(jup.caption_df(fastest_users.style, \"User les plus rapide\", caption_bold=False), \n",
    "                       jup.caption_df(slowest_users.style, \"User les moins rapide\", caption_bold=False))\n",
    "jup.display_html(html)\n",
    "\n",
    "print()\n",
    "print(\"Stats générale\")\n",
    "html = jup.horizontify(rating_freq_stats.style, rating_cout_stats.style)\n",
    "jup.display_html(html)\n",
    "\n",
    "#\n",
    "# visualiser rating_count vs rating_freq\n",
    "#\n",
    "def rating_count_vs_freq(user_ratings, critOutliers=None, figsize=(7, 3)):\n",
    "    plt.figure(figsize=figsize)\n",
    "    \n",
    "    if critOutliers is None:\n",
    "        plt.scatter(user_ratings.rating_count, user_ratings.rating_freq, s=5)\n",
    "    else:\n",
    "        outliers = user_ratings[critOutliers]\n",
    "        plt.scatter(outliers.rating_count, outliers.rating_freq, s=5, label=\"Outliers\")\n",
    "        \n",
    "        inliers = user_ratings[~critOutliers]\n",
    "        plt.scatter(inliers.rating_count, inliers.rating_freq, s=5, label=\"Inliers\")\n",
    "        \n",
    "        plt.legend()\n",
    "    \n",
    "    plt.grid(True)\n",
    "    plt.xlabel(\"Rating Count\")\n",
    "    plt.ylabel(\"Rating Freq (mHz)\")\n",
    "    plt.show()\n",
    "    \n",
    "rating_count_vs_freq(user_ratings)"
   ]
  },
  {
   "cell_type": "markdown",
   "id": "f36fec80",
   "metadata": {},
   "source": [
    "Les utilisateurs ont votés relativement souvent (20 votes ou plus) mais la distribution est très allongée et fortement concentrée dans les valeurs faible. Le graphe ci-haut suggère que beaucoup de notation semblent avoir étés fait de façon très rapide. Pour illustrer, le user *163* aurait voté 23 fois en 38 secondes (~2 secondes par vote) mais le user *172* aurait pris 1 an pour ses 26 votes. Faute d'informations supplémentaires, nous suspectons un système automatisé et enlevons les utilisateurs ayant une fréquence jugée trop élevée.<br><br>\n",
    "    \n",
    "En absolue:\n",
    "$$\n",
    "\\begin{align}\n",
    "threshold &= Q_3 + 1.5 * IQR\\\\\n",
    "          &= 62.19 + 1.5 * (62.19 - 0.04)\\\\\n",
    "          &= 155.36\\\\\n",
    "\\end{align}\n",
    "$$\n",
    "  \n",
    "Une approche basée sur le clustering, plus particulièrement DBSCAN, trouvera les éléments isolés dans le graphe."
   ]
  },
  {
   "cell_type": "code",
   "execution_count": 20,
   "id": "92926edd",
   "metadata": {
    "ExecuteTime": {
     "end_time": "2023-08-09T18:33:29.128791Z",
     "start_time": "2023-08-09T18:33:29.011295Z"
    }
   },
   "outputs": [
    {
     "data": {
      "image/png": "[encoded data removed]",
      "text/plain": [
       "<Figure size 600x350 with 1 Axes>"
      ]
     },
     "metadata": {},
     "output_type": "display_data"
    }
   ],
   "source": [
    "#\n",
    "# cluster par dbscan pour découvrir les outliers\n",
    "#\n",
    "coords = user_ratings[[\"rating_count\", \"rating_freq\"]]\n",
    "clstr.dbscan_eps_analysis(coords, figsize=(6, 3.5))"
   ]
  },
  {
   "cell_type": "code",
   "execution_count": 21,
   "id": "f0222995",
   "metadata": {
    "ExecuteTime": {
     "end_time": "2023-08-09T18:33:35.905459Z",
     "start_time": "2023-08-09T18:33:29.131361Z"
    }
   },
   "outputs": [
    {
     "name": "stdout",
     "output_type": "stream",
     "text": [
      "DBSCAN optimal parameters\n",
      "eps: 45.5\n",
      "min_samples: 3\n",
      "silhouette score: 0.7382\n",
      "# clusters: 4 + ouliers\n"
     ]
    },
    {
     "data": {
      "image/png": "[encoded data removed]",
      "text/plain": [
       "<Figure size 700x350 with 1 Axes>"
      ]
     },
     "metadata": {},
     "output_type": "display_data"
    }
   ],
   "source": [
    "eps_, min_samples_ = clstr.dbscan_parameters_analysis(coords, \n",
    "                                                      eps_range=np.arange(30, 50, 0.5),\n",
    "                                                      min_samples_range=range(2, 20))\n",
    "dbscan_ = clstr.dbscan_init(coords, eps_, min_samples_)\n",
    "clstr.show_clusters(coords, \n",
    "                    user_ratings.index, \n",
    "                    dbscan_.labels_, \n",
    "                    figsize=(7, 3.5),\n",
    "                    text_alpha=0, \n",
    "                    marker_size=5)"
   ]
  },
  {
   "cell_type": "code",
   "execution_count": 22,
   "id": "2a7537e8",
   "metadata": {
    "ExecuteTime": {
     "end_time": "2023-08-09T18:33:36.065166Z",
     "start_time": "2023-08-09T18:33:35.907974Z"
    }
   },
   "outputs": [
    {
     "name": "stdout",
     "output_type": "stream",
     "text": [
      "Nombre de user outliers 28\n"
     ]
    },
    {
     "data": {
      "image/png": "[encoded data removed]",
      "text/plain": [
       "<Figure size 700x300 with 1 Axes>"
      ]
     },
     "metadata": {},
     "output_type": "display_data"
    }
   ],
   "source": [
    "#\n",
    "# detecter les utilisateurs juges outliers\n",
    "#\n",
    "critA = dbscan_.labels_ == -1\n",
    "\n",
    "# dbscan marque certaines basses frequences \n",
    "# s'assurer de les garder\n",
    "critB = user_ratings.rating_freq > 1\n",
    "\n",
    "# IQR threshold\n",
    "critC = user_ratings.rating_freq >= 155.36\n",
    "\n",
    "# combiner tous les criteres d'outliers\n",
    "critOutliers = critA & critB | critC\n",
    "\n",
    "print(\"Nombre de user outliers\", np.count_nonzero(critOutliers))\n",
    "rating_count_vs_freq(user_ratings, critOutliers)"
   ]
  },
  {
   "cell_type": "code",
   "execution_count": 23,
   "id": "a185928d",
   "metadata": {
    "ExecuteTime": {
     "end_time": "2023-08-09T18:33:36.073855Z",
     "start_time": "2023-08-09T18:33:36.066499Z"
    }
   },
   "outputs": [
    {
     "name": "stdout",
     "output_type": "stream",
     "text": [
      "ratings avant retrait: 100836\n",
      "ratings après retrait: 96841\n"
     ]
    }
   ],
   "source": [
    "#\n",
    "# enlever les utilisateurs juges outliers\n",
    "#\n",
    "user_to_remove = user_ratings[critOutliers].index.to_list()\n",
    "user_to_remove = mvl_dataset.ratings.userId.isin(user_to_remove)\n",
    "user_to_remove = mvl_dataset.ratings[user_to_remove]\n",
    "\n",
    "print(\"ratings avant retrait:\", mvl_dataset.ratings.shape[0])\n",
    "mvl_dataset.ratings.drop(user_to_remove.index, inplace=True, errors=\"ignore\")\n",
    "print(\"ratings après retrait:\", mvl_dataset.ratings.shape[0])"
   ]
  },
  {
   "cell_type": "markdown",
   "id": "6deddb6a",
   "metadata": {},
   "source": [
    "Il apparait judicieux d'extraire quelques statistiques sur **rating** afin d'augmenter **movies.csv**."
   ]
  },
  {
   "cell_type": "code",
   "execution_count": 24,
   "id": "a9ce4615",
   "metadata": {
    "ExecuteTime": {
     "end_time": "2023-08-09T18:33:39.451430Z",
     "start_time": "2023-08-09T18:33:36.075447Z"
    },
    "code_folding": [
     0,
     4,
     8
    ],
    "scrolled": false
   },
   "outputs": [
    {
     "name": "stdout",
     "output_type": "stream",
     "text": [
      "Rating stats (9461, 5)\n",
      "Head\n"
     ]
    },
    {
     "data": {
      "text/html": [
       "<div>\n",
       "<style scoped>\n",
       "    .dataframe tbody tr th:only-of-type {\n",
       "        vertical-align: middle;\n",
       "    }\n",
       "\n",
       "    .dataframe tbody tr th {\n",
       "        vertical-align: top;\n",
       "    }\n",
       "\n",
       "    .dataframe thead th {\n",
       "        text-align: right;\n",
       "    }\n",
       "</style>\n",
       "<table border=\"1\" class=\"dataframe\">\n",
       "  <thead>\n",
       "    <tr style=\"text-align: right;\">\n",
       "      <th></th>\n",
       "      <th>movieId</th>\n",
       "      <th>rating_count</th>\n",
       "      <th>rating_mode</th>\n",
       "      <th>rating_mean</th>\n",
       "      <th>rating_median</th>\n",
       "    </tr>\n",
       "  </thead>\n",
       "  <tbody>\n",
       "    <tr>\n",
       "      <th>0</th>\n",
       "      <td>1</td>\n",
       "      <td>204</td>\n",
       "      <td>4.0</td>\n",
       "      <td>3.91</td>\n",
       "      <td>4.0</td>\n",
       "    </tr>\n",
       "    <tr>\n",
       "      <th>1</th>\n",
       "      <td>2</td>\n",
       "      <td>104</td>\n",
       "      <td>4.0</td>\n",
       "      <td>3.43</td>\n",
       "      <td>3.5</td>\n",
       "    </tr>\n",
       "    <tr>\n",
       "      <th>2</th>\n",
       "      <td>3</td>\n",
       "      <td>47</td>\n",
       "      <td>3.0</td>\n",
       "      <td>3.27</td>\n",
       "      <td>3.0</td>\n",
       "    </tr>\n",
       "    <tr>\n",
       "      <th>3</th>\n",
       "      <td>4</td>\n",
       "      <td>7</td>\n",
       "      <td>3.0</td>\n",
       "      <td>2.36</td>\n",
       "      <td>3.0</td>\n",
       "    </tr>\n",
       "    <tr>\n",
       "      <th>4</th>\n",
       "      <td>5</td>\n",
       "      <td>44</td>\n",
       "      <td>3.0</td>\n",
       "      <td>3.02</td>\n",
       "      <td>3.0</td>\n",
       "    </tr>\n",
       "  </tbody>\n",
       "</table>\n",
       "</div>"
      ],
      "text/plain": [
       "   movieId  rating_count  rating_mode  rating_mean  rating_median\n",
       "0        1           204          4.0         3.91            4.0\n",
       "1        2           104          4.0         3.43            3.5\n",
       "2        3            47          3.0         3.27            3.0\n",
       "3        4             7          3.0         2.36            3.0\n",
       "4        5            44          3.0         3.02            3.0"
      ]
     },
     "metadata": {},
     "output_type": "display_data"
    }
   ],
   "source": [
    "def mode(ratings):\n",
    "    # prendre le mode le plus grand\n",
    "    return ratings.mode().iloc[-1]\n",
    "\n",
    "def median_keep_category(ratings):\n",
    "    # garder les modalites de ratings si nombre de valeurs est impaire\n",
    "    return ratings.quantile(interpolation=\"nearest\")\n",
    "\n",
    "def join_name(multi_index_name):\n",
    "    if \"\" in multi_index_name:\n",
    "        return multi_index_name[0]\n",
    "    else:\n",
    "        return \"_\".join(multi_index_name)\n",
    "\n",
    "\n",
    "#\n",
    "# creer de nouvelles variables\n",
    "#\n",
    "ratings_stats = mvl_dataset.ratings[[\"movieId\", \"rating\"]] \\\n",
    "                           .groupby(by=\"movieId\") \\\n",
    "                           .agg([\"count\", (\"mode\", mode), \"mean\", (\"median\", median_keep_category)])\n",
    "ratings_stats.columns = [join_name(a) for a in ratings_stats.columns.to_flat_index()]\n",
    "ratings_stats.reset_index(inplace=True)\n",
    "print(\"Rating stats\", ratings_stats.shape)\n",
    "print(\"Head\")\n",
    "display(ratings_stats.head().round(2))"
   ]
  },
  {
   "cell_type": "code",
   "execution_count": 25,
   "id": "85163f04",
   "metadata": {
    "ExecuteTime": {
     "end_time": "2023-08-09T18:33:39.472450Z",
     "start_time": "2023-08-09T18:33:39.453636Z"
    }
   },
   "outputs": [
    {
     "name": "stdout",
     "output_type": "stream",
     "text": [
      "Valeur manquante 281 (2.9%)\n"
     ]
    },
    {
     "data": {
      "text/html": [
       "<div>\n",
       "<style scoped>\n",
       "    .dataframe tbody tr th:only-of-type {\n",
       "        vertical-align: middle;\n",
       "    }\n",
       "\n",
       "    .dataframe tbody tr th {\n",
       "        vertical-align: top;\n",
       "    }\n",
       "\n",
       "    .dataframe thead th {\n",
       "        text-align: right;\n",
       "    }\n",
       "</style>\n",
       "<table border=\"1\" class=\"dataframe\">\n",
       "  <thead>\n",
       "    <tr style=\"text-align: right;\">\n",
       "      <th></th>\n",
       "      <th>movieId</th>\n",
       "      <th>imdbId</th>\n",
       "      <th>title</th>\n",
       "      <th>genres</th>\n",
       "      <th>year</th>\n",
       "      <th>rating_count</th>\n",
       "      <th>rating_mode</th>\n",
       "      <th>rating_mean</th>\n",
       "      <th>rating_median</th>\n",
       "    </tr>\n",
       "  </thead>\n",
       "  <tbody>\n",
       "    <tr>\n",
       "      <th>256</th>\n",
       "      <td>295</td>\n",
       "      <td>0114210</td>\n",
       "      <td>Pyromaniac's Love Story, A (1995)</td>\n",
       "      <td>Romance|Comedy</td>\n",
       "      <td>1995</td>\n",
       "      <td>NaN</td>\n",
       "      <td>NaN</td>\n",
       "      <td>NaN</td>\n",
       "      <td>NaN</td>\n",
       "    </tr>\n",
       "    <tr>\n",
       "      <th>258</th>\n",
       "      <td>298</td>\n",
       "      <td>0105652</td>\n",
       "      <td>Pushing Hands (Tui shou) (1992)</td>\n",
       "      <td>Drama</td>\n",
       "      <td>1992</td>\n",
       "      <td>NaN</td>\n",
       "      <td>NaN</td>\n",
       "      <td>NaN</td>\n",
       "      <td>NaN</td>\n",
       "    </tr>\n",
       "    <tr>\n",
       "      <th>816</th>\n",
       "      <td>1076</td>\n",
       "      <td>0055018</td>\n",
       "      <td>Innocents, The (1961)</td>\n",
       "      <td>Drama|Horror|Thriller</td>\n",
       "      <td>1961</td>\n",
       "      <td>NaN</td>\n",
       "      <td>NaN</td>\n",
       "      <td>NaN</td>\n",
       "      <td>NaN</td>\n",
       "    </tr>\n",
       "    <tr>\n",
       "      <th>1026</th>\n",
       "      <td>1337</td>\n",
       "      <td>0037549</td>\n",
       "      <td>Body Snatcher, The (1945)</td>\n",
       "      <td>Drama|Horror|Thriller</td>\n",
       "      <td>1945</td>\n",
       "      <td>NaN</td>\n",
       "      <td>NaN</td>\n",
       "      <td>NaN</td>\n",
       "      <td>NaN</td>\n",
       "    </tr>\n",
       "    <tr>\n",
       "      <th>1098</th>\n",
       "      <td>1427</td>\n",
       "      <td>0120390</td>\n",
       "      <td>Turbulence (1997)</td>\n",
       "      <td>Thriller|Action</td>\n",
       "      <td>1997</td>\n",
       "      <td>NaN</td>\n",
       "      <td>NaN</td>\n",
       "      <td>NaN</td>\n",
       "      <td>NaN</td>\n",
       "    </tr>\n",
       "    <tr>\n",
       "      <th>...</th>\n",
       "      <td>...</td>\n",
       "      <td>...</td>\n",
       "      <td>...</td>\n",
       "      <td>...</td>\n",
       "      <td>...</td>\n",
       "      <td>...</td>\n",
       "      <td>...</td>\n",
       "      <td>...</td>\n",
       "      <td>...</td>\n",
       "    </tr>\n",
       "    <tr>\n",
       "      <th>9725</th>\n",
       "      <td>190209</td>\n",
       "      <td>7620650</td>\n",
       "      <td>Jeff Ross Roasts the Border (2017)</td>\n",
       "      <td>Comedy</td>\n",
       "      <td>2017</td>\n",
       "      <td>NaN</td>\n",
       "      <td>NaN</td>\n",
       "      <td>NaN</td>\n",
       "      <td>NaN</td>\n",
       "    </tr>\n",
       "    <tr>\n",
       "      <th>9726</th>\n",
       "      <td>190213</td>\n",
       "      <td>3977428</td>\n",
       "      <td>John From (2015)</td>\n",
       "      <td>Drama</td>\n",
       "      <td>2015</td>\n",
       "      <td>NaN</td>\n",
       "      <td>NaN</td>\n",
       "      <td>NaN</td>\n",
       "      <td>NaN</td>\n",
       "    </tr>\n",
       "    <tr>\n",
       "      <th>9727</th>\n",
       "      <td>190215</td>\n",
       "      <td>7293380</td>\n",
       "      <td>Liquid Truth (2017)</td>\n",
       "      <td>Drama</td>\n",
       "      <td>2017</td>\n",
       "      <td>NaN</td>\n",
       "      <td>NaN</td>\n",
       "      <td>NaN</td>\n",
       "      <td>NaN</td>\n",
       "    </tr>\n",
       "    <tr>\n",
       "      <th>9728</th>\n",
       "      <td>190219</td>\n",
       "      <td>0179011</td>\n",
       "      <td>Bunny (1998)</td>\n",
       "      <td>Animation</td>\n",
       "      <td>1998</td>\n",
       "      <td>NaN</td>\n",
       "      <td>NaN</td>\n",
       "      <td>NaN</td>\n",
       "      <td>NaN</td>\n",
       "    </tr>\n",
       "    <tr>\n",
       "      <th>9729</th>\n",
       "      <td>190221</td>\n",
       "      <td>3333182</td>\n",
       "      <td>Hommage à Zgougou (et salut à Sabine Mamou) (2...</td>\n",
       "      <td>Documentary</td>\n",
       "      <td>2002</td>\n",
       "      <td>NaN</td>\n",
       "      <td>NaN</td>\n",
       "      <td>NaN</td>\n",
       "      <td>NaN</td>\n",
       "    </tr>\n",
       "  </tbody>\n",
       "</table>\n",
       "<p>281 rows × 9 columns</p>\n",
       "</div>"
      ],
      "text/plain": [
       "      movieId   imdbId                                              title  \\\n",
       "256       295  0114210                  Pyromaniac's Love Story, A (1995)   \n",
       "258       298  0105652                    Pushing Hands (Tui shou) (1992)   \n",
       "816      1076  0055018                              Innocents, The (1961)   \n",
       "1026     1337  0037549                          Body Snatcher, The (1945)   \n",
       "1098     1427  0120390                                  Turbulence (1997)   \n",
       "...       ...      ...                                                ...   \n",
       "9725   190209  7620650                 Jeff Ross Roasts the Border (2017)   \n",
       "9726   190213  3977428                                   John From (2015)   \n",
       "9727   190215  7293380                                Liquid Truth (2017)   \n",
       "9728   190219  0179011                                       Bunny (1998)   \n",
       "9729   190221  3333182  Hommage à Zgougou (et salut à Sabine Mamou) (2...   \n",
       "\n",
       "                     genres  year  rating_count  rating_mode  rating_mean  \\\n",
       "256          Romance|Comedy  1995           NaN          NaN          NaN   \n",
       "258                   Drama  1992           NaN          NaN          NaN   \n",
       "816   Drama|Horror|Thriller  1961           NaN          NaN          NaN   \n",
       "1026  Drama|Horror|Thriller  1945           NaN          NaN          NaN   \n",
       "1098        Thriller|Action  1997           NaN          NaN          NaN   \n",
       "...                     ...   ...           ...          ...          ...   \n",
       "9725                 Comedy  2017           NaN          NaN          NaN   \n",
       "9726                  Drama  2015           NaN          NaN          NaN   \n",
       "9727                  Drama  2017           NaN          NaN          NaN   \n",
       "9728              Animation  1998           NaN          NaN          NaN   \n",
       "9729            Documentary  2002           NaN          NaN          NaN   \n",
       "\n",
       "      rating_median  \n",
       "256             NaN  \n",
       "258             NaN  \n",
       "816             NaN  \n",
       "1026            NaN  \n",
       "1098            NaN  \n",
       "...             ...  \n",
       "9725            NaN  \n",
       "9726            NaN  \n",
       "9727            NaN  \n",
       "9728            NaN  \n",
       "9729            NaN  \n",
       "\n",
       "[281 rows x 9 columns]"
      ]
     },
     "metadata": {},
     "output_type": "display_data"
    }
   ],
   "source": [
    "#\n",
    "# valider que ratings_stats contient bien les meme films que movies.csv\n",
    "#\n",
    "movies_ratings = pd.merge(mvl_dataset.movies, ratings_stats, how=\"left\", on=\"movieId\")\n",
    "movies_ratings_na = clstr.show_na(movies_ratings)"
   ]
  },
  {
   "cell_type": "markdown",
   "id": "3b0ffc7b",
   "metadata": {},
   "source": [
    "Tous les films n'ont pas reçu de votes. Nous pourrions utiliser le web scraping pour déterminer **rating_mean** mais l'échelle sur IMDB n'est pas la même que MovieLens. De plus les autres statistiques ne pourraient pas être extraites. Comme il n'y a que très peu d'éléments manquants, on les ignore."
   ]
  },
  {
   "cell_type": "code",
   "execution_count": 26,
   "id": "55513c6a",
   "metadata": {
    "ExecuteTime": {
     "end_time": "2023-08-09T18:33:39.485117Z",
     "start_time": "2023-08-09T18:33:39.474298Z"
    }
   },
   "outputs": [
    {
     "name": "stdout",
     "output_type": "stream",
     "text": [
      "movies_ratings avant retrait: (9741, 9)\n",
      "movies_ratings après retrait: (9460, 9)\n",
      "\n",
      "Types\n"
     ]
    },
    {
     "data": {
      "text/html": [
       "<div>\n",
       "<style scoped>\n",
       "    .dataframe tbody tr th:only-of-type {\n",
       "        vertical-align: middle;\n",
       "    }\n",
       "\n",
       "    .dataframe tbody tr th {\n",
       "        vertical-align: top;\n",
       "    }\n",
       "\n",
       "    .dataframe thead th {\n",
       "        text-align: right;\n",
       "    }\n",
       "</style>\n",
       "<table border=\"1\" class=\"dataframe\">\n",
       "  <thead>\n",
       "    <tr style=\"text-align: right;\">\n",
       "      <th></th>\n",
       "      <th>movieId</th>\n",
       "      <th>imdbId</th>\n",
       "      <th>title</th>\n",
       "      <th>genres</th>\n",
       "      <th>year</th>\n",
       "      <th>rating_count</th>\n",
       "      <th>rating_mode</th>\n",
       "      <th>rating_mean</th>\n",
       "      <th>rating_median</th>\n",
       "    </tr>\n",
       "  </thead>\n",
       "  <tbody>\n",
       "    <tr>\n",
       "      <th>Type</th>\n",
       "      <td>int64</td>\n",
       "      <td>object</td>\n",
       "      <td>object</td>\n",
       "      <td>object</td>\n",
       "      <td>int64</td>\n",
       "      <td>float64</td>\n",
       "      <td>float64</td>\n",
       "      <td>float64</td>\n",
       "      <td>float64</td>\n",
       "    </tr>\n",
       "  </tbody>\n",
       "</table>\n",
       "</div>"
      ],
      "text/plain": [
       "     movieId  imdbId   title  genres   year rating_count rating_mode  \\\n",
       "Type   int64  object  object  object  int64      float64     float64   \n",
       "\n",
       "     rating_mean rating_median  \n",
       "Type     float64       float64  "
      ]
     },
     "metadata": {},
     "output_type": "display_data"
    }
   ],
   "source": [
    "#\n",
    "# enlever valeurs manquantes et valider avec shape resultante\n",
    "#\n",
    "print(\"movies_ratings avant retrait:\", movies_ratings.shape)\n",
    "movies_ratings.drop(index=movies_ratings_na, axis=0, inplace=True, errors=\"ignore\")\n",
    "print(\"movies_ratings après retrait:\", movies_ratings.shape)\n",
    "\n",
    "print()\n",
    "\n",
    "#\n",
    "# valider les types (drop() peut changer les choses du aux NA)\n",
    "#\n",
    "clstr.show_types(movies_ratings)"
   ]
  },
  {
   "cell_type": "code",
   "execution_count": 27,
   "id": "9d309cea",
   "metadata": {
    "ExecuteTime": {
     "end_time": "2023-08-09T18:33:39.489958Z",
     "start_time": "2023-08-09T18:33:39.486886Z"
    }
   },
   "outputs": [],
   "source": [
    "#\n",
    "# rating_count est en fait un entier, changer son type\n",
    "#\n",
    "movies_ratings.rating_count = movies_ratings.rating_count.astype(np.int64)"
   ]
  },
  {
   "cell_type": "markdown",
   "id": "7968a899",
   "metadata": {},
   "source": [
    "# Exploration des nouvelles variables"
   ]
  },
  {
   "cell_type": "code",
   "execution_count": 28,
   "id": "02f8e344",
   "metadata": {
    "ExecuteTime": {
     "end_time": "2023-08-09T18:33:39.495837Z",
     "start_time": "2023-08-09T18:33:39.491838Z"
    }
   },
   "outputs": [],
   "source": [
    "#\n",
    "# separe quantitatif et qualitatif\n",
    "#\n",
    "quant_cols = [\"rating_mode\", \"rating_median\", \"rating_mean\", \"rating_count\", \"year\"]\n",
    "quant_df = movies_ratings[quant_cols]\n",
    "\n",
    "qual_cols = [\"genres\"]\n",
    "qual_df = movies_ratings[qual_cols]"
   ]
  },
  {
   "cell_type": "code",
   "execution_count": 29,
   "id": "83ba7572",
   "metadata": {
    "ExecuteTime": {
     "end_time": "2023-08-09T18:33:40.882200Z",
     "start_time": "2023-08-09T18:33:39.505573Z"
    }
   },
   "outputs": [
    {
     "name": "stdout",
     "output_type": "stream",
     "text": [
      "Stats générales - variables quantitatives\n"
     ]
    },
    {
     "data": {
      "text/html": [
       "<div>\n",
       "<style scoped>\n",
       "    .dataframe tbody tr th:only-of-type {\n",
       "        vertical-align: middle;\n",
       "    }\n",
       "\n",
       "    .dataframe tbody tr th {\n",
       "        vertical-align: top;\n",
       "    }\n",
       "\n",
       "    .dataframe thead th {\n",
       "        text-align: right;\n",
       "    }\n",
       "</style>\n",
       "<table border=\"1\" class=\"dataframe\">\n",
       "  <thead>\n",
       "    <tr style=\"text-align: right;\">\n",
       "      <th></th>\n",
       "      <th>count</th>\n",
       "      <th>mean</th>\n",
       "      <th>std</th>\n",
       "      <th>min</th>\n",
       "      <th>25%</th>\n",
       "      <th>50%</th>\n",
       "      <th>75%</th>\n",
       "      <th>max</th>\n",
       "    </tr>\n",
       "  </thead>\n",
       "  <tbody>\n",
       "    <tr>\n",
       "      <th>rating_mode</th>\n",
       "      <td>9460.0</td>\n",
       "      <td>3.48</td>\n",
       "      <td>0.97</td>\n",
       "      <td>0.5</td>\n",
       "      <td>3.00</td>\n",
       "      <td>3.5</td>\n",
       "      <td>4.00</td>\n",
       "      <td>5.0</td>\n",
       "    </tr>\n",
       "    <tr>\n",
       "      <th>rating_median</th>\n",
       "      <td>9460.0</td>\n",
       "      <td>3.22</td>\n",
       "      <td>0.94</td>\n",
       "      <td>0.5</td>\n",
       "      <td>3.00</td>\n",
       "      <td>3.5</td>\n",
       "      <td>4.00</td>\n",
       "      <td>5.0</td>\n",
       "    </tr>\n",
       "    <tr>\n",
       "      <th>rating_mean</th>\n",
       "      <td>9460.0</td>\n",
       "      <td>3.24</td>\n",
       "      <td>0.86</td>\n",
       "      <td>0.5</td>\n",
       "      <td>2.77</td>\n",
       "      <td>3.4</td>\n",
       "      <td>3.88</td>\n",
       "      <td>5.0</td>\n",
       "    </tr>\n",
       "    <tr>\n",
       "      <th>rating_count</th>\n",
       "      <td>9460.0</td>\n",
       "      <td>10.24</td>\n",
       "      <td>21.77</td>\n",
       "      <td>1.0</td>\n",
       "      <td>1.00</td>\n",
       "      <td>3.0</td>\n",
       "      <td>9.00</td>\n",
       "      <td>319.0</td>\n",
       "    </tr>\n",
       "    <tr>\n",
       "      <th>year</th>\n",
       "      <td>9460.0</td>\n",
       "      <td>1994.64</td>\n",
       "      <td>18.38</td>\n",
       "      <td>1902.0</td>\n",
       "      <td>1988.00</td>\n",
       "      <td>1999.0</td>\n",
       "      <td>2008.00</td>\n",
       "      <td>2018.0</td>\n",
       "    </tr>\n",
       "  </tbody>\n",
       "</table>\n",
       "</div>"
      ],
      "text/plain": [
       "                count     mean    std     min      25%     50%      75%  \\\n",
       "rating_mode    9460.0     3.48   0.97     0.5     3.00     3.5     4.00   \n",
       "rating_median  9460.0     3.22   0.94     0.5     3.00     3.5     4.00   \n",
       "rating_mean    9460.0     3.24   0.86     0.5     2.77     3.4     3.88   \n",
       "rating_count   9460.0    10.24  21.77     1.0     1.00     3.0     9.00   \n",
       "year           9460.0  1994.64  18.38  1902.0  1988.00  1999.0  2008.00   \n",
       "\n",
       "                  max  \n",
       "rating_mode       5.0  \n",
       "rating_median     5.0  \n",
       "rating_mean       5.0  \n",
       "rating_count    319.0  \n",
       "year           2018.0  "
      ]
     },
     "metadata": {},
     "output_type": "display_data"
    },
    {
     "name": "stdout",
     "output_type": "stream",
     "text": [
      "\n",
      "Distributions - variables quantitatives\n"
     ]
    },
    {
     "data": {
      "image/png": "[encoded data removed]",
      "text/plain": [
       "<Figure size 1000x350 with 6 Axes>"
      ]
     },
     "metadata": {},
     "output_type": "display_data"
    },
    {
     "name": "stdout",
     "output_type": "stream",
     "text": [
      "Détails rating_count\n"
     ]
    },
    {
     "data": {
      "image/png": "[encoded data removed]",
      "text/plain": [
       "<Figure size 1000x250 with 2 Axes>"
      ]
     },
     "metadata": {},
     "output_type": "display_data"
    }
   ],
   "source": [
    "#\n",
    "# inspection stats et distributions\n",
    "#\n",
    "print(\"Stats générales - variables quantitatives\")\n",
    "display(quant_df.describe().T.round(2))\n",
    "print()\n",
    "print(\"Distributions - variables quantitatives\")\n",
    "clstr.show_distributions(quant_df, num_cols=3, figsize=(10, 3.5))\n",
    "\n",
    "print(\"Détails rating_count\")\n",
    "plt.figure(figsize=(10, 2.5))\n",
    "\n",
    "plt.subplot(121)\n",
    "plt.scatter(quant_df.rating_count, quant_df.year, s=1)\n",
    "plt.xlabel(\"rating_count\")\n",
    "plt.ylabel(\"year\")\n",
    "\n",
    "plt.subplot(122)\n",
    "plt.scatter(quant_df.rating_count, quant_df.rating_mean, s=1)\n",
    "plt.xlabel(\"rating_count\")\n",
    "plt.ylabel(\"rating_mean\")\n",
    "\n",
    "plt.tight_layout()\n",
    "plt.show()"
   ]
  },
  {
   "cell_type": "markdown",
   "id": "44f217f6",
   "metadata": {},
   "source": [
    "<br>**year**\n",
    "\n",
    "Les films sont relativement récents: peak autour de l'an 2000. La base de données couvre un large spectre et la distribution est allongée (queue à gauche).\n",
    "    \n",
    "<br>**rating_count**\n",
    "\n",
    "Les films sont majoritairement notés par peu de personnes. La distribution très alongée avec un très fort peak dans les faibles valeurs: 75% de la population a moins de 9 votes, 25% n'en a qu'un seul. On pourrait interpréter cette métrique comme une mesure de \"consensus\" sur **rating** mais les 2 derniers graphes montrent bien que ce n'est pas le cas. Les spectres de **year** et **rating** sont couverts. Cette métrique sera enlevée.\n",
    "    \n",
    "<br>**rating_mode**, **rating_median** et **rating_mean**\n",
    "\n",
    "Distributions très près d'une gaussienne et multimodales (on voit bien l'effet du système de notation). Elles sont aussi très similaire entre elles. La majorités des votes sont entre [3, 4]. Il nous apparait plus juste de choisir **rating_mode** pour représenter la variable originelle **rating**. Elle garde l'aspect qualitatif du système de notation et représente la majorité des votes. **rating_mean** n'est pas adéquat car, comme vu plus haut, il y a peu données par film en général et elles contiennent le spectre complet du domaine."
   ]
  },
  {
   "cell_type": "code",
   "execution_count": 30,
   "id": "61c38ea8",
   "metadata": {
    "ExecuteTime": {
     "end_time": "2023-08-09T18:33:40.888653Z",
     "start_time": "2023-08-09T18:33:40.883742Z"
    }
   },
   "outputs": [],
   "source": [
    "#\n",
    "# enlever rating_count, rating_median et rating_mean\n",
    "#\n",
    "to_remove = [\"rating_count\", \"rating_median\", \"rating_mean\"]\n",
    "movies_ratings.drop(to_remove, axis=1, inplace=True, errors=\"ignore\")\n",
    "quant_df = quant_df.drop(to_remove, axis=1, errors=\"ignore\")"
   ]
  },
  {
   "cell_type": "markdown",
   "id": "b870e9a1",
   "metadata": {},
   "source": [
    "# Valeurs aberrantes\n",
    "\n",
    "La distribution de **year** pourrait suggérer des valeurs aberrantes. Une inspection manuelle de quelques valeurs via IMDB montre que ces films existent bel et bien même s'il date du début du siècle. Les autres variables sont de nature qualitative et sont donc sans valeur aberrante."
   ]
  },
  {
   "cell_type": "code",
   "execution_count": 33,
   "id": "65580028",
   "metadata": {
    "ExecuteTime": {
     "end_time": "2023-08-09T18:34:00.721409Z",
     "start_time": "2023-08-09T18:34:00.084158Z"
    },
    "code_folding": []
   },
   "outputs": [
    {
     "data": {
      "image/png": "[encoded data removed]",
      "text/plain": [
       "<Figure size 1000x250 with 4 Axes>"
      ]
     },
     "metadata": {},
     "output_type": "display_data"
    }
   ],
   "source": [
    "#\n",
    "# examiner les transformations\n",
    "#\n",
    "quant_transformed = clstr.show_transforms(quant_df, columns=[\"year\"], figsize=(10, 2.5))"
   ]
  },
  {
   "cell_type": "markdown",
   "id": "4211694e",
   "metadata": {},
   "source": [
    "* **rating_mode** n'a pas été transformé car il représente une variable qualitative\n",
    "* **year** se rapproche d'une distribution gaussienne via boxcox"
   ]
  },
  {
   "cell_type": "markdown",
   "id": "7a3c40e0",
   "metadata": {},
   "source": [
    "# Outliers"
   ]
  },
  {
   "cell_type": "code",
   "execution_count": 52,
   "id": "f911c936",
   "metadata": {
    "ExecuteTime": {
     "end_time": "2023-08-09T18:50:58.758756Z",
     "start_time": "2023-08-09T18:50:58.563162Z"
    }
   },
   "outputs": [
    {
     "name": "stdout",
     "output_type": "stream",
     "text": [
      "IQR outliers par variable, eta: 1.5\n"
     ]
    },
    {
     "data": {
      "text/html": [
       "<div>\n",
       "<style scoped>\n",
       "    .dataframe tbody tr th:only-of-type {\n",
       "        vertical-align: middle;\n",
       "    }\n",
       "\n",
       "    .dataframe tbody tr th {\n",
       "        vertical-align: top;\n",
       "    }\n",
       "\n",
       "    .dataframe thead th {\n",
       "        text-align: right;\n",
       "    }\n",
       "</style>\n",
       "<table border=\"1\" class=\"dataframe\">\n",
       "  <thead>\n",
       "    <tr style=\"text-align: right;\">\n",
       "      <th></th>\n",
       "      <th>year</th>\n",
       "      <th>year_boxcox</th>\n",
       "    </tr>\n",
       "  </thead>\n",
       "  <tbody>\n",
       "    <tr>\n",
       "      <th>Count</th>\n",
       "      <td>562.0</td>\n",
       "      <td>0.0</td>\n",
       "    </tr>\n",
       "    <tr>\n",
       "      <th>%</th>\n",
       "      <td>5.9</td>\n",
       "      <td>0.0</td>\n",
       "    </tr>\n",
       "  </tbody>\n",
       "</table>\n",
       "</div>"
      ],
      "text/plain": [
       "        year  year_boxcox\n",
       "Count  562.0          0.0\n",
       "%        5.9          0.0"
      ]
     },
     "metadata": {},
     "output_type": "display_data"
    },
    {
     "name": "stdout",
     "output_type": "stream",
     "text": [
      "\n",
      "IQR outliers 562 (5.9%), eta: 1.5\n",
      "\n",
      "Outliers boxplots, eta: 1.5\n"
     ]
    },
    {
     "data": {
      "image/png": "[encoded data removed]",
      "text/plain": [
       "<Figure size 800x250 with 2 Axes>"
      ]
     },
     "metadata": {},
     "output_type": "display_data"
    }
   ],
   "source": [
    "quant_outliers = pd.DataFrame({\"year\": quant_df.year,\n",
    "                               \"year_boxcox\": quant_transformed.boxcox[0].year})\n",
    "clstr.show_outliers_iqr(quant_outliers, \n",
    "                        eta=1.5, \n",
    "                        boxlists=[[c] for c in quant_outliers],\n",
    "                        figsize=(8, 2.5));"
   ]
  },
  {
   "cell_type": "markdown",
   "id": "9490be5e",
   "metadata": {},
   "source": [
    "La distribution de **year** pourrait suggérer des outliers. Etant donné le contexte d'un système de suggestions, il nous apparait plus juste de tout garder. En effet, un film des années 70 peut être une meilleure suggestion que certains blockbusters récents. De plus **year_boxcox** les enlève tous. Nous allons donc la garder."
   ]
  },
  {
   "cell_type": "code",
   "execution_count": 34,
   "id": "e8d6ce2a",
   "metadata": {
    "ExecuteTime": {
     "end_time": "2023-08-09T18:35:07.392512Z",
     "start_time": "2023-08-09T18:35:07.387352Z"
    }
   },
   "outputs": [],
   "source": [
    "#\n",
    "# ajouter year transforme par boxcox\n",
    "#\n",
    "# pour faciliter la visualization, mettre year_boxcox pres de year\n",
    "if \"year_boxcox_std\" in movies_ratings.columns:\n",
    "    movies_ratings.pop(\"year_boxcox_std\")\n",
    "year_index = movies_ratings.columns.to_list().index(\"year\")\n",
    "\n",
    "# comme year_boxcox est déja transforme et pres d'une distribution gaussienne\n",
    "# il est plus simple d'appliquer immediatement un standard scaler\n",
    "year_boxcox = quant_transformed.boxcox[0].year.to_numpy().reshape(-1, 1)\n",
    "year_boxcox_std = StandardScaler().fit_transform(year_boxcox)\n",
    "\n",
    "movies_ratings.insert(year_index + 1, \"year_boxcox_std\", year_boxcox_std)"
   ]
  },
  {
   "cell_type": "markdown",
   "id": "505036aa",
   "metadata": {},
   "source": [
    "Catégoriser **year** pourrait être intéressant étant donné la nature plutôt qualitative du reste des variables. Nous allons examiner un clustering afin de juger du nombre de catégories. Noter que CAH et KMeans seront les algorithmes utilisés. DBSCAN a besoin d'une analyse sur les distances minimales; hors les années sont systématiquement distantes de 1."
   ]
  },
  {
   "cell_type": "code",
   "execution_count": 35,
   "id": "4be58f10",
   "metadata": {
    "ExecuteTime": {
     "end_time": "2023-08-09T18:36:59.855812Z",
     "start_time": "2023-08-09T18:35:28.414232Z"
    }
   },
   "outputs": [
    {
     "data": {
      "image/png": "[encoded data removed]",
      "text/plain": [
       "<Figure size 700x700 with 2 Axes>"
      ]
     },
     "metadata": {},
     "output_type": "display_data"
    }
   ],
   "source": [
    "#\n",
    "# attention, cette operation est longue et sans feedback visuel\n",
    "#\n",
    "years_df = movies_ratings.year.to_frame()\n",
    "clstr.cah_analysis(years_df)"
   ]
  },
  {
   "cell_type": "code",
   "execution_count": 36,
   "id": "a6ec5317",
   "metadata": {
    "ExecuteTime": {
     "end_time": "2023-08-09T18:37:22.268100Z",
     "start_time": "2023-08-09T18:37:06.953974Z"
    }
   },
   "outputs": [
    {
     "data": {
      "image/png": "[encoded data removed]",
      "text/plain": [
       "<Figure size 500x300 with 2 Axes>"
      ]
     },
     "metadata": {},
     "output_type": "display_data"
    }
   ],
   "source": [
    "clstr.kmeans_analysis(years_df)"
   ]
  },
  {
   "cell_type": "code",
   "execution_count": 37,
   "id": "d64b035a",
   "metadata": {
    "ExecuteTime": {
     "end_time": "2023-08-09T18:40:02.305185Z",
     "start_time": "2023-08-09T18:40:00.007582Z"
    }
   },
   "outputs": [
    {
     "data": {
      "text/html": [
       "<div style='float: left;padding: 0px 25px 0px 0px;'><style type=\"text/css\">\n",
       "#T_2f301 caption {\n",
       "  color: black;\n",
       "  font-size: 120%;\n",
       "  font-weight: normal;\n",
       "}\n",
       "</style>\n",
       "<table id=\"T_2f301\">\n",
       "  <caption>CAH intervalles</caption>\n",
       "  <thead>\n",
       "    <tr>\n",
       "      <th class=\"blank level0\" >&nbsp;</th>\n",
       "      <th id=\"T_2f301_level0_col0\" class=\"col_heading level0 col0\" colspan=\"3\">year</th>\n",
       "    </tr>\n",
       "    <tr>\n",
       "      <th class=\"blank level1\" >&nbsp;</th>\n",
       "      <th id=\"T_2f301_level1_col0\" class=\"col_heading level1 col0\" >min</th>\n",
       "      <th id=\"T_2f301_level1_col1\" class=\"col_heading level1 col1\" >max</th>\n",
       "      <th id=\"T_2f301_level1_col2\" class=\"col_heading level1 col2\" >count</th>\n",
       "    </tr>\n",
       "    <tr>\n",
       "      <th class=\"index_name level0\" >cluster</th>\n",
       "      <th class=\"blank col0\" >&nbsp;</th>\n",
       "      <th class=\"blank col1\" >&nbsp;</th>\n",
       "      <th class=\"blank col2\" >&nbsp;</th>\n",
       "    </tr>\n",
       "  </thead>\n",
       "  <tbody>\n",
       "    <tr>\n",
       "      <th id=\"T_2f301_level0_row0\" class=\"row_heading level0 row0\" >1</th>\n",
       "      <td id=\"T_2f301_row0_col0\" class=\"data row0 col0\" >1902</td>\n",
       "      <td id=\"T_2f301_row0_col1\" class=\"data row0 col1\" >1974</td>\n",
       "      <td id=\"T_2f301_row0_col2\" class=\"data row0 col2\" >1231</td>\n",
       "    </tr>\n",
       "    <tr>\n",
       "      <th id=\"T_2f301_level0_row1\" class=\"row_heading level0 row1\" >0</th>\n",
       "      <td id=\"T_2f301_row1_col0\" class=\"data row1 col0\" >1975</td>\n",
       "      <td id=\"T_2f301_row1_col1\" class=\"data row1 col1\" >2001</td>\n",
       "      <td id=\"T_2f301_row1_col2\" class=\"data row1 col2\" >4165</td>\n",
       "    </tr>\n",
       "    <tr>\n",
       "      <th id=\"T_2f301_level0_row2\" class=\"row_heading level0 row2\" >2</th>\n",
       "      <td id=\"T_2f301_row2_col0\" class=\"data row2 col0\" >2002</td>\n",
       "      <td id=\"T_2f301_row2_col1\" class=\"data row2 col1\" >2018</td>\n",
       "      <td id=\"T_2f301_row2_col2\" class=\"data row2 col2\" >4064</td>\n",
       "    </tr>\n",
       "  </tbody>\n",
       "</table>\n",
       "</div><div style='float: left;padding: 0px 25px 0px 0px;'><style type=\"text/css\">\n",
       "#T_f5682 caption {\n",
       "  color: black;\n",
       "  font-size: 120%;\n",
       "  font-weight: normal;\n",
       "}\n",
       "</style>\n",
       "<table id=\"T_f5682\">\n",
       "  <caption>KMeans intervalles</caption>\n",
       "  <thead>\n",
       "    <tr>\n",
       "      <th class=\"blank level0\" >&nbsp;</th>\n",
       "      <th id=\"T_f5682_level0_col0\" class=\"col_heading level0 col0\" colspan=\"3\">year</th>\n",
       "    </tr>\n",
       "    <tr>\n",
       "      <th class=\"blank level1\" >&nbsp;</th>\n",
       "      <th id=\"T_f5682_level1_col0\" class=\"col_heading level1 col0\" >min</th>\n",
       "      <th id=\"T_f5682_level1_col1\" class=\"col_heading level1 col1\" >max</th>\n",
       "      <th id=\"T_f5682_level1_col2\" class=\"col_heading level1 col2\" >count</th>\n",
       "    </tr>\n",
       "    <tr>\n",
       "      <th class=\"index_name level0\" >cluster</th>\n",
       "      <th class=\"blank col0\" >&nbsp;</th>\n",
       "      <th class=\"blank col1\" >&nbsp;</th>\n",
       "      <th class=\"blank col2\" >&nbsp;</th>\n",
       "    </tr>\n",
       "  </thead>\n",
       "  <tbody>\n",
       "    <tr>\n",
       "      <th id=\"T_f5682_level0_row0\" class=\"row_heading level0 row0\" >1</th>\n",
       "      <td id=\"T_f5682_row0_col0\" class=\"data row0 col0\" >1902</td>\n",
       "      <td id=\"T_f5682_row0_col1\" class=\"data row0 col1\" >1972</td>\n",
       "      <td id=\"T_f5682_row0_col2\" class=\"data row0 col2\" >1130</td>\n",
       "    </tr>\n",
       "    <tr>\n",
       "      <th id=\"T_f5682_level0_row1\" class=\"row_heading level0 row1\" >2</th>\n",
       "      <td id=\"T_f5682_row1_col0\" class=\"data row1 col0\" >1973</td>\n",
       "      <td id=\"T_f5682_row1_col1\" class=\"data row1 col1\" >1998</td>\n",
       "      <td id=\"T_f5682_row1_col2\" class=\"data row1 col2\" >3444</td>\n",
       "    </tr>\n",
       "    <tr>\n",
       "      <th id=\"T_f5682_level0_row2\" class=\"row_heading level0 row2\" >0</th>\n",
       "      <td id=\"T_f5682_row2_col0\" class=\"data row2 col0\" >1999</td>\n",
       "      <td id=\"T_f5682_row2_col1\" class=\"data row2 col1\" >2018</td>\n",
       "      <td id=\"T_f5682_row2_col2\" class=\"data row2 col2\" >4886</td>\n",
       "    </tr>\n",
       "  </tbody>\n",
       "</table>\n",
       "</div><div style='float: left;padding: 0px 25px 0px 0px;'><style type=\"text/css\">\n",
       "#T_73076 caption {\n",
       "  color: black;\n",
       "  font-size: 120%;\n",
       "  font-weight: normal;\n",
       "}\n",
       "</style>\n",
       "<table id=\"T_73076\">\n",
       "  <caption>QCut intervalles</caption>\n",
       "  <thead>\n",
       "    <tr>\n",
       "      <th class=\"blank level0\" >&nbsp;</th>\n",
       "      <th id=\"T_73076_level0_col0\" class=\"col_heading level0 col0\" colspan=\"3\">year</th>\n",
       "    </tr>\n",
       "    <tr>\n",
       "      <th class=\"blank level1\" >&nbsp;</th>\n",
       "      <th id=\"T_73076_level1_col0\" class=\"col_heading level1 col0\" >min</th>\n",
       "      <th id=\"T_73076_level1_col1\" class=\"col_heading level1 col1\" >max</th>\n",
       "      <th id=\"T_73076_level1_col2\" class=\"col_heading level1 col2\" >count</th>\n",
       "    </tr>\n",
       "    <tr>\n",
       "      <th class=\"index_name level0\" >cluster</th>\n",
       "      <th class=\"blank col0\" >&nbsp;</th>\n",
       "      <th class=\"blank col1\" >&nbsp;</th>\n",
       "      <th class=\"blank col2\" >&nbsp;</th>\n",
       "    </tr>\n",
       "  </thead>\n",
       "  <tbody>\n",
       "    <tr>\n",
       "      <th id=\"T_73076_level0_row0\" class=\"row_heading level0 row0\" >0</th>\n",
       "      <td id=\"T_73076_row0_col0\" class=\"data row0 col0\" >1902</td>\n",
       "      <td id=\"T_73076_row0_col1\" class=\"data row0 col1\" >1993</td>\n",
       "      <td id=\"T_73076_row0_col2\" class=\"data row0 col2\" >3308</td>\n",
       "    </tr>\n",
       "    <tr>\n",
       "      <th id=\"T_73076_level0_row1\" class=\"row_heading level0 row1\" >1</th>\n",
       "      <td id=\"T_73076_row1_col0\" class=\"data row1 col0\" >1994</td>\n",
       "      <td id=\"T_73076_row1_col1\" class=\"data row1 col1\" >2005</td>\n",
       "      <td id=\"T_73076_row1_col2\" class=\"data row1 col2\" >3204</td>\n",
       "    </tr>\n",
       "    <tr>\n",
       "      <th id=\"T_73076_level0_row2\" class=\"row_heading level0 row2\" >2</th>\n",
       "      <td id=\"T_73076_row2_col0\" class=\"data row2 col0\" >2006</td>\n",
       "      <td id=\"T_73076_row2_col1\" class=\"data row2 col1\" >2018</td>\n",
       "      <td id=\"T_73076_row2_col2\" class=\"data row2 col2\" >2948</td>\n",
       "    </tr>\n",
       "  </tbody>\n",
       "</table>\n",
       "</div>"
      ],
      "text/plain": [
       "<IPython.core.display.HTML object>"
      ]
     },
     "metadata": {},
     "output_type": "display_data"
    },
    {
     "name": "stdout",
     "output_type": "stream",
     "text": [
      "\n",
      "Distribution clusters\n"
     ]
    },
    {
     "data": {
      "image/png": "[encoded data removed]",
      "text/plain": [
       "<Figure size 1000x250 with 3 Axes>"
      ]
     },
     "metadata": {},
     "output_type": "display_data"
    }
   ],
   "source": [
    "#\n",
    "# inspection categorisation\n",
    "#\n",
    "\n",
    "# etapes\n",
    "#   1. faire cluster\n",
    "#   2. trouver intervalles\n",
    "#   3. formater affichage\n",
    "#   4. afficher\n",
    "cah_years = clstr.cah_init(years_df, 3)\n",
    "cah_intervals = years_df.groupby(cah_years.labels_).agg([\"min\", \"max\", \"count\"])\n",
    "cah_intervals.index.name = \"cluster\"\n",
    "cah_intervals.sort_values(by=(\"year\", \"min\"), inplace=True)\n",
    "cah_intervals_styl = jup.caption_df(cah_intervals.style, \"CAH intervalles\", caption_bold=False)\n",
    "\n",
    "kmeans_years = clstr.kmeans_init(years_df, 3)\n",
    "kmeans_intervals = years_df.groupby(kmeans_years.labels_).agg([\"min\", \"max\", \"count\"])\n",
    "kmeans_intervals.index.name = \"cluster\"\n",
    "kmeans_intervals.sort_values(by=(\"year\", \"min\"), inplace=True)\n",
    "kmeans_intervals_styl = jup.caption_df(kmeans_intervals.style, \"KMeans intervalles\", caption_bold=False)\n",
    "\n",
    "# division en tiertile etant donne que nous avons 3 clusters\n",
    "qcut_years = pd.qcut(years_df.year, [0, 1/3, 2/3, 1.0], labels=[0, 1, 2])\n",
    "qcut_intervals = years_df.groupby(qcut_years).agg([\"min\", \"max\", \"count\"])\n",
    "qcut_intervals.index.name = \"cluster\"\n",
    "qcut_intervals.sort_values(by=(\"year\", \"min\"), inplace=True)\n",
    "qcut_intervals_styl = jup.caption_df(qcut_intervals.style, \"QCut intervalles\", caption_bold=False)\n",
    "\n",
    "\n",
    "html_ = jup.horizontify(cah_intervals_styl, kmeans_intervals_styl, qcut_intervals_styl)\n",
    "jup.display_html(html_)\n",
    "\n",
    "print()\n",
    "\n",
    "print(\"Distribution clusters\")\n",
    "plt.figure(figsize=(10, 2.5))\n",
    "plt.subplot(131)\n",
    "sns.histplot(x=\"year\",\n",
    "             data=movies_ratings, \n",
    "             hue=cah_years.labels_, \n",
    "             ax=plt.gca())\n",
    "plt.title(\"CAH\")\n",
    "\n",
    "plt.subplot(132)\n",
    "sns.histplot(x=\"year\",\n",
    "             data=movies_ratings, \n",
    "             hue=kmeans_years.labels_, \n",
    "             ax=plt.gca())\n",
    "plt.title(\"KMeans\")\n",
    "\n",
    "plt.subplot(133)\n",
    "sns.histplot(x=\"year\",\n",
    "             data=movies_ratings, \n",
    "             hue=qcut_years.to_numpy(), \n",
    "             ax=plt.gca())\n",
    "plt.title(\"QCut\")\n",
    "\n",
    "plt.tight_layout()\n",
    "plt.show()"
   ]
  },
  {
   "cell_type": "markdown",
   "id": "9385edda",
   "metadata": {},
   "source": [
    "CAH et KMeans suggèrent 3 clusters. L'inspection visuelle de ceux-ci nous apparait correcte quant au choix d'intervalles mais les comptes montrent un débalancement. Les intervalles de QCut ne semblent pas bien représenter la distribution de **year** bien qu'étant balancé.\n",
    "\n",
    "CAH nous semblent le meilleur compromis. En effet, 2 des 3 clusters sont bien balancés et les intervalles représentent bien la distribution de **year**. Le choix de garder ou non le cluster \"problématique\" pourra être fait lors de l'implémentation du système de suggestion. Noter qu'il représente environ 13% (1231 / 9460) des données et coïncide relativement bien avec l'analyse des outliers faite plus haut."
   ]
  },
  {
   "cell_type": "code",
   "execution_count": 53,
   "id": "2636c2df",
   "metadata": {
    "ExecuteTime": {
     "end_time": "2023-08-09T19:02:51.606712Z",
     "start_time": "2023-08-09T19:02:49.803517Z"
    }
   },
   "outputs": [],
   "source": [
    "#\n",
    "# ajout categorisation sur year\n",
    "#\n",
    "# pour faciliter la visualization, mettre year_category pres de year\n",
    "if \"year_category\" in movies_ratings.columns:\n",
    "    movies_ratings.pop(\"year_category\")\n",
    "year_index = movies_ratings.columns.to_list().index(\"year\")\n",
    "\n",
    "# transformer numero de cluster en intervalle\n",
    "def cluster_to_label(c):\n",
    "    min_ = cah_intervals.loc[c, (\"year\", \"min\")]\n",
    "    max_ = cah_intervals.loc[c, (\"year\", \"max\")]\n",
    "    return f\"[{min_}, {max_}]\"\n",
    "year_category_labels = np.vectorize(cluster_to_label)(cah_years.labels_)\n",
    "movies_ratings.insert(year_index + 1, \"year_category\", year_category_labels)"
   ]
  },
  {
   "cell_type": "code",
   "execution_count": 54,
   "id": "a9d6518d",
   "metadata": {
    "ExecuteTime": {
     "end_time": "2023-08-09T19:03:00.320966Z",
     "start_time": "2023-08-09T19:03:00.078873Z"
    }
   },
   "outputs": [
    {
     "name": "stdout",
     "output_type": "stream",
     "text": [
      "Distributions - variables qualitatives\n"
     ]
    },
    {
     "data": {
      "image/png": "[encoded data removed]",
      "text/plain": [
       "<Figure size 500x250 with 1 Axes>"
      ]
     },
     "metadata": {},
     "output_type": "display_data"
    }
   ],
   "source": [
    "#\n",
    "# examiner variables qualitatives\n",
    "#\n",
    "print(\"Distributions - variables qualitatives\")\n",
    "genres_ohe_df = qual_df.genres.str.get_dummies(sep=configs.dataset.genre_splitter)\n",
    "genres_count = genres_ohe_df.sum(axis=0)\n",
    "\n",
    "genres_df = pd.Series(genres_count,\n",
    "                      index=genres_count.index,\n",
    "                      name=\"count\")\n",
    "genres_df.sort_values(ascending=False, inplace=True)\n",
    "\n",
    "plt.figure(figsize=(5, 2.5))\n",
    "sns.barplot(x=genres_df.index, y=genres_df.values, ax=plt.gca())\n",
    "plt.tick_params(axis=\"x\", labelrotation=90)\n",
    "plt.title(\"genres - effectif\")\n",
    "plt.show()"
   ]
  },
  {
   "cell_type": "markdown",
   "id": "27ae3b26",
   "metadata": {},
   "source": [
    "* Forte proportion dans Drama et Comedy\n",
    "* Les modalités sont débalancées\n",
    "\n",
    "Afin de mitiger le débalancement, il pourrait être judicieux d'appliquer une transformation de type TF-IDF (term frequencey-inverse document frequency) et d'utiliser une métrique de similarité au lieu de distance. En effet, le problème de catégorisation par genre est analogue à celui du traitement de documents dans un contexte de NLP."
   ]
  },
  {
   "cell_type": "code",
   "execution_count": 55,
   "id": "7f1bff33",
   "metadata": {
    "ExecuteTime": {
     "end_time": "2023-08-09T19:03:11.207230Z",
     "start_time": "2023-08-09T19:03:11.174627Z"
    }
   },
   "outputs": [
    {
     "name": "stdout",
     "output_type": "stream",
     "text": [
      "HEAD genre tf-idf\n"
     ]
    },
    {
     "data": {
      "text/html": [
       "<div>\n",
       "<style scoped>\n",
       "    .dataframe tbody tr th:only-of-type {\n",
       "        vertical-align: middle;\n",
       "    }\n",
       "\n",
       "    .dataframe tbody tr th {\n",
       "        vertical-align: top;\n",
       "    }\n",
       "\n",
       "    .dataframe thead th {\n",
       "        text-align: right;\n",
       "    }\n",
       "</style>\n",
       "<table border=\"1\" class=\"dataframe\">\n",
       "  <thead>\n",
       "    <tr style=\"text-align: right;\">\n",
       "      <th></th>\n",
       "      <th>genres_tfidf_Action</th>\n",
       "      <th>genres_tfidf_Adventure</th>\n",
       "      <th>genres_tfidf_Animation</th>\n",
       "      <th>genres_tfidf_Children</th>\n",
       "      <th>genres_tfidf_Comedy</th>\n",
       "      <th>genres_tfidf_Crime</th>\n",
       "      <th>genres_tfidf_Documentary</th>\n",
       "      <th>genres_tfidf_Drama</th>\n",
       "      <th>genres_tfidf_Fantasy</th>\n",
       "      <th>genres_tfidf_Film-Noir</th>\n",
       "      <th>genres_tfidf_Horror</th>\n",
       "      <th>genres_tfidf_Musical</th>\n",
       "      <th>genres_tfidf_Mystery</th>\n",
       "      <th>genres_tfidf_Romance</th>\n",
       "      <th>genres_tfidf_Sci-Fi</th>\n",
       "      <th>genres_tfidf_Thriller</th>\n",
       "      <th>genres_tfidf_War</th>\n",
       "      <th>genres_tfidf_Western</th>\n",
       "    </tr>\n",
       "  </thead>\n",
       "  <tbody>\n",
       "    <tr>\n",
       "      <th>0</th>\n",
       "      <td>0.0</td>\n",
       "      <td>0.413531</td>\n",
       "      <td>0.51858</td>\n",
       "      <td>0.506535</td>\n",
       "      <td>0.269500</td>\n",
       "      <td>0.0</td>\n",
       "      <td>0.0</td>\n",
       "      <td>0.000000</td>\n",
       "      <td>0.480478</td>\n",
       "      <td>0.0</td>\n",
       "      <td>0.0</td>\n",
       "      <td>0.0</td>\n",
       "      <td>0.0</td>\n",
       "      <td>0.000000</td>\n",
       "      <td>0.0</td>\n",
       "      <td>0.0</td>\n",
       "      <td>0.0</td>\n",
       "      <td>0.0</td>\n",
       "    </tr>\n",
       "    <tr>\n",
       "      <th>1</th>\n",
       "      <td>0.0</td>\n",
       "      <td>0.509622</td>\n",
       "      <td>0.00000</td>\n",
       "      <td>0.624238</td>\n",
       "      <td>0.000000</td>\n",
       "      <td>0.0</td>\n",
       "      <td>0.0</td>\n",
       "      <td>0.000000</td>\n",
       "      <td>0.592126</td>\n",
       "      <td>0.0</td>\n",
       "      <td>0.0</td>\n",
       "      <td>0.0</td>\n",
       "      <td>0.0</td>\n",
       "      <td>0.000000</td>\n",
       "      <td>0.0</td>\n",
       "      <td>0.0</td>\n",
       "      <td>0.0</td>\n",
       "      <td>0.0</td>\n",
       "    </tr>\n",
       "    <tr>\n",
       "      <th>2</th>\n",
       "      <td>0.0</td>\n",
       "      <td>0.000000</td>\n",
       "      <td>0.00000</td>\n",
       "      <td>0.000000</td>\n",
       "      <td>0.576516</td>\n",
       "      <td>0.0</td>\n",
       "      <td>0.0</td>\n",
       "      <td>0.000000</td>\n",
       "      <td>0.000000</td>\n",
       "      <td>0.0</td>\n",
       "      <td>0.0</td>\n",
       "      <td>0.0</td>\n",
       "      <td>0.0</td>\n",
       "      <td>0.817086</td>\n",
       "      <td>0.0</td>\n",
       "      <td>0.0</td>\n",
       "      <td>0.0</td>\n",
       "      <td>0.0</td>\n",
       "    </tr>\n",
       "    <tr>\n",
       "      <th>3</th>\n",
       "      <td>0.0</td>\n",
       "      <td>0.000000</td>\n",
       "      <td>0.00000</td>\n",
       "      <td>0.000000</td>\n",
       "      <td>0.511112</td>\n",
       "      <td>0.0</td>\n",
       "      <td>0.0</td>\n",
       "      <td>0.462626</td>\n",
       "      <td>0.000000</td>\n",
       "      <td>0.0</td>\n",
       "      <td>0.0</td>\n",
       "      <td>0.0</td>\n",
       "      <td>0.0</td>\n",
       "      <td>0.724390</td>\n",
       "      <td>0.0</td>\n",
       "      <td>0.0</td>\n",
       "      <td>0.0</td>\n",
       "      <td>0.0</td>\n",
       "    </tr>\n",
       "    <tr>\n",
       "      <th>4</th>\n",
       "      <td>0.0</td>\n",
       "      <td>0.000000</td>\n",
       "      <td>0.00000</td>\n",
       "      <td>0.000000</td>\n",
       "      <td>1.000000</td>\n",
       "      <td>0.0</td>\n",
       "      <td>0.0</td>\n",
       "      <td>0.000000</td>\n",
       "      <td>0.000000</td>\n",
       "      <td>0.0</td>\n",
       "      <td>0.0</td>\n",
       "      <td>0.0</td>\n",
       "      <td>0.0</td>\n",
       "      <td>0.000000</td>\n",
       "      <td>0.0</td>\n",
       "      <td>0.0</td>\n",
       "      <td>0.0</td>\n",
       "      <td>0.0</td>\n",
       "    </tr>\n",
       "  </tbody>\n",
       "</table>\n",
       "</div>"
      ],
      "text/plain": [
       "   genres_tfidf_Action  genres_tfidf_Adventure  genres_tfidf_Animation  \\\n",
       "0                  0.0                0.413531                 0.51858   \n",
       "1                  0.0                0.509622                 0.00000   \n",
       "2                  0.0                0.000000                 0.00000   \n",
       "3                  0.0                0.000000                 0.00000   \n",
       "4                  0.0                0.000000                 0.00000   \n",
       "\n",
       "   genres_tfidf_Children  genres_tfidf_Comedy  genres_tfidf_Crime  \\\n",
       "0               0.506535             0.269500                 0.0   \n",
       "1               0.624238             0.000000                 0.0   \n",
       "2               0.000000             0.576516                 0.0   \n",
       "3               0.000000             0.511112                 0.0   \n",
       "4               0.000000             1.000000                 0.0   \n",
       "\n",
       "   genres_tfidf_Documentary  genres_tfidf_Drama  genres_tfidf_Fantasy  \\\n",
       "0                       0.0            0.000000              0.480478   \n",
       "1                       0.0            0.000000              0.592126   \n",
       "2                       0.0            0.000000              0.000000   \n",
       "3                       0.0            0.462626              0.000000   \n",
       "4                       0.0            0.000000              0.000000   \n",
       "\n",
       "   genres_tfidf_Film-Noir  genres_tfidf_Horror  genres_tfidf_Musical  \\\n",
       "0                     0.0                  0.0                   0.0   \n",
       "1                     0.0                  0.0                   0.0   \n",
       "2                     0.0                  0.0                   0.0   \n",
       "3                     0.0                  0.0                   0.0   \n",
       "4                     0.0                  0.0                   0.0   \n",
       "\n",
       "   genres_tfidf_Mystery  genres_tfidf_Romance  genres_tfidf_Sci-Fi  \\\n",
       "0                   0.0              0.000000                  0.0   \n",
       "1                   0.0              0.000000                  0.0   \n",
       "2                   0.0              0.817086                  0.0   \n",
       "3                   0.0              0.724390                  0.0   \n",
       "4                   0.0              0.000000                  0.0   \n",
       "\n",
       "   genres_tfidf_Thriller  genres_tfidf_War  genres_tfidf_Western  \n",
       "0                    0.0               0.0                   0.0  \n",
       "1                    0.0               0.0                   0.0  \n",
       "2                    0.0               0.0                   0.0  \n",
       "3                    0.0               0.0                   0.0  \n",
       "4                    0.0               0.0                   0.0  "
      ]
     },
     "metadata": {},
     "output_type": "display_data"
    }
   ],
   "source": [
    "#\n",
    "# transformatioin tf-idf\n",
    "#\n",
    "genres_tf_idf = TfidfTransformer().fit_transform(genres_ohe_df)\n",
    "genres_tf_idf_df = pd.DataFrame.sparse.from_spmatrix(genres_tf_idf, \n",
    "                                                     index=genres_ohe_df.index,\n",
    "                                                     columns=genres_ohe_df.columns)\n",
    "genres_tf_idf_df.columns = [f\"genres_tfidf_{c}\" for c in genres_tf_idf_df.columns]\n",
    "\n",
    "# validaton par inspection visuelle\n",
    "print(\"HEAD genre tf-idf\")\n",
    "display(genres_tf_idf_df.head())"
   ]
  },
  {
   "cell_type": "markdown",
   "id": "0547a453",
   "metadata": {},
   "source": [
    "Noter que la transformation one hot ne sera pas ajoutée de par sa nature simple et la redondance d'informations qu'elle ajoute."
   ]
  },
  {
   "cell_type": "code",
   "execution_count": 43,
   "id": "45946711",
   "metadata": {
    "ExecuteTime": {
     "end_time": "2023-08-09T18:42:51.500592Z",
     "start_time": "2023-08-09T18:42:51.494463Z"
    }
   },
   "outputs": [
    {
     "name": "stdout",
     "output_type": "stream",
     "text": [
      "(9460, 26)\n"
     ]
    }
   ],
   "source": [
    "#\n",
    "# ajouter tf-idf\n",
    "#\n",
    "# pour faciliter la visualization, mettre genre et tf-idf a la fin\n",
    "if \"genres\" in movies_ratings.columns:\n",
    "    movies_ratings[\"genres\"] = movies_ratings.pop(\"genres\")\n",
    "movies_final_df = pd.concat([movies_ratings, genres_tf_idf_df], axis=1)\n",
    "\n",
    "# validation par inspection de shape\n",
    "print(movies_final_df.shape)"
   ]
  },
  {
   "cell_type": "code",
   "execution_count": 44,
   "id": "06d225cc",
   "metadata": {
    "ExecuteTime": {
     "end_time": "2023-08-09T18:43:01.219132Z",
     "start_time": "2023-08-09T18:43:01.055256Z"
    }
   },
   "outputs": [
    {
     "name": "stdout",
     "output_type": "stream",
     "text": [
      "Sauvegarde dataset/movies_pretraitement.csv\n"
     ]
    }
   ],
   "source": [
    "#\n",
    "# sauvegarde des traitements sur movies_ratings\n",
    "#\n",
    "csv_path = mvl_dataset.movies_path.split(\".\")[0]\n",
    "csv_path = \"\".join([csv_path, \"_pretraitement\", \".csv\"])\n",
    "\n",
    "print(\"Sauvegarde\", csv_path)\n",
    "movies_final_df.to_csv(csv_path, index=False)"
   ]
  },
  {
   "cell_type": "markdown",
   "id": "41f6f135",
   "metadata": {},
   "source": [
    "# Collaborative filtering\n",
    "\n",
    "Les systèmes de suggestions se basent souvent sur 2 composantes: content base et collaborative filtering. L'idée étant d'utiliser l'historique de plusieurs utilisateurs (collaborative filtering) et à défaut de l'avoir, utiliser seulement le contenu des fims (content base). Notre base de données est plutot simple, nous aurons donc seulement rating pour regrouper les utilisateurs.\n",
    "\n",
    "# Valeurs aberrantes et outliers\n",
    "\n",
    "Ces prétraitements ont déjà été fait. Il nous reste qu'à colliger les informations."
   ]
  },
  {
   "cell_type": "code",
   "execution_count": 57,
   "id": "f268d13b",
   "metadata": {
    "ExecuteTime": {
     "end_time": "2023-08-09T19:13:26.790637Z",
     "start_time": "2023-08-09T19:13:26.665125Z"
    }
   },
   "outputs": [
    {
     "name": "stdout",
     "output_type": "stream",
     "text": [
      "User ratings: (582, 9461)\n",
      "HEAD\n"
     ]
    },
    {
     "data": {
      "text/html": [
       "<div>\n",
       "<style scoped>\n",
       "    .dataframe tbody tr th:only-of-type {\n",
       "        vertical-align: middle;\n",
       "    }\n",
       "\n",
       "    .dataframe tbody tr th {\n",
       "        vertical-align: top;\n",
       "    }\n",
       "\n",
       "    .dataframe thead th {\n",
       "        text-align: right;\n",
       "    }\n",
       "</style>\n",
       "<table border=\"1\" class=\"dataframe\">\n",
       "  <thead>\n",
       "    <tr style=\"text-align: right;\">\n",
       "      <th></th>\n",
       "      <th>userId</th>\n",
       "      <th>1</th>\n",
       "      <th>2</th>\n",
       "      <th>3</th>\n",
       "      <th>4</th>\n",
       "      <th>5</th>\n",
       "      <th>6</th>\n",
       "      <th>7</th>\n",
       "      <th>8</th>\n",
       "      <th>9</th>\n",
       "      <th>...</th>\n",
       "      <th>193565</th>\n",
       "      <th>193567</th>\n",
       "      <th>193571</th>\n",
       "      <th>193573</th>\n",
       "      <th>193579</th>\n",
       "      <th>193581</th>\n",
       "      <th>193583</th>\n",
       "      <th>193585</th>\n",
       "      <th>193587</th>\n",
       "      <th>193609</th>\n",
       "    </tr>\n",
       "  </thead>\n",
       "  <tbody>\n",
       "    <tr>\n",
       "      <th>0</th>\n",
       "      <td>1</td>\n",
       "      <td>4.0</td>\n",
       "      <td>NaN</td>\n",
       "      <td>4.0</td>\n",
       "      <td>NaN</td>\n",
       "      <td>NaN</td>\n",
       "      <td>4.0</td>\n",
       "      <td>NaN</td>\n",
       "      <td>NaN</td>\n",
       "      <td>NaN</td>\n",
       "      <td>...</td>\n",
       "      <td>NaN</td>\n",
       "      <td>NaN</td>\n",
       "      <td>NaN</td>\n",
       "      <td>NaN</td>\n",
       "      <td>NaN</td>\n",
       "      <td>NaN</td>\n",
       "      <td>NaN</td>\n",
       "      <td>NaN</td>\n",
       "      <td>NaN</td>\n",
       "      <td>NaN</td>\n",
       "    </tr>\n",
       "    <tr>\n",
       "      <th>1</th>\n",
       "      <td>2</td>\n",
       "      <td>NaN</td>\n",
       "      <td>NaN</td>\n",
       "      <td>NaN</td>\n",
       "      <td>NaN</td>\n",
       "      <td>NaN</td>\n",
       "      <td>NaN</td>\n",
       "      <td>NaN</td>\n",
       "      <td>NaN</td>\n",
       "      <td>NaN</td>\n",
       "      <td>...</td>\n",
       "      <td>NaN</td>\n",
       "      <td>NaN</td>\n",
       "      <td>NaN</td>\n",
       "      <td>NaN</td>\n",
       "      <td>NaN</td>\n",
       "      <td>NaN</td>\n",
       "      <td>NaN</td>\n",
       "      <td>NaN</td>\n",
       "      <td>NaN</td>\n",
       "      <td>NaN</td>\n",
       "    </tr>\n",
       "    <tr>\n",
       "      <th>2</th>\n",
       "      <td>3</td>\n",
       "      <td>NaN</td>\n",
       "      <td>NaN</td>\n",
       "      <td>NaN</td>\n",
       "      <td>NaN</td>\n",
       "      <td>NaN</td>\n",
       "      <td>NaN</td>\n",
       "      <td>NaN</td>\n",
       "      <td>NaN</td>\n",
       "      <td>NaN</td>\n",
       "      <td>...</td>\n",
       "      <td>NaN</td>\n",
       "      <td>NaN</td>\n",
       "      <td>NaN</td>\n",
       "      <td>NaN</td>\n",
       "      <td>NaN</td>\n",
       "      <td>NaN</td>\n",
       "      <td>NaN</td>\n",
       "      <td>NaN</td>\n",
       "      <td>NaN</td>\n",
       "      <td>NaN</td>\n",
       "    </tr>\n",
       "    <tr>\n",
       "      <th>3</th>\n",
       "      <td>4</td>\n",
       "      <td>NaN</td>\n",
       "      <td>NaN</td>\n",
       "      <td>NaN</td>\n",
       "      <td>NaN</td>\n",
       "      <td>NaN</td>\n",
       "      <td>NaN</td>\n",
       "      <td>NaN</td>\n",
       "      <td>NaN</td>\n",
       "      <td>NaN</td>\n",
       "      <td>...</td>\n",
       "      <td>NaN</td>\n",
       "      <td>NaN</td>\n",
       "      <td>NaN</td>\n",
       "      <td>NaN</td>\n",
       "      <td>NaN</td>\n",
       "      <td>NaN</td>\n",
       "      <td>NaN</td>\n",
       "      <td>NaN</td>\n",
       "      <td>NaN</td>\n",
       "      <td>NaN</td>\n",
       "    </tr>\n",
       "    <tr>\n",
       "      <th>4</th>\n",
       "      <td>5</td>\n",
       "      <td>4.0</td>\n",
       "      <td>NaN</td>\n",
       "      <td>NaN</td>\n",
       "      <td>NaN</td>\n",
       "      <td>NaN</td>\n",
       "      <td>NaN</td>\n",
       "      <td>NaN</td>\n",
       "      <td>NaN</td>\n",
       "      <td>NaN</td>\n",
       "      <td>...</td>\n",
       "      <td>NaN</td>\n",
       "      <td>NaN</td>\n",
       "      <td>NaN</td>\n",
       "      <td>NaN</td>\n",
       "      <td>NaN</td>\n",
       "      <td>NaN</td>\n",
       "      <td>NaN</td>\n",
       "      <td>NaN</td>\n",
       "      <td>NaN</td>\n",
       "      <td>NaN</td>\n",
       "    </tr>\n",
       "  </tbody>\n",
       "</table>\n",
       "<p>5 rows × 9461 columns</p>\n",
       "</div>"
      ],
      "text/plain": [
       "   userId    1   2    3   4   5    6   7   8   9  ...  193565  193567  193571  \\\n",
       "0       1  4.0 NaN  4.0 NaN NaN  4.0 NaN NaN NaN  ...     NaN     NaN     NaN   \n",
       "1       2  NaN NaN  NaN NaN NaN  NaN NaN NaN NaN  ...     NaN     NaN     NaN   \n",
       "2       3  NaN NaN  NaN NaN NaN  NaN NaN NaN NaN  ...     NaN     NaN     NaN   \n",
       "3       4  NaN NaN  NaN NaN NaN  NaN NaN NaN NaN  ...     NaN     NaN     NaN   \n",
       "4       5  4.0 NaN  NaN NaN NaN  NaN NaN NaN NaN  ...     NaN     NaN     NaN   \n",
       "\n",
       "   193573  193579  193581  193583  193585  193587  193609  \n",
       "0     NaN     NaN     NaN     NaN     NaN     NaN     NaN  \n",
       "1     NaN     NaN     NaN     NaN     NaN     NaN     NaN  \n",
       "2     NaN     NaN     NaN     NaN     NaN     NaN     NaN  \n",
       "3     NaN     NaN     NaN     NaN     NaN     NaN     NaN  \n",
       "4     NaN     NaN     NaN     NaN     NaN     NaN     NaN  \n",
       "\n",
       "[5 rows x 9461 columns]"
      ]
     },
     "metadata": {},
     "output_type": "display_data"
    }
   ],
   "source": [
    "#\n",
    "# s'assurer de garder uniquement les utilisateurs qui ont les movieId present dans movies_ratings\n",
    "#\n",
    "movieIds = movies_ratings.movieId.unique()\n",
    "ratings = mvl_dataset.ratings[ mvl_dataset.ratings.movieId.isin(movieIds)  ]\n",
    "\n",
    "user_ratings = ratings \\\n",
    "                .pivot(index=\"userId\", columns=\"movieId\", values=\"rating\") \\\n",
    "                .reset_index()\n",
    "user_ratings.columns.name = \"\"\n",
    "\n",
    "print(\"User ratings:\", user_ratings.shape)\n",
    "print(\"HEAD\")\n",
    "display(user_ratings.head())"
   ]
  },
  {
   "cell_type": "markdown",
   "id": "59363e88",
   "metadata": {},
   "source": [
    "Données très éparses et de très grande dimensionalité. Ceci est attendu étant donné la nature du problème. Enlever les valeurs manquante n'est pas possible pusique la majorité des données seraient perdue."
   ]
  },
  {
   "cell_type": "code",
   "execution_count": 62,
   "id": "9f556d2f",
   "metadata": {
    "ExecuteTime": {
     "end_time": "2023-08-09T19:32:50.613017Z",
     "start_time": "2023-08-09T19:32:48.055342Z"
    }
   },
   "outputs": [
    {
     "name": "stdout",
     "output_type": "stream",
     "text": [
      "Sauvegarde dataset/ratings_pretraitement.csv\n"
     ]
    }
   ],
   "source": [
    "#\n",
    "# sauvegarde des traitements sur user_ratings\n",
    "#\n",
    "csv_path = mvl_dataset.ratings_path.split(\".\")[0]\n",
    "csv_path = \"\".join([csv_path, \"_pretraitement\", \".csv\"])\n",
    "\n",
    "print(\"Sauvegarde\", csv_path)\n",
    "user_ratings.to_csv(csv_path, index=False)"
   ]
  },
  {
   "cell_type": "markdown",
   "id": "e46ba1c9",
   "metadata": {},
   "source": [
    "# Corrélations"
   ]
  },
  {
   "cell_type": "code",
   "execution_count": null,
   "id": "329929e5",
   "metadata": {},
   "outputs": [],
   "source": [
    "b"
   ]
  },
  {
   "cell_type": "markdown",
   "id": "b85ab56a",
   "metadata": {},
   "source": [
    "# Suggestion méthode d’apprentissage\n",
    "\n",
    "## Content base\n",
    "\n",
    "Résumé des variables :\n",
    "\n",
    "* **year**\n",
    "* **year_category**\n",
    "* **year_boxcox_std**\n",
    "* **genres**\n",
    "* **genres_tfidf**\n",
    "* **rating_mode**\n",
    "\n",
    "Clusteriser par **rating_mode** ou **year_category** est trivial mais tout de même intéressant dans les cas simple. Quant à **genres**, nous utiliserions dans un premier temps **genres_tfidf**. Une réduction de dimensionalité via PCA ne serait recommendée du à la présence de beaucoup de 0. Une matrice faite par [sklearn.metrics.pairwise_distances](https://tinyurl.com/255b79br) avec une métrique telle que *cosine* ou *hamming* serait injectée dans CAH ou DBSCAN (metric=\"precomputed\"). La visualisation pourrait se faire par [tSNE](https://tinyurl.com/2yh92jxc) ou [MDS](https://tinyurl.com/32u5nx9n). Sinon une ACM sur **genres** pourrait aussi être envisagé.\n",
    "\n",
    "**year_category** pourrait être jumelé à **rating_mode** ou **genres** afin d'examiner des tendances. Encore une fois une ACM semble appropriée. Sinon **year_boxcox_std** avec **rating_mode** ou **genres** via AFDM.\n",
    "\n",
    "\n",
    "## Collaborative filtering\n",
    "\n",
    "La méthode d'apprentissage suggérée est [Singular Value Decomposition](https://tinyurl.com/4emrd5ej)(SVD). Plus particulièrement [TruncatedSVD](https://tinyurl.com/578bxnnt) pour gérer les valeurs manquantes. L'idée générale est de factoriser une matrice de tel sorte que $A = U S V$. Si les rangées de $A$ représentent des utilisateurs, les colonnes des items et les valeurs des notations, alors les rangées de $U$ représentent des utilisateurs, les colonnes l'espace réduit, les rangées de $V$ représentent des produits et les colonnes l'espace réduit. Il sera donc possible de trouver des similarité entre utilisateurs et produits dans l'espace réduit et par conséquent des suggestions. Plutôt embarassant comme similarité avec notre problème vous ne trouvez pas?\n",
    "\n",
    "Les limites de la technique ne nous sont pas famililères mais il apparait évident que la quantité de valeurs manquantes est un facteur déterminant. Dans notre dataset, nous avons au moins 20 notations par utilisateur. L'expérimentation pourrait valider si c'est suffisant."
   ]
  },
  {
   "cell_type": "code",
   "execution_count": null,
   "id": "c977194a",
   "metadata": {},
   "outputs": [],
   "source": []
  }
 ],
 "metadata": {
  "hide_input": false,
  "kernelspec": {
   "display_name": "Python 3 (ipykernel)",
   "language": "python",
   "name": "python3"
  },
  "language_info": {
   "codemirror_mode": {
    "name": "ipython",
    "version": 3
   },
   "file_extension": ".py",
   "mimetype": "text/x-python",
   "name": "python",
   "nbconvert_exporter": "python",
   "pygments_lexer": "ipython3",
   "version": "3.11.3"
  },
  "toc": {
   "base_numbering": 1,
   "nav_menu": {},
   "number_sections": true,
   "sideBar": true,
   "skip_h1_title": false,
   "title_cell": "Table of Contents",
   "title_sidebar": "Contents",
   "toc_cell": false,
   "toc_position": {},
   "toc_section_display": true,
   "toc_window_display": false
  },
  "varInspector": {
   "cols": {
    "lenName": 16,
    "lenType": 16,
    "lenVar": 40
   },
   "kernels_config": {
    "python": {
     "delete_cmd_postfix": "",
     "delete_cmd_prefix": "del ",
     "library": "var_list.py",
     "varRefreshCmd": "print(var_dic_list())"
    },
    "r": {
     "delete_cmd_postfix": ") ",
     "delete_cmd_prefix": "rm(",
     "library": "var_list.r",
     "varRefreshCmd": "cat(var_dic_list()) "
    }
   },
   "types_to_exclude": [
    "module",
    "function",
    "builtin_function_or_method",
    "instance",
    "_Feature"
   ],
   "window_display": false
  },
  "vscode": {
   "interpreter": {
    "hash": "ad2bdc8ecc057115af97d19610ffacc2b4e99fae6737bb82f5d7fb13d2f2c186"
   }
  }
 },
 "nbformat": 4,
 "nbformat_minor": 5
}
