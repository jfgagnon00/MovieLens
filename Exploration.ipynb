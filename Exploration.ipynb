{
 "cells": [
  {
   "cell_type": "code",
   "execution_count": null,
   "id": "61a93a2f",
   "metadata": {
    "ExecuteTime": {
     "end_time": "2023-07-22T22:14:44.093537Z",
     "start_time": "2023-07-22T22:14:44.086513Z"
    }
   },
   "outputs": [],
   "source": [
    "%%html\n",
    "\n",
    "<style>    \n",
    "    @import url(\"css/custom_styles.css\")\n",
    "</style>"
   ]
  },
  {
   "cell_type": "markdown",
   "id": "f9bafcf8",
   "metadata": {},
   "source": [
    "<center>\n",
    "    <h1>\n",
    "    Transformation Et Manipulation Des Données<br>\n",
    "    </h1>\n",
    "    MovieLens - Système de recommendations de films par regroupement<br>\n",
    "    <br>\n",
    "    <b>Jean-Francois Gagnon</b><br>\n",
    "    <br>\n",
    "    420-A56<br>\n",
    "    <br>\n",
    "</center>"
   ]
  },
  {
   "cell_type": "code",
   "execution_count": null,
   "id": "4d914ec6",
   "metadata": {
    "ExecuteTime": {
     "end_time": "2023-07-22T22:14:46.185342Z",
     "start_time": "2023-07-22T22:14:44.902013Z"
    },
    "code_folding": [
     20
    ]
   },
   "outputs": [],
   "source": [
    "#\n",
    "# imports utilitaires\n",
    "#\n",
    "\n",
    "%matplotlib inline\n",
    "\n",
    "import json\n",
    "import matplotlib.pyplot as plt\n",
    "import numpy as np\n",
    "import os\n",
    "import pandas as pd\n",
    "import re\n",
    "import requests\n",
    "import seaborn as sns\n",
    "import time\n",
    "\n",
    "from bs4 import BeautifulSoup\n",
    "from imblearn.under_sampling import RandomUnderSampler\n",
    "from sklearn.cluster import MiniBatchKMeans\n",
    "from sklearn.decomposition import TruncatedSVD\n",
    "\n",
    "from tqdm.notebook import tqdm\n",
    "\n",
    "#\n",
    "# imports faisant partie de nos propres modules\n",
    "#\n",
    "\n",
    "import helpers as hlp\n",
    "import helpers.dataset.MovieLens as mvl\n",
    "import helpers.WebScraping as scrap\n",
    "import helpers.Clustering as clstr\n",
    "\n",
    "from helpers.jupyter import display_html"
   ]
  },
  {
   "cell_type": "markdown",
   "id": "e2e527b6",
   "metadata": {},
   "source": [
    "# Exploration\n",
    "\n",
    "**ATTENTION** il faut exécuter Pretraitement.ipynb avant celui-ci"
   ]
  },
  {
   "cell_type": "code",
   "execution_count": null,
   "id": "b0c482f5",
   "metadata": {
    "ExecuteTime": {
     "end_time": "2023-07-22T22:14:46.261427Z",
     "start_time": "2023-07-22T22:14:46.226131Z"
    }
   },
   "outputs": [],
   "source": [
    "movies_df = pd.read_csv(\"dataset/movies_pretraitement.csv\")\n",
    "\n",
    "print(\"Movies\", movies_df.shape)\n",
    "clstr.show_types(movies_df)\n",
    "clstr.show_na(movies_df)\n",
    "\n",
    "print(\"Head\")\n",
    "display(movies_df.head().round(2))"
   ]
  },
  {
   "cell_type": "markdown",
   "id": "99d555e3",
   "metadata": {},
   "source": [
    "<font class=\"answer\">\n",
    "\n",
    "* 9724 individus, 7 variables (*title* est en fait un identifiant).\n",
    "* aucune valeur manquante  \n",
    "* *genres* est de type qualitatif, les autres variables sont quantitatives. Cependant, en regardant de plus près les descriptions de MovieLens, on se rend compte que tout est en fait qualitatif (rating est un système d'étoile avec une granularité de $\\frac{1}{2}$)."
   ]
  },
  {
   "cell_type": "code",
   "execution_count": null,
   "id": "53d25827",
   "metadata": {
    "ExecuteTime": {
     "end_time": "2023-07-22T22:14:48.518760Z",
     "start_time": "2023-07-22T22:14:48.514233Z"
    }
   },
   "outputs": [],
   "source": [
    "# si jamais certains algos sont slow\n",
    "movies_samples_df = movies_df.sample(frac=0.4)\n",
    "\n",
    "print(movies_df.shape)\n",
    "print(movies_samples_df.shape)"
   ]
  },
  {
   "cell_type": "markdown",
   "id": "08a7d7ce",
   "metadata": {},
   "source": [
    "## Distributions"
   ]
  },
  {
   "cell_type": "code",
   "execution_count": null,
   "id": "63bc0989",
   "metadata": {
    "ExecuteTime": {
     "end_time": "2023-07-22T22:14:50.220145Z",
     "start_time": "2023-07-22T22:14:50.162694Z"
    }
   },
   "outputs": [],
   "source": [
    "coi = movies_df.columns.to_list()\n",
    "coi.remove(\"movieId\")\n",
    "coi.remove(\"title\")\n",
    "coi.remove(\"genres\")\n",
    "\n",
    "print(\"Stats générales\")\n",
    "for c in coi:\n",
    "    display(movies_df[c].describe().to_frame().T)"
   ]
  },
  {
   "cell_type": "code",
   "execution_count": null,
   "id": "b15ac7ee",
   "metadata": {
    "ExecuteTime": {
     "end_time": "2023-07-22T22:14:54.504168Z",
     "start_time": "2023-07-22T22:14:53.388532Z"
    }
   },
   "outputs": [],
   "source": [
    "coi = movies_df.columns.to_list()\n",
    "coi.remove(\"movieId\")\n",
    "coi.remove(\"title\")\n",
    "coi.remove(\"genres\")\n",
    "\n",
    "clstr.show_distributions(movies_df[coi], num_cols=3, figsize=(10, 5))"
   ]
  },
  {
   "cell_type": "markdown",
   "id": "f45bec2a",
   "metadata": {},
   "source": [
    "<font class=\"answer\">\n",
    "    \n",
    "* Les films sont surtout récent: peak autour de l'an 2000\n",
    "* Les films sont majoritairement votés par peu de personnes. Distribution très alongée avec un très for peak dans les faibles valeurs.\n",
    "* rating moyen et median semble similaire; la majorité des rating est entre 3 et 4.\n",
    "* rating_min et rating_max plus difficile à interpreter. Fait probablement plus de sens de mettre ce genre de stats par user?  "
   ]
  },
  {
   "cell_type": "code",
   "execution_count": null,
   "id": "7fbd1a70",
   "metadata": {
    "ExecuteTime": {
     "end_time": "2023-07-22T22:17:00.525096Z",
     "start_time": "2023-07-22T22:17:00.466629Z"
    }
   },
   "outputs": [],
   "source": [
    "genres = {}\n",
    "\n",
    "def genre_hist(genres_array):\n",
    "    print(type(genres_array))\n",
    "    print(genres_array)\n",
    "\n",
    "movies_df.genres.apply(genre_hist)\n",
    "\n",
    "# display(movies_df.genres)\n",
    "\n",
    "\n",
    "# sns.countplot(x=\"genres\", data=movies_df)\n",
    "# plt.xticks(rotation=90)\n",
    "# plt.show()"
   ]
  },
  {
   "cell_type": "markdown",
   "id": "2fa11a85",
   "metadata": {},
   "source": [
    "## Valeurs aberrantes\n",
    "\n",
    "Si on se positione dans un contexte de sugestion, on peu assumer des films récent et populaire donc rating_count, year et rating_mean sont des bons candidats pour filtrer rating_min et rating_max sont trop confus pour tirer des conclusions"
   ]
  },
  {
   "cell_type": "code",
   "execution_count": null,
   "id": "240057e1",
   "metadata": {
    "ExecuteTime": {
     "end_time": "2023-07-22T22:00:41.451339Z",
     "start_time": "2023-07-22T22:00:39.905176Z"
    }
   },
   "outputs": [],
   "source": [
    "g = sns.pairplot(data=movies_df, vars=[\"year\", \"rating_count\", \"rating_mean\"], corner=True)\n",
    "# g.fig.set_size_inches(9, 6)"
   ]
  },
  {
   "cell_type": "code",
   "execution_count": null,
   "id": "bc14a24a",
   "metadata": {
    "ExecuteTime": {
     "end_time": "2023-07-22T22:03:35.283473Z",
     "start_time": "2023-07-22T22:03:35.125408Z"
    }
   },
   "outputs": [],
   "source": [
    "coi = movies_df.columns.to_list()\n",
    "coi.remove(\"movieId\")\n",
    "coi.remove(\"title\")\n",
    "coi.remove(\"genres\")\n",
    "coi.remove(\"rating_median\")\n",
    "coi.remove(\"rating_min\")\n",
    "coi.remove(\"rating_max\")\n",
    "\n",
    "clstr.show_correlation(movies_df[coi], figsize=(4, 2.5))"
   ]
  },
  {
   "cell_type": "code",
   "execution_count": null,
   "id": "a33bafbc",
   "metadata": {},
   "outputs": [],
   "source": []
  }
 ],
 "metadata": {
  "hide_input": false,
  "kernelspec": {
   "display_name": "Python 3 (ipykernel)",
   "language": "python",
   "name": "python3"
  },
  "language_info": {
   "codemirror_mode": {
    "name": "ipython",
    "version": 3
   },
   "file_extension": ".py",
   "mimetype": "text/x-python",
   "name": "python",
   "nbconvert_exporter": "python",
   "pygments_lexer": "ipython3",
   "version": "3.11.3"
  },
  "toc": {
   "base_numbering": 1,
   "nav_menu": {},
   "number_sections": true,
   "sideBar": true,
   "skip_h1_title": false,
   "title_cell": "Table of Contents",
   "title_sidebar": "Contents",
   "toc_cell": false,
   "toc_position": {},
   "toc_section_display": true,
   "toc_window_display": false
  },
  "varInspector": {
   "cols": {
    "lenName": 16,
    "lenType": 16,
    "lenVar": 40
   },
   "kernels_config": {
    "python": {
     "delete_cmd_postfix": "",
     "delete_cmd_prefix": "del ",
     "library": "var_list.py",
     "varRefreshCmd": "print(var_dic_list())"
    },
    "r": {
     "delete_cmd_postfix": ") ",
     "delete_cmd_prefix": "rm(",
     "library": "var_list.r",
     "varRefreshCmd": "cat(var_dic_list()) "
    }
   },
   "types_to_exclude": [
    "module",
    "function",
    "builtin_function_or_method",
    "instance",
    "_Feature"
   ],
   "window_display": false
  },
  "vscode": {
   "interpreter": {
    "hash": "ad2bdc8ecc057115af97d19610ffacc2b4e99fae6737bb82f5d7fb13d2f2c186"
   }
  }
 },
 "nbformat": 4,
 "nbformat_minor": 5
}
