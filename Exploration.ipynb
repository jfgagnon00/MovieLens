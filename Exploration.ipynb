{
 "cells": [
  {
   "cell_type": "code",
   "execution_count": 1,
   "id": "61a93a2f",
   "metadata": {
    "ExecuteTime": {
     "end_time": "2023-07-25T02:04:50.499429Z",
     "start_time": "2023-07-25T02:04:50.493080Z"
    },
    "code_folding": [
     0
    ]
   },
   "outputs": [
    {
     "data": {
      "text/html": [
       "<!-- definir quelques styles custom pour l'ensemble du notebook -->\n",
       "<style>    \n",
       "    @import url(\"css/custom_styles.css\")\n",
       "</style>\n"
      ],
      "text/plain": [
       "<IPython.core.display.HTML object>"
      ]
     },
     "metadata": {},
     "output_type": "display_data"
    }
   ],
   "source": [
    "%%html\n",
    "<!-- definir quelques styles custom pour l'ensemble du notebook -->\n",
    "<style>    \n",
    "    @import url(\"css/custom_styles.css\")\n",
    "</style>"
   ]
  },
  {
   "cell_type": "markdown",
   "id": "f9bafcf8",
   "metadata": {},
   "source": [
    "<center>\n",
    "    <h1>\n",
    "    Transformation Et Manipulation Des Données<br>\n",
    "    </h1>\n",
    "    MovieLens - Système de recommendations de films par regroupement<br>\n",
    "    <br>\n",
    "    <b>Jean-Francois Gagnon</b><br>\n",
    "    <br>\n",
    "    420-A56<br>\n",
    "    <br>\n",
    "</center>"
   ]
  },
  {
   "cell_type": "code",
   "execution_count": null,
   "id": "4d914ec6",
   "metadata": {
    "ExecuteTime": {
     "start_time": "2023-07-25T02:04:50.496Z"
    },
    "code_folding": [
     20
    ]
   },
   "outputs": [],
   "source": [
    "#\n",
    "# imports utilitaires\n",
    "#\n",
    "\n",
    "%matplotlib widget\n",
    "\n",
    "import matplotlib.pyplot as plt\n",
    "import numpy as np\n",
    "import pandas as pd\n",
    "import seaborn as sns\n",
    "\n",
    "from functools import reduce\n",
    "from sklearn.cluster import MiniBatchKMeans\n",
    "from sklearn.decomposition import TruncatedSVD\n",
    "\n",
    "from tqdm.notebook import tqdm\n",
    "\n",
    "#\n",
    "# imports faisant partie de nos propres modules\n",
    "#\n",
    "\n",
    "import helpers as hlp\n",
    "import helpers.Clustering as clstr\n",
    "\n",
    "from helpers.jupyter import display_html"
   ]
  },
  {
   "cell_type": "markdown",
   "id": "e2e527b6",
   "metadata": {},
   "source": [
    "# Exploration\n",
    "\n",
    "**ATTENTION** il faut exécuter Pretraitement.ipynb avant celui-ci"
   ]
  },
  {
   "cell_type": "code",
   "execution_count": null,
   "id": "0608a7a3",
   "metadata": {
    "ExecuteTime": {
     "start_time": "2023-07-25T02:04:50.499Z"
    }
   },
   "outputs": [],
   "source": [
    "#\n",
    "# parametres configurant nos traitemens\n",
    "#\n",
    "configs = hlp.get_configs(\"config_overrides.json\")"
   ]
  },
  {
   "cell_type": "code",
   "execution_count": null,
   "id": "b0c482f5",
   "metadata": {
    "ExecuteTime": {
     "start_time": "2023-07-25T02:04:50.501Z"
    }
   },
   "outputs": [],
   "source": [
    "# imdbId doit etre garde en string (leading 0)\n",
    "movies_df = pd.read_csv(\"dataset/movies_pretraitement.csv\", dtype={\"imdbId\": \"string\"})\n",
    "\n",
    "print(\"Movies\", movies_df.shape)\n",
    "print(\"Head\")\n",
    "display(movies_df.head().round(2))\n",
    "clstr.show_na(movies_df)\n",
    "clstr.show_types(movies_df)"
   ]
  },
  {
   "cell_type": "markdown",
   "id": "99d555e3",
   "metadata": {},
   "source": [
    "<font class=\"answer\">\n",
    "\n",
    "* 9724 individus, 7 variables (movieId, imdbId et *title* sont en fait des identifiants).\n",
    "* aucune valeur manquante  \n",
    "* *genres* est de type qualitatif, les autres variables sont quantitatives. Cependant, en regardant les descriptions de MovieLens, on se rend compte que tout est en fait qualitatif (rating est un système d'étoiles avec une granularité de $\\frac{1}{2}$)."
   ]
  },
  {
   "cell_type": "code",
   "execution_count": null,
   "id": "a203517a",
   "metadata": {
    "ExecuteTime": {
     "start_time": "2023-07-25T02:04:50.504Z"
    }
   },
   "outputs": [],
   "source": [
    "quant_cols = movies_df.columns[4:]\n",
    "quant_df = movies_df[quant_cols]\n",
    "\n",
    "qual_cols = [\"genres\"]\n",
    "qual_df = movies_df[qual_cols]"
   ]
  },
  {
   "cell_type": "markdown",
   "id": "08a7d7ce",
   "metadata": {},
   "source": [
    "## Distributions - variables quantitatives"
   ]
  },
  {
   "cell_type": "code",
   "execution_count": null,
   "id": "63bc0989",
   "metadata": {
    "ExecuteTime": {
     "start_time": "2023-07-25T02:04:50.508Z"
    }
   },
   "outputs": [],
   "source": [
    "print(\"Stats générales - variables quantitatives\")\n",
    "display(quant_df.describe().round(2))\n",
    "\n",
    "print(\"Distributions - variables quantitatives\")\n",
    "clstr.show_distributions(quant_df, num_cols=2, figsize=(10, 7))"
   ]
  },
  {
   "cell_type": "markdown",
   "id": "f45bec2a",
   "metadata": {},
   "source": [
    "<font class=\"answer\">\n",
    "    \n",
    "### *year*\n",
    "Les films sont relativement récents: peak autour de l'an 2000. La base de données couvre un large spectre et la distribution est allongée: queue à gauche.\n",
    "    \n",
    "### *rating_count*\n",
    "Les films sont majoritairement votés par peu de personnes. Distribution très alongée avec un très fort peak dans les faibles valeurs. 75% de la poputlation a moins de 9 votes, 25% n'en a qu'un seul. J'interprète cette métrique comme une mesure de la popularité.\n",
    "    \n",
    "### *rating_mode*, *rating_mean* et *rating_median* \n",
    "Très similaire: la majorité des votes se trouvent entre 3 et 4. Distrubution très près d'une gaussienne.\n",
    "\n",
    "### *rating_etendue*, *rating_std* et *rating_iqr*\n",
    "\n",
    "**Ces métriques ont étés enlevés**\n",
    "    \n",
    "Ces métriques mesurent la dispersion des votes des utilisateurs pour un film. Je l'interprète comme une mesure de \"concensus\". 0 marquent les films où il n'y a qu'un seul vote. *rating_etendue* montrent bien que comparer les valeurs des votes n'apporte que peu d'information (toute l'étendue est représentée). *rating_std* et *rating_iqr* semblent plus montrer une tendance. Les votes semblent comparable dans un interval d'environ [0.5, 1.0]."
   ]
  },
  {
   "cell_type": "code",
   "execution_count": null,
   "id": "d4b98a84",
   "metadata": {
    "ExecuteTime": {
     "start_time": "2023-07-25T02:04:50.514Z"
    }
   },
   "outputs": [],
   "source": [
    "clstr.show_correlation(quant_df)\n",
    "\n",
    "# pour simplifier visualisation du pair plot\n",
    "quant_sampled_df = quant_df.sample(frac=0.2)\n",
    "sns.pairplot(quant_sampled_df, corner=True);"
   ]
  },
  {
   "cell_type": "markdown",
   "id": "7e6999fc",
   "metadata": {},
   "source": [
    "Ici on devrait trancher: garde year, rating_mean"
   ]
  },
  {
   "cell_type": "markdown",
   "id": "d0e4d47c",
   "metadata": {},
   "source": [
    "## Distributions - variables qualitatives"
   ]
  },
  {
   "cell_type": "code",
   "execution_count": null,
   "id": "7fbd1a70",
   "metadata": {
    "ExecuteTime": {
     "start_time": "2023-07-25T02:04:50.520Z"
    }
   },
   "outputs": [],
   "source": [
    "genres_count = {}\n",
    "for genres_str in movies_df.genres:\n",
    "    genre_array = genres_str.split(configs.dataset.genre_splitter)\n",
    "    for genre in genre_array:\n",
    "        if genre in genres_count:\n",
    "            genres_count[genre] += 1\n",
    "        else:\n",
    "            genres_count[genre] = 1\n",
    "\n",
    "genres_df = pd.Series(data=genres_count.values(),\n",
    "                      index=genres_count.keys(),\n",
    "                      name=\"count\")\n",
    "genres_df.sort_values(ascending=False, inplace=True)\n",
    "print(genres_df)\n",
    "\n",
    "plt.bar(genres_df.index, genres_df.values)\n",
    "plt.xticks(rotation=90)\n",
    "plt.show()"
   ]
  },
  {
   "cell_type": "markdown",
   "id": "cf57031a",
   "metadata": {},
   "source": [
    "<font class=\"answer\">\n",
    "    \n",
    "Forte proportion dans Drame et Comedy"
   ]
  },
  {
   "cell_type": "markdown",
   "id": "2fa11a85",
   "metadata": {},
   "source": [
    "## Valeurs aberrantes\n",
    "\n",
    "Si on se positione dans un contexte de sugestion, on peu assumer des films récent et populaire donc rating_count, year et rating_mean sont des bons candidats pour filtrer rating_min et rating_max sont trop confus pour tirer des conclusions"
   ]
  },
  {
   "cell_type": "code",
   "execution_count": null,
   "id": "a33bafbc",
   "metadata": {
    "ExecuteTime": {
     "start_time": "2023-07-25T02:04:50.525Z"
    }
   },
   "outputs": [],
   "source": [
    "coords = movies_df.rating_count.to_numpy().reshape(-1, 1)\n",
    "clstr.kmeans_analysis(coords)"
   ]
  },
  {
   "cell_type": "code",
   "execution_count": null,
   "id": "d51003b1",
   "metadata": {
    "ExecuteTime": {
     "start_time": "2023-07-25T02:04:50.525Z"
    }
   },
   "outputs": [],
   "source": [
    "kmeans = clstr.kmeans_init(coords, 2)\n",
    "kmeans.cluster_centers_"
   ]
  },
  {
   "cell_type": "code",
   "execution_count": null,
   "id": "d55846aa",
   "metadata": {
    "ExecuteTime": {
     "start_time": "2023-07-25T02:04:50.526Z"
    }
   },
   "outputs": [],
   "source": [
    "# ll, _ = clstr.transform_boxcox(movies_df, columns=[\"rating_count\"])\n",
    "\n",
    "ddd = movies_df.rating_count.to_frame().copy()\n",
    "ddd[\"cluster\"] = kmeans.labels_\n",
    "\n",
    "sns.histplot(x=\"rating_count\", data=ddd, hue=\"cluster\")\n",
    "plt.show()"
   ]
  },
  {
   "cell_type": "code",
   "execution_count": null,
   "id": "7172e249",
   "metadata": {},
   "outputs": [],
   "source": []
  }
 ],
 "metadata": {
  "hide_input": false,
  "kernelspec": {
   "display_name": "Python 3 (ipykernel)",
   "language": "python",
   "name": "python3"
  },
  "language_info": {
   "codemirror_mode": {
    "name": "ipython",
    "version": 3
   },
   "file_extension": ".py",
   "mimetype": "text/x-python",
   "name": "python",
   "nbconvert_exporter": "python",
   "pygments_lexer": "ipython3",
   "version": "3.11.3"
  },
  "toc": {
   "base_numbering": 1,
   "nav_menu": {},
   "number_sections": true,
   "sideBar": true,
   "skip_h1_title": false,
   "title_cell": "Table of Contents",
   "title_sidebar": "Contents",
   "toc_cell": false,
   "toc_position": {},
   "toc_section_display": true,
   "toc_window_display": false
  },
  "varInspector": {
   "cols": {
    "lenName": 16,
    "lenType": 16,
    "lenVar": 40
   },
   "kernels_config": {
    "python": {
     "delete_cmd_postfix": "",
     "delete_cmd_prefix": "del ",
     "library": "var_list.py",
     "varRefreshCmd": "print(var_dic_list())"
    },
    "r": {
     "delete_cmd_postfix": ") ",
     "delete_cmd_prefix": "rm(",
     "library": "var_list.r",
     "varRefreshCmd": "cat(var_dic_list()) "
    }
   },
   "types_to_exclude": [
    "module",
    "function",
    "builtin_function_or_method",
    "instance",
    "_Feature"
   ],
   "window_display": false
  },
  "vscode": {
   "interpreter": {
    "hash": "ad2bdc8ecc057115af97d19610ffacc2b4e99fae6737bb82f5d7fb13d2f2c186"
   }
  }
 },
 "nbformat": 4,
 "nbformat_minor": 5
}
