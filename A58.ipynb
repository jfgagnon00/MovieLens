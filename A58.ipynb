{
 "cells": [
  {
   "cell_type": "code",
   "execution_count": null,
   "id": "61a93a2f",
   "metadata": {
    "ExecuteTime": {
     "end_time": "2023-08-07T00:58:48.182605Z",
     "start_time": "2023-08-07T00:58:48.175693Z"
    },
    "code_folding": [
     0
    ]
   },
   "outputs": [],
   "source": [
    "%%html\n",
    "<!-- definir quelques styles custom pour l'ensemble du notebook -->\n",
    "<style>    \n",
    "    @import url(\"css/custom_styles.css\")\n",
    "</style>"
   ]
  },
  {
   "cell_type": "markdown",
   "id": "f9bafcf8",
   "metadata": {},
   "source": [
    "<center>\n",
    "    <h1>\n",
    "    Algorithmes d’apprentissage non supervisé<br>\n",
    "    </h1>\n",
    "    MovieLens - Système de recommendations de films par regroupement<br>\n",
    "    <br>\n",
    "    <b>Jean-Francois Gagnon</b><br>\n",
    "    <b>Michèle de La Sablonnière</b><br>\n",
    "    <br>\n",
    "    420-A58<br>\n",
    "    <br>\n",
    "</center>"
   ]
  },
  {
   "cell_type": "markdown",
   "id": "6ea78d70",
   "metadata": {},
   "source": [
    "# Introduction\n",
    "    \n",
    "Nous avons choisi la base de données [MovieLens Small](https://tinyurl.com/bdhmcfht). Elle décrit les notations des utilisateurs de MovieLens; un service en ligne de recommandation de films. Elle a été préalablement traité afin d'extraire les informations intéressantes pour un système de suggestion par clusterisation et règles d'associations. Les résultats se trouvent dans 2 nouveaux fichiers. \n",
    "\n",
    "<br>**movies_pretraitement.csv**\n",
    "\n",
    "Condensé des informations pertinente pour 1 film. Chaque ligne a ce format:\n",
    "\n",
    "<div class=\"indentation\">\n",
    "<div class=\"fixblock\"> movieId, imdbId, title, year, year_category, year_boxcox_std, rating_mode, genres, genres_tfidf_*</div>\n",
    "\n",
    "|Attribut|<center>Description</center>|\n",
    "|:-|:---|\n",
    "|movieId| Identifiant du film dans cette base de données.|\n",
    "|imdbId| Identifiant du film dans [Internet Movie Database](http://www.imdb.com).|\n",
    "|title| Titre du film. Peut contenir l'année de parution.|\n",
    "|year| Année de parution du film.|\n",
    "|year_category| **year** catégorisé.|\n",
    "|year_boxcox_std| **year** transformé par BoxCox et StandardScaler.|\n",
    "|rating_mode| Nombre d'étoiles attribuées avec une granularité de $\\frac{1}{2}$. |    \n",
    "|genres| Genres. Liste de mots séparés par un 'pipe' (\\|). |\n",
    "|genres_tfidf_*| Genres encodé selon TF-IDF. Ici l'étoile représente toutes les modalités de **genres**. |\n",
    "</div>\n",
    "\n",
    "<br>**ratings_pretraitement.csv**\n",
    "\n",
    "Ce fichier contient les métadonnées de chaque film. Chaque ligne a ce format:\n",
    "\n",
    "**a valider**\n",
    "<div class=\"indentation\">\n",
    "<div class=\"fixblock\">userId, films*</div>\n",
    "\n",
    "|Attribut|<center>Description</center>|\n",
    "|:-|:---|\n",
    "|userId| Identifiant de l'utilisateur.|\n",
    "|films*| Identifiant du film. Ici l'étoile représente 1 colonne par film |\n",
    "</div>\n",
    "\n",
    "<br>\n",
    "\n",
    "L'objectif de ce projet est de clusteriser."
   ]
  },
  {
   "cell_type": "code",
   "execution_count": null,
   "id": "4d914ec6",
   "metadata": {
    "ExecuteTime": {
     "end_time": "2023-08-06T21:19:36.088267Z",
     "start_time": "2023-08-06T21:19:35.669230Z"
    },
    "code_folding": [
     0
    ]
   },
   "outputs": [],
   "source": [
    "#\n",
    "# imports utilitaires\n",
    "#\n",
    "\n",
    "%matplotlib inline\n",
    "\n",
    "import matplotlib.pyplot as plt\n",
    "import numpy as np\n",
    "import pandas as pd\n",
    "import seaborn as sns\n",
    "\n",
    "from mlxtend.frequent_patterns import apriori, association_rules\n",
    "from sklearn.cluster import KMeans\n",
    "from sklearn.decomposition import PCA, TruncatedSVD\n",
    "from sklearn.metrics import pairwise_distances\n",
    "\n",
    "#\n",
    "# imports faisant partie de nos propres modules\n",
    "#\n",
    "\n",
    "import helpers as hlp\n",
    "import helpers.Clustering as clstr\n",
    "import helpers.jupyter as jup"
   ]
  },
  {
   "cell_type": "markdown",
   "id": "e2e527b6",
   "metadata": {},
   "source": [
    "# Lecteure des données"
   ]
  },
  {
   "cell_type": "code",
   "execution_count": null,
   "id": "0608a7a3",
   "metadata": {
    "ExecuteTime": {
     "end_time": "2023-08-06T23:53:40.120654Z",
     "start_time": "2023-08-06T23:53:39.803023Z"
    }
   },
   "outputs": [],
   "source": [
    "#\n",
    "# parametres configurant nos traitemens\n",
    "#\n",
    "configs = hlp.get_configs(\"config_overrides.json\")\n",
    "\n",
    "# imdbId doit etre garde en string (leading 0)\n",
    "# voir la partie pretraitement pour comprendre pourquoi rating_mode et rating_median sont en string\n",
    "movies_df = pd.read_csv(\"dataset/movies_pretraitement.csv\", \n",
    "                        dtype={\"imdbId\": str})\n",
    "\n",
    "print(\"Movies\", movies_df.shape)\n",
    "print(\"Head\")\n",
    "display(movies_df.head().round(2))\n",
    "clstr.show_types(movies_df)\n",
    "clstr.show_na(movies_df);"
   ]
  },
  {
   "cell_type": "markdown",
   "id": "99d555e3",
   "metadata": {},
   "source": [
    "* 9460 individus, 26 variables\n",
    "* aucune valeur manquante  \n",
    "* *genres* est de type qualitatif. \n",
    "* *year* quantitatif.\n",
    "* *rating_mode* sont qualitatif ordinal."
   ]
  },
  {
   "cell_type": "code",
   "execution_count": null,
   "id": "a203517a",
   "metadata": {
    "ExecuteTime": {
     "end_time": "2023-08-07T00:06:37.951889Z",
     "start_time": "2023-08-07T00:06:37.946234Z"
    }
   },
   "outputs": [],
   "source": [
    "quant_cols = [\"year\", \"year_boxcox_std\"]\n",
    "quant_df = movies_df[quant_cols]\n",
    "\n",
    "qual_cols = [\"year_category\", \"genres\"]\n",
    "qual_df = movies_df[qual_cols]\n",
    "\n",
    "tfidf_cols = movies_df.columns.str.contains(\"genres_tfidf_\")\n",
    "tfidf_cols = movies_df.columns[tfidf_cols]\n",
    "genres_tfidf_df = movies_df[tfidf_cols]"
   ]
  },
  {
   "cell_type": "markdown",
   "id": "08a7d7ce",
   "metadata": {},
   "source": [
    "## Distributions - variables quantitatives"
   ]
  },
  {
   "cell_type": "code",
   "execution_count": null,
   "id": "63bc0989",
   "metadata": {
    "ExecuteTime": {
     "end_time": "2023-08-07T00:08:21.831561Z",
     "start_time": "2023-08-07T00:08:21.489552Z"
    }
   },
   "outputs": [],
   "source": [
    "print(\"Stats générales - variables quantitatives\")\n",
    "display(quant_df.describe().T.round(2))\n",
    "print()\n",
    "print(\"Distributions - variables quantitatives\")\n",
    "clstr.show_distributions(quant_df, num_cols=2, figsize=(10, 2.5))"
   ]
  },
  {
   "cell_type": "markdown",
   "id": "f45bec2a",
   "metadata": {},
   "source": [
    "### *year*\n",
    "Les films sont relativement récents: peak autour de l'an 2000. La base de données couvre un large spectre et la distribution est allongée: queue à gauche.\n",
    "    \n",
    "### *year_boxcox_std* \n",
    "Distrubution très près d'une gaussienne et multimodale. On voit bien l'effet des catégories. La majorités des votes sont entre [3, 4]"
   ]
  },
  {
   "cell_type": "markdown",
   "id": "46324398",
   "metadata": {},
   "source": [
    "# Valeurs aberrantes - variables quantitatives"
   ]
  },
  {
   "cell_type": "code",
   "execution_count": null,
   "id": "309c3699",
   "metadata": {
    "ExecuteTime": {
     "end_time": "2023-08-07T00:15:05.440884Z",
     "start_time": "2023-08-07T00:15:05.245841Z"
    }
   },
   "outputs": [],
   "source": [
    "clstr.show_outliers_iqr(quant_df, \n",
    "                        eta=1.5,\n",
    "                        boxlists=[[\"year\"], [\"year_boxcox_std\"]],\n",
    "                        figsize=(7, 2.5));"
   ]
  },
  {
   "cell_type": "markdown",
   "id": "1056ba75",
   "metadata": {},
   "source": [
    "Dire qu'on prend **year_boxcox_std**"
   ]
  },
  {
   "cell_type": "markdown",
   "id": "c25600e1",
   "metadata": {},
   "source": [
    "# Distributions - variables qualitatives\n",
    "\n",
    "Dire que tf-idf n'a pas a etre afficher comme distribution."
   ]
  },
  {
   "cell_type": "code",
   "execution_count": null,
   "id": "b0c8370f",
   "metadata": {
    "ExecuteTime": {
     "end_time": "2023-08-07T00:49:52.066385Z",
     "start_time": "2023-08-07T00:49:51.730513Z"
    }
   },
   "outputs": [],
   "source": [
    "year_category_ohe_df = qual_df.year_category.str.get_dummies()\n",
    "year_category_count = year_category_ohe_df.sum(axis=0)\n",
    "\n",
    "genres_ohe_df = qual_df.genres.str.get_dummies(sep=configs.dataset.genre_splitter)\n",
    "genres_count = genres_ohe_df.sum(axis=0)\n",
    "genres_count.sort_values(ascending=False, inplace=True)\n",
    "\n",
    "\n",
    "plt.figure(figsize=(8, 3))\n",
    "\n",
    "plt.subplot(121)\n",
    "plt.bar(year_category_count.index, year_category_count)\n",
    "plt.title(\"year_category\")\n",
    "\n",
    "plt.subplot(122)\n",
    "plt.bar(genres_count.index, genres_count)\n",
    "plt.tick_params(axis=\"x\", labelrotation=90)\n",
    "plt.title(\"genres\")\n",
    "             \n",
    "plt.tight_layout()\n",
    "plt.show()"
   ]
  },
  {
   "cell_type": "markdown",
   "id": "619a654a",
   "metadata": {},
   "source": [
    "* Forte proportion dans Drama et Comedy"
   ]
  },
  {
   "cell_type": "markdown",
   "id": "4691652d",
   "metadata": {},
   "source": [
    "# Corrélation et reduction de dimensions\n",
    "\n",
    "TODO"
   ]
  },
  {
   "cell_type": "markdown",
   "id": "a458ed40",
   "metadata": {},
   "source": [
    "# Clustering\n",
    "\n",
    "Les variables retenues sont donc:\n",
    "    \n",
    "* genres\n",
    "* year_category\n",
    "* rating_mode\n",
    "\n",
    "On va aussi essayer tf-idf"
   ]
  },
  {
   "cell_type": "code",
   "execution_count": null,
   "id": "c0d21ffc",
   "metadata": {},
   "outputs": [],
   "source": [
    "erreur volontaire ici"
   ]
  },
  {
   "cell_type": "code",
   "execution_count": null,
   "id": "806d34ba",
   "metadata": {},
   "outputs": [],
   "source": []
  },
  {
   "cell_type": "code",
   "execution_count": null,
   "id": "10a14ccb",
   "metadata": {},
   "outputs": [],
   "source": []
  },
  {
   "cell_type": "code",
   "execution_count": null,
   "id": "1b164590",
   "metadata": {},
   "outputs": [],
   "source": []
  },
  {
   "cell_type": "code",
   "execution_count": null,
   "id": "3dd1079c",
   "metadata": {},
   "outputs": [],
   "source": []
  },
  {
   "cell_type": "code",
   "execution_count": null,
   "id": "a558eae9",
   "metadata": {
    "ExecuteTime": {
     "end_time": "2023-08-07T00:58:12.277096Z",
     "start_time": "2023-08-07T00:58:12.274611Z"
    }
   },
   "outputs": [],
   "source": [
    "# tsvd_sample = TruncatedSVD(n_components=31)\n",
    "# tsvd_sample_df = tsvd_sample.fit_transform(acm_dummies_sample_df)\n",
    "\n",
    "# ss = np.cumsum(tsvd_sample.explained_variance_ratio_)\n",
    "\n",
    "# plt.plot(range(1, ss.shape[0] + 1), ss, marker=\".\")\n",
    "# plt.grid(True)\n",
    "# plt.show\n",
    "\n",
    "# plt.scatter(tsvd_sample_df[:, 1], tsvd_sample_df[:, 2], s=0.5)\n",
    "# plt.show()"
   ]
  },
  {
   "cell_type": "code",
   "execution_count": null,
   "id": "1ce55cbf",
   "metadata": {
    "ExecuteTime": {
     "end_time": "2023-08-03T00:35:23.062363Z",
     "start_time": "2023-08-03T00:35:22.937458Z"
    },
    "code_folding": [
     0,
     15,
     43,
     59
    ]
   },
   "outputs": [],
   "source": [
    "class MCA_from_dummies(Base):\n",
    "    def __init__(self, n_components=None, row_labels=None, var_labels=None, stats=True):\n",
    "        Base.__init__(self, n_components, row_labels, None, stats)\n",
    "        self.var_labels = var_labels\n",
    "        \n",
    "    def prefit(self, X, X_dummies):\n",
    "        # Set columns prefixes\n",
    "        self.n_vars_ = X.shape[1]\n",
    "        self.prefixes_ = self.prefixes_ = [str(x) + \"_\" for x in self.var_labels]\n",
    "        self.col_labels_short_temp_ = [x.split(\"_\")[-1] for x in X_dummies.columns]\n",
    "        self.col_labels_temp_ = X_dummies.columns\n",
    "                \n",
    "        # Dummy variables creation\n",
    "        self.n_categories_ = X_dummies.shape[1]\n",
    "    \n",
    "    def fit(self, X_dummies, y=None):\n",
    "        # Fit a Factorial Analysis to the dummy variables table\n",
    "        self.r_ = np.sum(X_dummies, axis=1).reshape(-1, 1)\n",
    "        Base.fit(self, X_dummies, y=None)\n",
    "        \n",
    "        # Adjustment of the number of components\n",
    "        n_eigen = self.n_categories_ - self.n_vars_\n",
    "        if (self.n_components_ > n_eigen):\n",
    "            self.n_components_ = n_eigen\n",
    "            self.eig_ = self.eig_[:, :self.n_components_]\n",
    "            self.row_coord_ = self.row_coord_[:, :self.n_components_]\n",
    "            self.col_coord_ = self.col_coord_[:, :self.n_components_]\n",
    "            if self.stats:\n",
    "                self.row_contrib_ = self.row_contrib_[:, :self.n_components_]\n",
    "                self.col_contrib_ = self.col_contrib_[:, :self.n_components_]\n",
    "                self.row_cos2_ = self.row_cos2_[:, :self.n_components_]\n",
    "                self.col_cos2_ = self.col_cos2_[:, :self.n_components_]\n",
    "\n",
    "        # Set col_labels_short_\n",
    "        self.col_labels_short_ = self.col_labels_short_temp_\n",
    "        \n",
    "        # Set col_labels_\n",
    "        self.col_labels_ = self.col_labels_temp_        \n",
    "        \n",
    "        self.model_ = \"mca\"\n",
    "        \n",
    "        return self\n",
    "                        \n",
    "def acm_init(data, n_components, data_dummies=None):\n",
    "    if data_dummies is None:\n",
    "        acm = MCA(n_components=n_components,\n",
    "                  row_labels=data.index,\n",
    "                  var_labels=data.columns)\n",
    "        acm.fit(data.to_numpy())\n",
    "    else:\n",
    "        acm = MCA_from_dummies(n_components=n_components,\n",
    "                               row_labels=data.index,\n",
    "                               var_labels=data.columns)\n",
    "        \n",
    "        acm.prefit(data, data_dummies)        \n",
    "        acm.fit(data_dummies.to_numpy())\n",
    "    \n",
    "    return acm\n",
    "\n",
    "def acm_analysis(data, data_dummies=None, figsize=(4, 2.5)):\n",
    "    \"\"\"\n",
    "    Le threshold est ~60% sur cumul var. expliquee\n",
    "    \"\"\"\n",
    "    acm = acm_init(data, None, data_dummies=data_dummies)\n",
    "\n",
    "    threshold = 1 / acm.n_vars_\n",
    "    eig_vals = acm.eig_[0]\n",
    "    eig_th = eig_vals[eig_vals > threshold]\n",
    "\n",
    "    print(\"Valeurs propres:\")\n",
    "    print(acm.eig_[0].round(4))\n",
    "    print()\n",
    "    print(f\"Valeurs propres > {round(threshold, 4)} (1 / p):\")\n",
    "    print(eig_th.round(4))\n",
    "    print()\n",
    "    print(\"Variance expliquee %:\")\n",
    "    print(acm.eig_[1].round(1))\n",
    "    print()\n",
    "    print(\"Variance expliquee cumul. %:\")\n",
    "    print(acm.eig_[2].round(1))\n",
    "    print()\n",
    "\n",
    "    num_eigval = len(acm.eig_[0])\n",
    "\n",
    "    plt.figure(figsize=figsize)\n",
    "    plt.plot(range(1, num_eigval + 1), acm.eig_[0], marker=\".\")\n",
    "    plt.grid(True)\n",
    "    plt.xlabel(\"# axe factoriel\")\n",
    "    plt.ylabel(\"Valeur propre\")\n",
    "    plt.show()\n",
    "\n",
    "acm_analysis(data=acm_sample_df, data_dummies=acm_dummies_sample_df)"
   ]
  },
  {
   "cell_type": "code",
   "execution_count": null,
   "id": "8e81ef9b",
   "metadata": {
    "ExecuteTime": {
     "end_time": "2023-08-03T00:38:53.890583Z",
     "start_time": "2023-08-03T00:38:53.759097Z"
    }
   },
   "outputs": [],
   "source": [
    "acm_ = acm_init(data=acm_sample_df, data_dummies=acm_dummies_sample_df, n_components=21)\n",
    "\n",
    "plt.scatter(acm_.row_coord_[:, 0], acm_.row_coord_[:, 1], s=0.5)\n",
    "plt.show()"
   ]
  },
  {
   "cell_type": "code",
   "execution_count": null,
   "id": "0296f166",
   "metadata": {
    "ExecuteTime": {
     "end_time": "2023-08-03T00:39:03.601992Z",
     "start_time": "2023-08-03T00:38:57.362702Z"
    }
   },
   "outputs": [],
   "source": [
    "clstr.cah_analysis(acm_.row_coord_)"
   ]
  },
  {
   "cell_type": "code",
   "execution_count": null,
   "id": "3bde7b2b",
   "metadata": {
    "ExecuteTime": {
     "end_time": "2023-08-03T00:39:27.486859Z",
     "start_time": "2023-08-03T00:39:26.139091Z"
    }
   },
   "outputs": [],
   "source": [
    "cah_movies = clstr.cah_init(acm_.row_coord_, 5)\n",
    "\n",
    "print(\"CAH clusters\")\n",
    "clstr.clusters_analysis(acm_.row_coord_, cah_movies.labels_)\n",
    "clstr.show_clusters(acm_.row_coord_[:, [0, 1]], \n",
    "                    acm_.row_labels_,\n",
    "                    cah_movies.labels_,\n",
    "                    text_alpha=0,\n",
    "                    marker_size=2.5)"
   ]
  },
  {
   "cell_type": "code",
   "execution_count": null,
   "id": "e5562c11",
   "metadata": {
    "ExecuteTime": {
     "end_time": "2023-08-03T00:39:43.500857Z",
     "start_time": "2023-08-03T00:39:43.311191Z"
    }
   },
   "outputs": [],
   "source": [
    "clstr.dbscan_eps_analysis(acm_.row_coord_)"
   ]
  },
  {
   "cell_type": "code",
   "execution_count": null,
   "id": "8f9b95b1",
   "metadata": {
    "ExecuteTime": {
     "end_time": "2023-08-02T22:19:19.444571Z",
     "start_time": "2023-08-02T22:19:19.444553Z"
    }
   },
   "outputs": [],
   "source": [
    "eps_, min_samples_ = clstr.dbscan_parameters_analysis(acm_.row_coord_,\n",
    "                                                      np.arange(0.4, 1.4, 0.1),\n",
    "                                                      range(3, 20))\n",
    "dbscan_movies = clstr.dbscan_init(acm_.row_coord_, eps_, min_samples_)\n",
    "\n",
    "print()\n",
    "print(\"DBSCAN clusters\")\n",
    "clstr.clusters_analysis(acm_.row_coord_, dbscan_movies.labels_)"
   ]
  },
  {
   "cell_type": "code",
   "execution_count": null,
   "id": "b140cd53",
   "metadata": {
    "ExecuteTime": {
     "end_time": "2023-08-02T22:19:19.446988Z",
     "start_time": "2023-08-02T22:19:19.446966Z"
    },
    "scrolled": false
   },
   "outputs": [],
   "source": [
    "clstr.show_clusters(acm_.row_coord_[:, [0, 1]], \n",
    "                    acm_.row_labels_,\n",
    "                    dbscan_movies.labels_,\n",
    "                    text_alpha=0,\n",
    "                    marker_size=2.5)"
   ]
  },
  {
   "cell_type": "code",
   "execution_count": null,
   "id": "f2389d93",
   "metadata": {
    "ExecuteTime": {
     "end_time": "2023-08-02T22:19:19.448523Z",
     "start_time": "2023-08-02T22:19:19.448507Z"
    }
   },
   "outputs": [],
   "source": [
    "from kmodes.kmodes import KModes\n",
    "\n",
    "kmodes_movies = KModes(n_clusters=4, init='Huang', n_init=5, verbose=1, n_jobs=-1)\n",
    "kmodes_movies.fit(acm_.row_coord_)\n",
    "\n",
    "print(\"KModes clusters\")\n",
    "clstr.clusters_analysis(acm_.row_coord_, kmodes_movies.labels_)\n",
    "\n",
    "clstr.show_clusters(acm_.row_coord_[:, [0, 1]], \n",
    "                    acm_.row_labels_,\n",
    "                    kmodes_movies.labels_,\n",
    "                    text_alpha=0,\n",
    "                    marker_size=2.5)"
   ]
  },
  {
   "cell_type": "code",
   "execution_count": null,
   "id": "fcd42226",
   "metadata": {},
   "outputs": [],
   "source": []
  }
 ],
 "metadata": {
  "hide_input": false,
  "kernelspec": {
   "display_name": "Python 3 (ipykernel)",
   "language": "python",
   "name": "python3"
  },
  "language_info": {
   "codemirror_mode": {
    "name": "ipython",
    "version": 3
   },
   "file_extension": ".py",
   "mimetype": "text/x-python",
   "name": "python",
   "nbconvert_exporter": "python",
   "pygments_lexer": "ipython3",
   "version": "3.11.3"
  },
  "toc": {
   "base_numbering": 1,
   "nav_menu": {},
   "number_sections": true,
   "sideBar": true,
   "skip_h1_title": false,
   "title_cell": "Table of Contents",
   "title_sidebar": "Contents",
   "toc_cell": false,
   "toc_position": {},
   "toc_section_display": true,
   "toc_window_display": false
  },
  "varInspector": {
   "cols": {
    "lenName": 16,
    "lenType": 16,
    "lenVar": 40
   },
   "kernels_config": {
    "python": {
     "delete_cmd_postfix": "",
     "delete_cmd_prefix": "del ",
     "library": "var_list.py",
     "varRefreshCmd": "print(var_dic_list())"
    },
    "r": {
     "delete_cmd_postfix": ") ",
     "delete_cmd_prefix": "rm(",
     "library": "var_list.r",
     "varRefreshCmd": "cat(var_dic_list()) "
    }
   },
   "types_to_exclude": [
    "module",
    "function",
    "builtin_function_or_method",
    "instance",
    "_Feature"
   ],
   "window_display": false
  },
  "vscode": {
   "interpreter": {
    "hash": "ad2bdc8ecc057115af97d19610ffacc2b4e99fae6737bb82f5d7fb13d2f2c186"
   }
  }
 },
 "nbformat": 4,
 "nbformat_minor": 5
}
