{
 "cells": [
  {
   "cell_type": "code",
   "execution_count": null,
   "id": "61a93a2f",
   "metadata": {
    "ExecuteTime": {
     "end_time": "2023-08-27T18:00:10.446053Z",
     "start_time": "2023-08-27T18:00:10.439821Z"
    },
    "code_folding": [
     0
    ]
   },
   "outputs": [],
   "source": [
    "%%html\n",
    "<!-- definir quelques styles custom pour l'ensemble du notebook -->\n",
    "<style>    \n",
    "    @import url(\"css/custom_styles.css\")\n",
    "</style>"
   ]
  },
  {
   "cell_type": "markdown",
   "id": "f9bafcf8",
   "metadata": {},
   "source": [
    "<center>\n",
    "    <h1>\n",
    "    Algorithmes d’apprentissage non supervisé<br>\n",
    "    </h1>\n",
    "    MovieLens - Système de recommendations de films<br>\n",
    "    <br>\n",
    "    <b>Jean-Francois Gagnon</b><br>\n",
    "    <b>Michèle de La Sablonnière</b><br>\n",
    "    <br>\n",
    "    420-A58<br>\n",
    "    <br>\n",
    "</center>"
   ]
  },
  {
   "cell_type": "markdown",
   "id": "6ea78d70",
   "metadata": {},
   "source": [
    "# Introduction\n",
    "    \n",
    "Nous avons choisi la base de données [MovieLens Small](https://tinyurl.com/bdhmcfht). Elle décrit les notations des utilisateurs de MovieLens; un service de recommandations de films. Elle a été préalablement traité afin d'extraire les informations intéressantes pour un système de suggestions par *clusterisation* et règles d'associations. Les données pré-traitées se trouvent dans 2 fichiers. \n",
    "\n",
    "<br>**movies_pretraitement.csv**\n",
    "\n",
    "Ce fichier contient les métadonnées pertinentes à un film. Chaque ligne a ce format :\n",
    "\n",
    "<div class=\"indentation\">\n",
    "<div class=\"fixblock\"> movieId, imdbId, title, year, year_category, year_boxcox_std, rating_mode, genres, genres_tfidf_*</div>\n",
    "\n",
    "|Attribut|<center>Description</center>|\n",
    "|:-|:---|\n",
    "|movieId| Identifiant du film dans cette base de données.|\n",
    "|imdbId| Identifiant du film dans [Internet Movie Database](http://www.imdb.com).|\n",
    "|title| Titre du film. Peut contenir l'année de parution.|\n",
    "|year| Année de parution du film.|\n",
    "|year_category| **year** catégorisé. La base de données a 3 modalités.|\n",
    "|year_boxcox_std| **year** transformé par BoxCox et StandardScaler.|\n",
    "|rating_mode| Nombre d'étoiles attribuées avec une granularité de $\\frac{1}{2}$. Entre [0.5 et 5] |\n",
    "|genres| Liste de mots séparés par un 'pipe' (\\|). La base de données a 18 modalités. |\n",
    "|genres_tfidf_*| **genres** encodé selon TF-IDF. Ici l'étoile représente toutes les modalités de **genres**. |\n",
    "</div>\n",
    "\n",
    "<br>**ratings_pretraitement.csv**\n",
    "\n",
    "Ce fichier contient les métadonnées de notations de chaque utilisateur. Chaque ligne a ce format :\n",
    "\n",
    "<div class=\"indentation\">\n",
    "<div class=\"fixblock\">userId, films*</div>\n",
    "\n",
    "|Attribut|<center>Description</center>|\n",
    "|:-|:---|\n",
    "|userId| Identifiant de l'utilisateur.|\n",
    "|films*| Notation de l'utilisateur pour un film. Ici l'étoile représente une colonne par film. |\n",
    "</div>\n",
    "\n",
    "<br>\n",
    "\n",
    "Nous allons d'abord valider les prétraitements. Par la suite, dans un but de restreindre la portée du projet, nous allons faire une *clusterization* de 2 représentations de genres (**genres** et **genres_tfidf\\***) et examiner 2 méthodes de réduction de dimensions pour chaque représentation. Finalement nous allons examiner les règles d'associations avec **ratings_pretraitement.csv**."
   ]
  },
  {
   "cell_type": "code",
   "execution_count": null,
   "id": "4d914ec6",
   "metadata": {
    "ExecuteTime": {
     "end_time": "2023-08-27T18:00:12.646388Z",
     "start_time": "2023-08-27T18:00:10.477905Z"
    },
    "code_folding": [
     0
    ]
   },
   "outputs": [],
   "source": [
    "#\n",
    "# imports utilitaires\n",
    "#\n",
    "\n",
    "%matplotlib inline\n",
    "\n",
    "import base64\n",
    "import cv2\n",
    "import matplotlib.pyplot as plt\n",
    "import math\n",
    "import numpy as np\n",
    "import pandas as pd\n",
    "import seaborn as sns\n",
    "import warnings\n",
    "\n",
    "from fanalysis.base import Base\n",
    "from fanalysis.mca import MCA\n",
    "from mlxtend.frequent_patterns import apriori, association_rules\n",
    "from scipy.stats import chi2_contingency\n",
    "from sklearn.decomposition import TruncatedSVD\n",
    "from sklearn.manifold import MDS\n",
    "from sklearn.metrics import pairwise_distances\n",
    "from wordcloud import WordCloud\n",
    "\n",
    "\n",
    "#\n",
    "# imports faisant partie de nos propres modules\n",
    "#\n",
    "\n",
    "import helpers as hlp\n",
    "import helpers.Clustering as clstr\n",
    "import helpers.jupyter as jup"
   ]
  },
  {
   "cell_type": "markdown",
   "id": "e2e527b6",
   "metadata": {},
   "source": [
    "# Lecture des données"
   ]
  },
  {
   "cell_type": "code",
   "execution_count": null,
   "id": "0608a7a3",
   "metadata": {
    "ExecuteTime": {
     "end_time": "2023-08-27T18:00:12.809875Z",
     "start_time": "2023-08-27T18:00:12.649472Z"
    }
   },
   "outputs": [],
   "source": [
    "#\n",
    "# parametres configurant nos traitemens\n",
    "#\n",
    "configs = hlp.get_configs(\"config_overrides.json\")\n",
    "\n",
    "# imdbId doit etre garde en string (leading 0)\n",
    "movies_df = pd.read_csv(\"dataset/movies_pretraitement.csv\", dtype={\"imdbId\": str})\n",
    "\n",
    "print(\"Movies\", movies_df.shape)\n",
    "print(\"Head\")\n",
    "display(movies_df.head().round(2))\n",
    "clstr.show_types(movies_df)"
   ]
  },
  {
   "cell_type": "markdown",
   "id": "99d555e3",
   "metadata": {},
   "source": [
    "* 9460 individus \n",
    "* 26 variables (inclus les identifiants, elles correspondent bien à la description)\n",
    "* **title**, **year_category** et **genres** sont de type qualitatif. Les autres variables sont de type quantitatif. Noter que **rating_mode** représente bien une variable qualitative par nature mais est gardée quantitative pour faciliter certaines manipulations.\n",
    "\n",
    "# Doublons et valeurs manquantes"
   ]
  },
  {
   "cell_type": "code",
   "execution_count": null,
   "id": "e1f33698",
   "metadata": {
    "ExecuteTime": {
     "end_time": "2023-08-27T18:00:12.837564Z",
     "start_time": "2023-08-27T18:00:12.815811Z"
    }
   },
   "outputs": [],
   "source": [
    "#\n",
    "# validation doublons et valeurs manquantes \n",
    "#\n",
    "print(\"Avant retrait doublons:\", movies_df.shape)\n",
    "movies_df.drop_duplicates(inplace=True)\n",
    "print(\"Après retrait doublons:\", movies_df.shape)\n",
    "\n",
    "clstr.show_na(movies_df);"
   ]
  },
  {
   "cell_type": "markdown",
   "id": "fe36659a",
   "metadata": {},
   "source": [
    "Aucun doublon et aucune valeur manquante. Nous allons vérifier les modalités des variables qualitatives."
   ]
  },
  {
   "cell_type": "code",
   "execution_count": null,
   "id": "114b15ae",
   "metadata": {
    "ExecuteTime": {
     "end_time": "2023-08-27T18:00:12.916239Z",
     "start_time": "2023-08-27T18:00:12.839812Z"
    },
    "code_folding": [
     4
    ]
   },
   "outputs": [],
   "source": [
    "#\n",
    "# Verification des modalites (rating_mode est egalement inclu pour valider\n",
    "# s'il correspond bien a sa description)\n",
    "#\n",
    "def get_mods(values, name=\"\"):\n",
    "    if isinstance(values, pd.Series):\n",
    "        series = pd.Series(values.unique())\n",
    "        series.name = values.name\n",
    "    else:\n",
    "        series = pd.Series(values)\n",
    "        series.name = name\n",
    "    \n",
    "    return series.to_frame()\n",
    "\n",
    "genres_ohe_df = movies_df.genres.str.get_dummies(sep=configs.dataset.genre_splitter)\n",
    "genres_mods = get_mods(genres_ohe_df.columns, name=\"genres\")\n",
    "\n",
    "html_ = jup.horizontify(get_mods(movies_df.year_category),\n",
    "                        get_mods(movies_df.rating_mode),\n",
    "                        genres_mods)\n",
    "print(\"Modalités\")\n",
    "jup.display_html(html_)"
   ]
  },
  {
   "cell_type": "markdown",
   "id": "08a7d7ce",
   "metadata": {},
   "source": [
    "# Distributions - variables quantitatives"
   ]
  },
  {
   "cell_type": "code",
   "execution_count": null,
   "id": "63bc0989",
   "metadata": {
    "ExecuteTime": {
     "end_time": "2023-08-27T18:00:15.643893Z",
     "start_time": "2023-08-27T18:00:12.918532Z"
    }
   },
   "outputs": [],
   "source": [
    "# on enleve movieId, imdbId et title\n",
    "quant_df = movies_df.iloc[:, 3:].select_dtypes(exclude=\"object\")\n",
    "\n",
    "print(\"Stats générales - variables quantitatives\")\n",
    "display(quant_df.describe().T.round(2))\n",
    "print()\n",
    "print(\"Distributions - variables quantitatives\")\n",
    "clstr.show_distributions(quant_df, num_cols=4, figsize=(12, 12))"
   ]
  },
  {
   "cell_type": "markdown",
   "id": "f45bec2a",
   "metadata": {},
   "source": [
    "* **year** très allongée (queue à gauche)\n",
    "* **year_boxcox_std** très près d'une distribution standard. Les statistiques générales nous montrent bien $\\mu=0$ et $\\sigma=1$. \n",
    "* **rating_mode**, bien qu'étant quantitative, montre bien sa nature qualitative.\n",
    "* **genres_tfidf\\*** ont des distributions très éparses (beaucoup de 0). Plus de détails dans les prochaines cellules."
   ]
  },
  {
   "cell_type": "markdown",
   "id": "46324398",
   "metadata": {},
   "source": [
    "# Valeurs aberrantes et *outliers* - variables quantitatives"
   ]
  },
  {
   "cell_type": "code",
   "execution_count": null,
   "id": "309c3699",
   "metadata": {
    "ExecuteTime": {
     "end_time": "2023-08-27T18:00:17.297051Z",
     "start_time": "2023-08-27T18:00:15.645152Z"
    }
   },
   "outputs": [],
   "source": [
    "clstr.show_outliers_iqr(quant_df, \n",
    "                        eta=1.5,\n",
    "                        boxlists=[[c] for c in quant_df.columns],\n",
    "                        figsize=(10, 15));"
   ]
  },
  {
   "cell_type": "markdown",
   "id": "1056ba75",
   "metadata": {},
   "source": [
    "* **year** a beaucoup d'outliers mais **year_boxcox_std** les ramène sous contrôle.\n",
    "* **rating_mode** ne possède pas d'outliers à notre avis. 0.5 et 1 sont des valeurs légitimes et les distributions affichées plus haut montrent qu'il y en a très peu.\n",
    "* **genres_tfidf\\*** ne possède pas d'outliers à notre avis de part sa nature éparse. Les 0 marquent l'absence du genre dans certains films. Les 1 marquent quant à eux la présence d'un seul genre dans les films. Nous pensons qu'il est plus pertinent d'utiliser **genres_tfidf\\*** à part et non en conjonction avec d'autres variables."
   ]
  },
  {
   "cell_type": "markdown",
   "id": "c25600e1",
   "metadata": {},
   "source": [
    "# Distributions - variables qualitatives"
   ]
  },
  {
   "cell_type": "code",
   "execution_count": null,
   "id": "b0c8370f",
   "metadata": {
    "ExecuteTime": {
     "end_time": "2023-08-27T18:00:17.589452Z",
     "start_time": "2023-08-27T18:00:17.299082Z"
    }
   },
   "outputs": [],
   "source": [
    "year_category_count = movies_df.year_category.value_counts()\n",
    "genres_count = genres_ohe_df.sum(axis=0)\n",
    "genres_count.sort_values(ascending=False, inplace=True)\n",
    "\n",
    "print(\"Distributions - variables qualitatives\")\n",
    "\n",
    "_, axes = plt.subplots(1, \n",
    "                       2, \n",
    "                       width_ratios=[1, 2],\n",
    "                       figsize=(12, 3))\n",
    "axes[0].bar(year_category_count.index, year_category_count)\n",
    "axes[0].tick_params(axis=\"x\", labelrotation=90)\n",
    "axes[0].set_title(\"year_category\")\n",
    "\n",
    "axes[1].bar(genres_count.index, genres_count)\n",
    "axes[1].tick_params(axis=\"x\", labelrotation=90)\n",
    "axes[1].set_title(\"genres\")\n",
    "             \n",
    "plt.tight_layout()\n",
    "plt.show()"
   ]
  },
  {
   "cell_type": "markdown",
   "id": "619a654a",
   "metadata": {},
   "source": [
    "* **year_category** est très bien balancé si on ne tient pas compte de [1902, 1974]\n",
    "* **genres** a une forte proportion dans les modalités Drama et Comedy\n",
    "\n",
    "# Corrélation"
   ]
  },
  {
   "cell_type": "code",
   "execution_count": null,
   "id": "725332b9",
   "metadata": {
    "ExecuteTime": {
     "end_time": "2023-08-27T18:00:17.599239Z",
     "start_time": "2023-08-27T18:00:17.591583Z"
    },
    "code_folding": [
     3,
     36,
     50
    ]
   },
   "outputs": [],
   "source": [
    "#\n",
    "# utilitaires pour calculer chi2 (correlation avec variables qualitatives)\n",
    "#\n",
    "def genres_contingency(b, data, genres_modalites):\n",
    "    \"\"\"\n",
    "    Utilitaire pour calculer la table de contingence sachant que genres est implique\n",
    "    Pandas.crosstab() ne fonctionne pas avec genres\n",
    "    \"\"\"\n",
    "    def _genres_crit(data, modality):\n",
    "        return data.str.contains(fr\"\\b{modality}\\b\", case=True, regex=True)\n",
    "    \n",
    "    def _default_crit(data, modality):\n",
    "        return data == modality\n",
    "    \n",
    "    if b == \"genres\":\n",
    "        other_crit_ = _genres_crit\n",
    "        other = data.genres\n",
    "        other_modalities = genres_modalites\n",
    "    else:\n",
    "        other_crit_ = _default_crit\n",
    "        other = data[b]\n",
    "        other_modalities = other.unique()\n",
    "    \n",
    "    ct = pd.DataFrame(0, \n",
    "                      index=genres_modalites, \n",
    "                      columns=other_modalities)\n",
    "\n",
    "    for m0 in genres_modalites:\n",
    "        genres_crit = _genres_crit(data.genres, m0)\n",
    "        \n",
    "        for m1 in other_modalities:\n",
    "            other_crit = other_crit_(other, m1)\n",
    "            ct.loc[m0, m1] = np.count_nonzero(genres_crit & other_crit)\n",
    "        \n",
    "    return ct\n",
    "\n",
    "def chi2(a, b, df, genres_modalites):\n",
    "    \"\"\"\n",
    "    Encapsule le calcul de chi2 pour tenir compte de genres\n",
    "    \"\"\"\n",
    "    if a == \"genres\":\n",
    "        contingency = genres_contingency(b, df, genres_modalites)\n",
    "    elif b == \"genres\":\n",
    "        contingency = genres_contingency(a, df, genres_modalites).T\n",
    "    else:\n",
    "        contingency = pd.crosstab(df[a], df[b])\n",
    "        \n",
    "    chi2_, pvalue, _, _ = chi2_contingency(contingency)\n",
    "    return chi2_, pvalue\n",
    "\n",
    "def chi2_analysis(data, chi2_columns, genres_modalites):\n",
    "    \"\"\"\n",
    "    Encapsule analyse chi2. Assumer que chi2_columns ne contient que \n",
    "    des variables qualitatives.\n",
    "    \"\"\"\n",
    "    chi2_df = pd.DataFrame(np.nan, \n",
    "                           index=chi2_columns, \n",
    "                           columns=chi2_columns)\n",
    "    chi2_pvalue_df = pd.DataFrame(np.nan, \n",
    "                                  index=chi2_columns, \n",
    "                                  columns=chi2_columns)\n",
    "\n",
    "    for c0 in chi2_columns:\n",
    "        for c1 in chi2_columns:\n",
    "            prev = chi2_df.loc[c1, c0]\n",
    "            if math.isnan(prev):\n",
    "                prev, prev_pvalue = chi2(c0, \n",
    "                                         c1, \n",
    "                                         data,\n",
    "                                         genres_modalites)\n",
    "            else:\n",
    "                prev_pvalue = chi2_pvalue_df.loc[c1, c0]\n",
    "\n",
    "            chi2_df.loc[c0, c1] = prev\n",
    "            chi2_pvalue_df.loc[c0, c1] = prev_pvalue\n",
    "\n",
    "    chi2_styler = jup.caption_df(chi2_df.style, r\"$\\chi^2$\", caption_bold=False)\n",
    "    pvalue_styler = jup.caption_df(chi2_pvalue_df.style, \"$p_{value}$\", caption_bold=False)\n",
    "    corr_html = jup.horizontify(chi2_styler, pvalue_styler)\n",
    "\n",
    "    print(\"Analyse indépendance de:\", chi2_columns)\n",
    "    jup.display_html(corr_html)"
   ]
  },
  {
   "cell_type": "code",
   "execution_count": null,
   "id": "a32712e1",
   "metadata": {
    "ExecuteTime": {
     "end_time": "2023-08-27T18:00:19.467305Z",
     "start_time": "2023-08-27T18:00:17.603398Z"
    },
    "code_folding": [],
    "scrolled": false
   },
   "outputs": [],
   "source": [
    "chi2_analysis(movies_df,\n",
    "              [\"year_category\", \"rating_mode\", \"genres\"], \n",
    "              genres_mods.genres)"
   ]
  },
  {
   "cell_type": "markdown",
   "id": "bc5bf720",
   "metadata": {},
   "source": [
    "On voit que $p_{value}$ est < 0.05. On rejète l'hypothèse nulle (indépendance). Les variables sont donc dépendantes. On assume par conséquent que clustering peut avoir un certain sens."
   ]
  },
  {
   "cell_type": "code",
   "execution_count": null,
   "id": "59210be3",
   "metadata": {
    "ExecuteTime": {
     "end_time": "2023-08-27T18:00:20.220617Z",
     "start_time": "2023-08-27T18:00:19.469352Z"
    }
   },
   "outputs": [],
   "source": [
    "genres_tfidf_cols = movies_df.columns.str.contains(\"genres_tfidf_\")\n",
    "genres_tfidf_cols = movies_df.columns[genres_tfidf_cols]\n",
    "genres_tfidf_df = movies_df[genres_tfidf_cols].copy()\n",
    "genres_tfidf_df.columns = [c.replace(\"genres_tfidf_\", \"\") for c in genres_tfidf_cols]\n",
    "\n",
    "print(\"Corrélation genres tfidf\")\n",
    "clstr.show_correlation(genres_tfidf_df,\n",
    "                       method=\"spearman\", \n",
    "                       figsize=(12, 9))"
   ]
  },
  {
   "cell_type": "markdown",
   "id": "1a78d07c",
   "metadata": {},
   "source": [
    "La corrélation selon Spearman a été utilisé pour éliminer l'effet des 0. On n'observe aucune corrélation à toute fin pratique (majorités des valeurs < |0.2|) même si certaines modalités semblent exhiber un lien entre elles (Children et Animation).\n",
    "\n",
    "On pourrait croire que la réduction de dimension ne serait pas utilile mais, encore une fois, noter la présence de beaucoup de 0 dans les distributions. Nous allons donc valider plus loin dans le notebook ce constat.\n",
    "\n",
    "Nous allons diminuer la quantité de données afin d'alléger le temps d'itération. Ceci peut de toute évidence biaiser les résultats mais nous croyons que cela est contrebalancé par l'utilisation de la bonne quantité de données."
   ]
  },
  {
   "cell_type": "code",
   "execution_count": null,
   "id": "c8b120d4",
   "metadata": {
    "ExecuteTime": {
     "end_time": "2023-08-27T18:00:20.225137Z",
     "start_time": "2023-08-27T18:00:20.222410Z"
    }
   },
   "outputs": [],
   "source": [
    "#\n",
    "# diminuer la quantite de donnes a traiter par souci de temps d'iteration\n",
    "#\n",
    "movies_original_df = movies_df\n",
    "genres_ohe_original_df = genres_ohe_df\n",
    "genres_tfidf_original_df = genres_tfidf_df"
   ]
  },
  {
   "cell_type": "code",
   "execution_count": null,
   "id": "29d9dab2",
   "metadata": {
    "ExecuteTime": {
     "end_time": "2023-08-27T18:00:20.234503Z",
     "start_time": "2023-08-27T18:00:20.227110Z"
    }
   },
   "outputs": [],
   "source": [
    "SAMPLING_FRAC = 0.5\n",
    "\n",
    "movies_df = movies_original_df.sample(frac=SAMPLING_FRAC, random_state=42)\n",
    "genres_ohe_df = genres_ohe_original_df.loc[movies_df.index]\n",
    "genres_tfidf_df = genres_tfidf_original_df.loc[movies_df.index]\n",
    "\n",
    "print(\"Avant resampling:\", movies_original_df.shape)\n",
    "print(\"Apres resampling:\", movies_df.shape)"
   ]
  },
  {
   "cell_type": "markdown",
   "id": "a458ed40",
   "metadata": {},
   "source": [
    "# Réduction de dimensions et clustering\n",
    "## genres ACM\n",
    "\n",
    "Genres se représente bien avec un encodage one hot. Une analyse en composante multiple (ACM) se prête donc à la réduction de dimensions."
   ]
  },
  {
   "cell_type": "code",
   "execution_count": null,
   "id": "806d34ba",
   "metadata": {
    "ExecuteTime": {
     "end_time": "2023-08-27T18:00:20.246358Z",
     "start_time": "2023-08-27T18:00:20.235742Z"
    },
    "code_folding": [
     5,
     6,
     48,
     49,
     64
    ]
   },
   "outputs": [],
   "source": [
    "#\n",
    "# l'encodage de genres ne peut se faire par fanalysis\n",
    "# fanalysis ne permet pas non plus fournir notre propre encodage\n",
    "# donc, ajouter ces classes pour faire un pont dans le manque de fonctionalite\n",
    "#\n",
    "class MCA_from_dummies(Base):\n",
    "    def __init__(self, n_components=None, row_labels=None, var_labels=None, stats=True):\n",
    "        Base.__init__(self, n_components, row_labels, None, stats)\n",
    "        self.var_labels = var_labels\n",
    "        \n",
    "    def prefit(self, X, X_dummies):\n",
    "        # Set columns prefixes\n",
    "        self.n_vars_ = X.shape[1]\n",
    "        self.prefixes_ = self.prefixes_ = [str(x) + \"_\" for x in self.var_labels]\n",
    "        self.col_labels_short_temp_ = [x.split(\"_\")[-1] for x in X_dummies.columns]\n",
    "        self.col_labels_temp_ = X_dummies.columns\n",
    "                \n",
    "        # Dummy variables creation\n",
    "        self.n_categories_ = X_dummies.shape[1]\n",
    "    \n",
    "    def fit(self, X_dummies, y=None):\n",
    "        # Fit a Factorial Analysis to the dummy variables table\n",
    "        self.r_ = np.sum(X_dummies, axis=1).reshape(-1, 1)\n",
    "        Base.fit(self, X_dummies, y=None)\n",
    "        \n",
    "        # Adjustment of the number of components\n",
    "        n_eigen = self.n_categories_ - self.n_vars_\n",
    "        if (self.n_components_ > n_eigen):\n",
    "            self.n_components_ = n_eigen\n",
    "            self.eig_ = self.eig_[:, :self.n_components_]\n",
    "            self.row_coord_ = self.row_coord_[:, :self.n_components_]\n",
    "            self.col_coord_ = self.col_coord_[:, :self.n_components_]\n",
    "            if self.stats:\n",
    "                self.row_contrib_ = self.row_contrib_[:, :self.n_components_]\n",
    "                self.col_contrib_ = self.col_contrib_[:, :self.n_components_]\n",
    "                self.row_cos2_ = self.row_cos2_[:, :self.n_components_]\n",
    "                self.col_cos2_ = self.col_cos2_[:, :self.n_components_]\n",
    "\n",
    "        # Set col_labels_short_\n",
    "        self.col_labels_short_ = self.col_labels_short_temp_\n",
    "        \n",
    "        # Set col_labels_\n",
    "        self.col_labels_ = self.col_labels_temp_        \n",
    "        \n",
    "        self.model_ = \"mca\"\n",
    "        \n",
    "        return self\n",
    "                        \n",
    "def acm_init(data, n_components, data_dummies=None):\n",
    "    if data_dummies is None:\n",
    "        acm = MCA(n_components=n_components,\n",
    "                  row_labels=data.index,\n",
    "                  var_labels=data.columns)\n",
    "        acm.fit(data.to_numpy())\n",
    "    else:\n",
    "        acm = MCA_from_dummies(n_components=n_components,\n",
    "                               row_labels=data.index,\n",
    "                               var_labels=data.columns)\n",
    "        \n",
    "        acm.prefit(data, data_dummies)        \n",
    "        acm.fit(data_dummies.to_numpy())\n",
    "    \n",
    "    return acm\n",
    "\n",
    "def acm_analysis(data, data_dummies=None, figsize=(4, 2.5)):\n",
    "    \"\"\"\n",
    "    Le threshold est ~60% sur cumul var. expliquee\n",
    "    \"\"\"\n",
    "    acm = acm_init(data, None, data_dummies=data_dummies)\n",
    "\n",
    "    threshold = 1 / acm.n_vars_\n",
    "    eig_vals = acm.eig_[0]\n",
    "    eig_th = eig_vals[eig_vals > threshold]\n",
    "\n",
    "    print(\"Valeurs propres:\")\n",
    "    print(acm.eig_[0].round(4))\n",
    "    print()\n",
    "    print(f\"Valeurs propres > {round(threshold, 4)} (1 / p):\")\n",
    "    print(eig_th.round(4))\n",
    "    print()\n",
    "    print(\"Variance expliquee %:\")\n",
    "    print(acm.eig_[1].round(1))\n",
    "    print()\n",
    "    print(\"Variance expliquee cumul. %:\")\n",
    "    print(acm.eig_[2].round(1))\n",
    "    print()\n",
    "\n",
    "    num_eigval = len(acm.eig_[0])\n",
    "\n",
    "    plt.figure(figsize=figsize)\n",
    "    plt.plot(range(1, num_eigval + 1), acm.eig_[0], marker=\".\")\n",
    "    plt.grid(True)\n",
    "    plt.xlabel(\"# axe factoriel\")\n",
    "    plt.ylabel(\"Valeur propre\")\n",
    "    plt.show()"
   ]
  },
  {
   "cell_type": "code",
   "execution_count": null,
   "id": "10a14ccb",
   "metadata": {
    "ExecuteTime": {
     "end_time": "2023-08-27T18:00:20.350463Z",
     "start_time": "2023-08-27T18:00:20.247997Z"
    }
   },
   "outputs": [],
   "source": [
    "cluster_data_df = movies_df[[\"genres\"]]\n",
    "cluster_data_ohe_df = genres_ohe_df\n",
    "\n",
    "acm_analysis(cluster_data_df, data_dummies=cluster_data_ohe_df)"
   ]
  },
  {
   "cell_type": "markdown",
   "id": "6ad96966",
   "metadata": {},
   "source": [
    "La règle de Kaiser adaptée à l'ACM ne fonctionne pas ici (aucune valeur propre $\\ge$ 1/1, p=1). Le graphe montre plusieurs coudes/plateaux (2, 7 et 10 axes factoriels). La variance expliquée cumulative nous permet de choisir 10 axes (~75% variance expliquée)."
   ]
  },
  {
   "cell_type": "code",
   "execution_count": null,
   "id": "f086d2ad",
   "metadata": {
    "ExecuteTime": {
     "end_time": "2023-08-27T18:00:21.647764Z",
     "start_time": "2023-08-27T18:00:20.352396Z"
    }
   },
   "outputs": [],
   "source": [
    "acm_ = acm_init(cluster_data_df, 10, data_dummies=cluster_data_ohe_df)\n",
    "\n",
    "jup.display_html(\"<b>genres ACM</b> - Visualisation dimensions (non exhaustif)\")\n",
    "clstr.scatter_multiplot(acm_.row_coord_, num_cols=3, figsize=(12, 7), marker_size=1)"
   ]
  },
  {
   "cell_type": "markdown",
   "id": "4a1a8215",
   "metadata": {},
   "source": [
    "On remarque certaines structures qui se détachent, ce qui laisse présager que le *clustering* est possible. Notez que les structures ne sont pas globluaires et non consistantes à travers les dimensions. Nous suspectons que KMeams ne sera pas plus efficace que la classification ascendante hiérarchique (CAH). Dans le même ordre d'idée, la densité des points ne laisse pas présager que DBSCAN soit supérieur non plus.\n",
    "\n",
    "## genres ACM - CAH"
   ]
  },
  {
   "cell_type": "code",
   "execution_count": null,
   "id": "568a35c1",
   "metadata": {
    "ExecuteTime": {
     "end_time": "2023-08-27T18:01:08.138649Z",
     "start_time": "2023-08-27T18:00:21.649442Z"
    }
   },
   "outputs": [],
   "source": [
    "#\n",
    "# etape longue (~40s) sans feedback visuel; soyez patient\n",
    "#\n",
    "clstr.cah_analysis(acm_.row_coord_, figsize=(12, 3))"
   ]
  },
  {
   "cell_type": "markdown",
   "id": "25d64c1e",
   "metadata": {},
   "source": [
    "On remarque un faible coude à 11 clusters."
   ]
  },
  {
   "cell_type": "code",
   "execution_count": null,
   "id": "965316bf",
   "metadata": {
    "ExecuteTime": {
     "end_time": "2023-08-27T18:01:08.151214Z",
     "start_time": "2023-08-27T18:01:08.140627Z"
    },
    "code_folding": [
     3,
     6,
     18,
     31,
     40,
     44
    ]
   },
   "outputs": [],
   "source": [
    "#\n",
    "# fonctions utlitaires pour analyser contenu des clusters\n",
    "#\n",
    "def clusters_ohe_agg(group):\n",
    "    return group.sum(axis=0)\n",
    "\n",
    "def topmost_genres(group, count):\n",
    "    group_no_zero = group[group > 0]\n",
    "\n",
    "    # negatif pour avoir argsort() decroissant ET respecter ordre dans group\n",
    "    group_no_zero = -group_no_zero\n",
    "        \n",
    "    topmost = group_no_zero.argsort()[:count]\n",
    "    topmost = group_no_zero.index[topmost].to_list()\n",
    "    topmost = \"<br>\".join(topmost)\n",
    "    \n",
    "    return pd.Series({f\"{count} topmost genres\": topmost})\n",
    "\n",
    "def topmost_movies(group, labels, count):\n",
    "    cluster_crit = labels == group.name\n",
    "    movies = movies_df[cluster_crit] \\\n",
    "                .sort_values(by=[\"rating_mode\", \"year\"], ascending=[False, False]) \\\n",
    "                .head(count)\n",
    "    \n",
    "    def _imdb_link(movie):\n",
    "        return f\"<a href='{configs.web_scraping.imdb_url}{movie.imdbId}'>{movie.title}</a>\"\n",
    "    \n",
    "    links = movies.apply(_imdb_link, axis=1)\n",
    "    links = \"<br>\".join(links)\n",
    "    return pd.Series({f\"{count} topmost movies\": links})\n",
    "\n",
    "def word_clouds(cluster):\n",
    "    with warnings.catch_warnings():\n",
    "        warnings.filterwarnings(\"ignore\")\n",
    "        \n",
    "        cluster_no_zero = cluster[cluster > 0]\n",
    "        wc = WordCloud(width=300, height=100).generate_from_frequencies(cluster_no_zero)\n",
    "        \n",
    "    return pd.Series({\"word_cloud\": wc.to_array()})\n",
    "    \n",
    "def image_to_html(img):\n",
    "    _, img = cv2.imencode(\".png\", img)\n",
    "    return f\"<img src='data:image/png;base64,{base64.b64encode(img).decode()}'>\"\n",
    "    \n",
    "def clusters_analysis(ohe_df, \n",
    "                      labels, \n",
    "                      show_clusters_agg=False, \n",
    "                      head_count=0,\n",
    "                      genres_count=5,\n",
    "                      movies_count=8):\n",
    "    clusters_agg_df = ohe_df.groupby(labels).agg(clusters_ohe_agg)\n",
    "    if show_clusters_agg:\n",
    "        display(clusters_agg_df)\n",
    "\n",
    "    topmost_genres_df = clusters_agg_df.apply(topmost_genres, \n",
    "                                              axis=1, \n",
    "                                              count=genres_count)\n",
    "    word_clouds_df = clusters_agg_df.apply(word_clouds, axis=1)\n",
    "    topmost_movies_df = clusters_agg_df.apply(topmost_movies,\n",
    "                                              axis=1, \n",
    "                                              labels=labels,\n",
    "                                              count=movies_count)\n",
    "    \n",
    "    clusters_df = pd.concat([topmost_genres_df, \n",
    "                             word_clouds_df,\n",
    "                             topmost_movies_df], axis=1)\n",
    "    clusters_df.index.name = \"cluster\"\n",
    "    \n",
    "    if head_count > 0:\n",
    "        clusters_df = clusters_df.head(head_count)\n",
    "\n",
    "    html_ = clusters_df.to_html(formatters={\"word_cloud\": image_to_html}, escape=False)\n",
    "    jup.display_html(html_)"
   ]
  },
  {
   "cell_type": "code",
   "execution_count": null,
   "id": "7632f345",
   "metadata": {
    "ExecuteTime": {
     "end_time": "2023-08-27T18:01:11.272937Z",
     "start_time": "2023-08-27T18:01:08.153260Z"
    },
    "scrolled": false
   },
   "outputs": [],
   "source": [
    "cah_ = clstr.cah_init(acm_.row_coord_, 11)\n",
    "\n",
    "jup.display_html(\"<b>genres ACM</b> - Visualisation dimensions (non exhaustif) CAH\")\n",
    "clstr.scatter_multiplot(acm_.row_coord_, \n",
    "                        num_cols=3, \n",
    "                        figsize=(12, 7), \n",
    "                        marker_size=1, \n",
    "                        labels=cah_.labels_)\n",
    "\n",
    "jup.display_html(\"<b>genres ACM</b> - Analyse clusters CAH\\n\")\n",
    "clstr.clusters_analysis(acm_.row_coord_, cah_.labels_)\n",
    "clusters_analysis(cluster_data_ohe_df, cah_.labels_)"
   ]
  },
  {
   "cell_type": "markdown",
   "id": "61548390",
   "metadata": {},
   "source": [
    "La visualisation par graphe suggère que les *clusters* sont plutôt mal définis; longs et peu compacts. Le score Davies Bouldin élevé ainsi que les scores silhouette petits (en général plus petit que 0.5 sauf pour quelques clusters) corroborent ce constat. Par contre, en regardant le *clustering* à travers les données d'origine, on peut remarquer une séparation tout de même logique. L'examen détaillé montre :\n",
    "* Le cluster 5 manque de précision.\n",
    "* Le cluster 6 nous apparait un peu trop englobant et contient certains éléments non reliés aux comédies musicales.\n",
    "* La présence de Batman : Year One dans le cluster 8; série télévisée pour enfants plus appropriée dans le cluster 10.\n",
    "\n",
    "En général, 11 clusters nous apparait un peu petit pour la quantité de données présentent.\n",
    "\n",
    "## genres ACM - KMeans"
   ]
  },
  {
   "cell_type": "code",
   "execution_count": null,
   "id": "efdcb949",
   "metadata": {
    "ExecuteTime": {
     "end_time": "2023-08-27T18:01:32.533180Z",
     "start_time": "2023-08-27T18:01:11.274367Z"
    }
   },
   "outputs": [],
   "source": [
    "#\n",
    "# etape longue (~20 secondes) sans feedback visuel; soyez patient\n",
    "#\n",
    "clstr.kmeans_analysis(acm_.row_coord_, \n",
    "                      clusters_range=range(2, 60),\n",
    "                      n_init=5, # pour accelerer le traitement\n",
    "                      figsize=(12, 3))"
   ]
  },
  {
   "cell_type": "markdown",
   "id": "53327464",
   "metadata": {},
   "source": [
    "Le score silhouette va systématiquement en augmentant. Nous devons donc utiliser la méthode du coude avec l'inertie (wss) pour déterminer un nombre raisonable de *clusters*. Nous estimons que la zone du coude se situe entre 11 et 16 *clusters*. Nous en prenons donc 16; un peu plus que CAH et score silhouette maximale."
   ]
  },
  {
   "cell_type": "code",
   "execution_count": null,
   "id": "fdca7f5d",
   "metadata": {
    "ExecuteTime": {
     "end_time": "2023-08-27T18:01:35.710140Z",
     "start_time": "2023-08-27T18:01:32.534953Z"
    },
    "scrolled": false
   },
   "outputs": [],
   "source": [
    "kmeans_ = clstr.kmeans_init(acm_.row_coord_, 16)\n",
    "\n",
    "jup.display_html(\"<b>genres ACM</b> - Visualisation dimensions (non exhaustif) KMeans\")\n",
    "clstr.scatter_multiplot(acm_.row_coord_, \n",
    "                        num_cols=3, \n",
    "                        figsize=(12, 7), \n",
    "                        marker_size=1, \n",
    "                        labels=kmeans_.labels_)\n",
    "\n",
    "jup.display_html(\"<b>genres ACM</b> - Analyse clusters KMeans\\n\")\n",
    "clstr.clusters_analysis(acm_.row_coord_, kmeans_.labels_)\n",
    "clusters_analysis(cluster_data_ohe_df, kmeans_.labels_)"
   ]
  },
  {
   "cell_type": "markdown",
   "id": "97f475e1",
   "metadata": {},
   "source": [
    "La visualisation par graphe suggère que les *clusters* sont un peu mieux que CAH sans être excellents. Le score Davies Bouldin un peu plus petit ainsi que les scores silhouette un peu plus grands en général corroborent ce constat. En regardant le *clustering* à travers les données d'origine, on peut remarquer une séparation tout de même logique. L'examen détaillé montre :\n",
    "* Le cluster 0, 2 et 6 semblent se chevaucher dans leurs thèmes.\n",
    "* Le cluster 1 semble avoir quelques suggestions hors sujet avec Tokyo Tribe (musical).\n",
    "* La présence de Batman : Year One dans le cluster 3; série télévisée pour enfants plus appropriée dans le cluster 9.\n",
    "* La présence de Near Dark dans le cluster 7; horror plus approprié dans le cluster 15\n",
    "\n",
    "## genres ACM - DBSCAN"
   ]
  },
  {
   "cell_type": "code",
   "execution_count": null,
   "id": "76d51dfb",
   "metadata": {
    "ExecuteTime": {
     "end_time": "2023-08-27T18:01:35.853612Z",
     "start_time": "2023-08-27T18:01:35.711768Z"
    }
   },
   "outputs": [],
   "source": [
    "clstr.dbscan_eps_analysis(acm_.row_coord_, \n",
    "                          n_neighbors=3,\n",
    "                          ylim=(-1e-1, 1.2))"
   ]
  },
  {
   "cell_type": "code",
   "execution_count": null,
   "id": "2b437019",
   "metadata": {
    "ExecuteTime": {
     "end_time": "2023-08-27T18:02:17.930070Z",
     "start_time": "2023-08-27T18:01:35.855608Z"
    },
    "scrolled": false
   },
   "outputs": [],
   "source": [
    "#\n",
    "# etape longue (~40 secondes) sans feedback visuel; soyez patient\n",
    "#\n",
    "eps_, min_samples_ = clstr.dbscan_parameters_analysis(acm_.row_coord_, \n",
    "                                                      eps_range=np.arange(1e-6, 0.5, 0.05),\n",
    "                                                      min_samples_range=range(3, 10))\n",
    "dbscan_ = clstr.dbscan_init(acm_.row_coord_, eps_, min_samples_)\n",
    "\n",
    "jup.display_html(\"<b>genres ACM</b> - Visualisation dimensions (non exhaustif) DBSCAN\")\n",
    "clstr.scatter_multiplot(acm_.row_coord_, \n",
    "                        num_cols=3, \n",
    "                        figsize=(12, 7), \n",
    "                        marker_size=1, \n",
    "                        labels=dbscan_.labels_)\n",
    "\n",
    "jup.display_html(\"<b>genres ACM</b> - Analyse clusters DBSCAN (HEAD)\\n\")\n",
    "clstr.clusters_analysis(acm_.row_coord_, dbscan_.labels_)\n",
    "\n",
    "clusters_analysis(cluster_data_ohe_df, dbscan_.labels_, head_count=10)"
   ]
  },
  {
   "cell_type": "markdown",
   "id": "04f522ed",
   "metadata": {},
   "source": [
    "La visualisation par graphe suggère que les clusters sont plutôt mal définis; longs et peu compacts. Le score Davies Bouldin est élevé ainsi que les scores silhouette (en général > 0.7). Les scores silhouette s'expliquent par la grande quantité de *clusters*; plus il y en a, plus les clusters vont se coller aux données. 223 nous apparait tout de même excessif. L'examen du *clustering* à travers les données d'origine montre quelques incohérences (*cluster* 3 avec Antichrist (dama horror), *cluster* 2 avec Presumed Innocent (mystery, thriller)) mais le tout reste quand même logique.\n",
    "\n",
    "Nous allons comparer la *clusterization* précédente avec une autre représentation de **genres**. A savoir **genres_tfidf\\***. Une analyse en composante principale (PCA) sera utilisée pour réduire la dimentionalité étant donné que cette variable est quantitative. Nous avons quelques réserves à ce propos. D'une part, la PCA demande de centrer chacune des  variables. Hors tf-idf requière l'ensemble de celles-ci pour chaque individu; c'est un vecteur. Changer chaque composante indépendement semble donc contre nature. D'autre aprt, la grande présence de 0 biaise le centrage. Nous allons donc utiliser **genres_tfidf\\*** directement sans autre transformation.\n",
    "\n",
    "## genres_tfidf* PCA"
   ]
  },
  {
   "cell_type": "code",
   "execution_count": null,
   "id": "b0f49255",
   "metadata": {
    "ExecuteTime": {
     "end_time": "2023-08-27T18:02:18.047274Z",
     "start_time": "2023-08-27T18:02:17.931874Z"
    }
   },
   "outputs": [],
   "source": [
    "pca_std_df = pd.DataFrame(genres_tfidf_df, \n",
    "                          index=genres_tfidf_df.index,\n",
    "                          columns=genres_tfidf_df.columns)\n",
    "\n",
    "clstr.pca_analysis(pca_std_df)"
   ]
  },
  {
   "cell_type": "markdown",
   "id": "f350cb42",
   "metadata": {},
   "source": [
    "La règle de Kaiser ne permet pas de déterminer le nombre d'axes factoriel à choisir. Le coude suggère 3 axes pour une variance expliquée de \\~42%. Cependant, nous gardons 6 axes pour avoir une variance expiquée supérieurs à 60% (\\~65%)."
   ]
  },
  {
   "cell_type": "code",
   "execution_count": null,
   "id": "2553b539",
   "metadata": {
    "ExecuteTime": {
     "end_time": "2023-08-27T18:02:18.784108Z",
     "start_time": "2023-08-27T18:02:18.049923Z"
    }
   },
   "outputs": [],
   "source": [
    "pca_ = clstr.pca_init(pca_std_df, 6)\n",
    "\n",
    "jup.display_html(\"<b>genres_tfidf PCA</b> - Visualisation dimensions (non exhaustif)\")\n",
    "clstr.scatter_multiplot(pca_.row_coord_, num_cols=3, figsize=(12, 5), marker_size=1)"
   ]
  },
  {
   "cell_type": "markdown",
   "id": "3acc9c05",
   "metadata": {},
   "source": [
    "On remarque certaines structures qui se détachent nettement ce qui laisse présager le *clustering* est possible. Les formes non globulaires suggèrent que KMeans ne sera pas énormément plus efficace que CAH mais elles sont tout de même plus nettes que CAH. La densité des points laisse présager que DBSCAN pourrait être un bon choix.\n",
    "\n",
    "## genres_tfidf* PCA - CAH"
   ]
  },
  {
   "cell_type": "code",
   "execution_count": null,
   "id": "d4aa8a9c",
   "metadata": {
    "ExecuteTime": {
     "end_time": "2023-08-27T18:03:05.484227Z",
     "start_time": "2023-08-27T18:02:18.785927Z"
    }
   },
   "outputs": [],
   "source": [
    "#\n",
    "# etape tres longue (~40 secondes) sans feedback visuel; soyez patient\n",
    "#\n",
    "clstr.cah_analysis(pca_.row_coord_, figsize=(12, 3))"
   ]
  },
  {
   "cell_type": "markdown",
   "id": "3390f7ae",
   "metadata": {},
   "source": [
    "On remarque un coude à 7 *clusters*."
   ]
  },
  {
   "cell_type": "code",
   "execution_count": null,
   "id": "f69457e7",
   "metadata": {
    "ExecuteTime": {
     "end_time": "2023-08-27T18:03:07.741535Z",
     "start_time": "2023-08-27T18:03:05.485764Z"
    },
    "scrolled": false
   },
   "outputs": [],
   "source": [
    "cah_ = clstr.cah_init(pca_.row_coord_, 7)\n",
    "\n",
    "jup.display_html(\"<b>genres_tfidf PCA</b> - Visualisation \"\n",
    "                 \"dimensions (non exhaustif) CAH\")\n",
    "clstr.scatter_multiplot(pca_.row_coord_, \n",
    "                        num_cols=3, \n",
    "                        figsize=(12, 5), \n",
    "                        marker_size=1, \n",
    "                        labels=cah_.labels_)\n",
    "\n",
    "jup.display_html(\"<b>genres_tfidf PCA</b> - Analyse clusters CAH\\n\")\n",
    "clstr.clusters_analysis(pca_.row_coord_, cah_.labels_)\n",
    "clusters_analysis(cluster_data_ohe_df, cah_.labels_)"
   ]
  },
  {
   "cell_type": "markdown",
   "id": "572c1d04",
   "metadata": {},
   "source": [
    "Le score Davies Bouldin est grand et les scores silhouette sont relativement petits (autour de 0.4 en général) ce qui suggère des *clusters* plus ou moins bien déinis. Ceci corrobore la visualisation des dimensions où on remarque des zones mais sans frontière franche. \n",
    "\n",
    "Examiner les *clusters* dans les données d'origines semble suggérer qu'ils forment une division logique. Cependant, Les *cluster* 0 et 5 sont très peu discriminants. \n",
    "\n",
    "## genres_tfidf* PCA - KMeans"
   ]
  },
  {
   "cell_type": "code",
   "execution_count": null,
   "id": "9e7c445f",
   "metadata": {
    "ExecuteTime": {
     "end_time": "2023-08-27T18:03:28.246616Z",
     "start_time": "2023-08-27T18:03:07.751057Z"
    }
   },
   "outputs": [],
   "source": [
    "#\n",
    "# etape longue (~20 secondes) sans feedback visuel; soyez patient\n",
    "#\n",
    "clstr.kmeans_analysis(pca_.row_coord_, \n",
    "                      clusters_range=range(2, 60),\n",
    "                      n_init=5, # pour accelerer le traitement\n",
    "                      figsize=(12, 3))"
   ]
  },
  {
   "cell_type": "markdown",
   "id": "f561f11f",
   "metadata": {},
   "source": [
    "Le score silhouette va systématiquement en augmentant. Nous devons donc utiliser la méthode du coude avec l'inertie (wss) pour déterminer un nombre raisonable de *clusters*. Nous estimons que la zone du coude se situe entre 7 et 10 *clusters*. Nous en prenons 10; permier point du coude où se trouve un plateau dans le score silhouette."
   ]
  },
  {
   "cell_type": "code",
   "execution_count": null,
   "id": "ad329303",
   "metadata": {
    "ExecuteTime": {
     "end_time": "2023-08-27T18:03:30.366424Z",
     "start_time": "2023-08-27T18:03:28.248312Z"
    },
    "scrolled": false
   },
   "outputs": [],
   "source": [
    "kmeans_ = clstr.kmeans_init(pca_.row_coord_, 10)\n",
    "\n",
    "jup.display_html(\"<b>genres_tfidf PCA</b> - Visualisation dimensions (non exhaustif) KMeans\")\n",
    "clstr.scatter_multiplot(pca_.row_coord_, \n",
    "                        num_cols=3, \n",
    "                        figsize=(12, 5), \n",
    "                        marker_size=1, \n",
    "                        labels=kmeans_.labels_)\n",
    "\n",
    "jup.display_html(\"<b>genres_tfidf PCA</b> - Analyse clusters KMeans\\n\")\n",
    "clstr.clusters_analysis(pca_.row_coord_, kmeans_.labels_)\n",
    "clusters_analysis(cluster_data_ohe_df, kmeans_.labels_)"
   ]
  },
  {
   "cell_type": "markdown",
   "id": "8f6435a9",
   "metadata": {},
   "source": [
    "La visualisation par graphe suggère que les clusters sont un peu mieux que CAH sans être excellent. Le score Davies Bouldin un peu plus petit ainsi que les scores silhouette un peu plus grands en général corroborent ce constat. En regardant le clustering à travers les données d'origine, on peut remarquer une séparation tout de même logique. L'examen détaillé montre :\n",
    "* La présence de Tokyo Tribe (musical) dans le *cluster* 2 semble hors thème\n",
    "* Le *cluster* 7 semble un peu trop englobant avec romance et war.\n",
    "\n",
    "\n",
    "## genres_tfidf* PCA - DBSCAN"
   ]
  },
  {
   "cell_type": "code",
   "execution_count": null,
   "id": "08dccf6e",
   "metadata": {
    "ExecuteTime": {
     "end_time": "2023-08-27T18:03:30.498125Z",
     "start_time": "2023-08-27T18:03:30.368203Z"
    }
   },
   "outputs": [],
   "source": [
    "clstr.dbscan_eps_analysis(pca_.row_coord_, \n",
    "                          n_neighbors=3,\n",
    "                          ylim=(-1e-2, 0.3))"
   ]
  },
  {
   "cell_type": "code",
   "execution_count": null,
   "id": "867f0d89",
   "metadata": {
    "ExecuteTime": {
     "end_time": "2023-08-27T18:03:54.049146Z",
     "start_time": "2023-08-27T18:03:30.499647Z"
    },
    "scrolled": false
   },
   "outputs": [],
   "source": [
    "#\n",
    "# etape longue (~40 secondes) sans feedback visuel; soyez patient\n",
    "#\n",
    "eps_, min_samples_ = clstr.dbscan_parameters_analysis(pca_.row_coord_, \n",
    "                                                  eps_range=np.arange(1e-6, 0.2, 0.05),\n",
    "                                                  min_samples_range=range(3, 10))\n",
    "dbscan_ = clstr.dbscan_init(pca_.row_coord_, eps_, min_samples_)\n",
    "\n",
    "jup.display_html(\"<b>genres_tfidf PCA </b> - Visualisation \"\n",
    "                 \"dimensions (non exhaustif) DBSCAN\")\n",
    "clstr.scatter_multiplot(pca_.row_coord_, \n",
    "                        num_cols=3, \n",
    "                        figsize=(12, 5), \n",
    "                        marker_size=1, \n",
    "                        labels=dbscan_.labels_)\n",
    "\n",
    "jup.display_html(\"<b>genres_tfidf PCA </b> - Analyse clusters DBSCAN (HEAD)\\n\")\n",
    "clstr.clusters_analysis(pca_.row_coord_, dbscan_.labels_)\n",
    "\n",
    "clusters_analysis(cluster_data_ohe_df, dbscan_.labels_, head_count=10)"
   ]
  },
  {
   "cell_type": "markdown",
   "id": "b62b2524",
   "metadata": {},
   "source": [
    "Grand score Davies Bouldin. Très grand score silhouette en général (> 0.6) qui peut être expliqué par la grande quantité de *clusters* (colle trop aux données). La visualisation ne montre pas de zones bien définies. L'examen des *clusters* dans les données d'origine montre que ceux-ci sont très peu discriminant. Par exemple *clusters* 0, 1 et 2 ou *clusters* 7 et 8. \n",
    "\n",
    "Notre prochaine étape est d'analyser une autre technique de réduction de dimension. En effet, la forte présence de 0 n'est pas sans influencer les résultats précédents. Nous allons essayer [TruncatedSVD](https://tinyurl.com/578bxnnt).\n",
    "\n",
    "## genres TruncatedSVD"
   ]
  },
  {
   "cell_type": "code",
   "execution_count": null,
   "id": "5bd4a034",
   "metadata": {
    "ExecuteTime": {
     "end_time": "2023-08-27T18:03:54.055349Z",
     "start_time": "2023-08-27T18:03:54.050579Z"
    },
    "code_folding": [
     3,
     6
    ]
   },
   "outputs": [],
   "source": [
    "#\n",
    "# utilitaires pour analyser TruncatedSVD\n",
    "#\n",
    "def truncated_svd_init(data, n_components):\n",
    "    return TruncatedSVD(n_components=n_components).fit(data)\n",
    "\n",
    "def truncated_svd_analysis(data, figsize=(4, 2.5)):\n",
    "    model = truncated_svd_init(data, data.shape[1])\n",
    "    coords = model.transform(data)\n",
    "    \n",
    "    explained_variance_ratio_ = np.cumsum(model.explained_variance_ratio_)\n",
    "\n",
    "    plt.figure(figsize=figsize)\n",
    "    plt.plot(range(1, explained_variance_ratio_.shape[0] + 1), explained_variance_ratio_, marker=\".\")\n",
    "    plt.grid(True)\n",
    "    plt.xlabel(\"# axe factoriel\")\n",
    "    plt.ylabel(\"variance expliquée cum.\")\n",
    "    plt.show()"
   ]
  },
  {
   "cell_type": "code",
   "execution_count": null,
   "id": "caeaad12",
   "metadata": {
    "ExecuteTime": {
     "end_time": "2023-08-27T18:03:54.186085Z",
     "start_time": "2023-08-27T18:03:54.057576Z"
    }
   },
   "outputs": [],
   "source": [
    "truncated_svd_analysis(cluster_data_ohe_df)"
   ]
  },
  {
   "cell_type": "markdown",
   "id": "744867ed",
   "metadata": {},
   "source": [
    "Nous gardons 8 axes factoriels afin de pouvoir comparer avec l'ACM. ~75% variance expliquée et à droite du coude (environ à 4 ou 5 axes)."
   ]
  },
  {
   "cell_type": "code",
   "execution_count": null,
   "id": "b2a33aab",
   "metadata": {
    "ExecuteTime": {
     "end_time": "2023-08-27T18:03:55.070019Z",
     "start_time": "2023-08-27T18:03:54.188394Z"
    }
   },
   "outputs": [],
   "source": [
    "tsvd_coords = truncated_svd_init(cluster_data_ohe_df, 8).transform(cluster_data_ohe_df)\n",
    "\n",
    "clstr.scatter_multiplot(tsvd_coords,\n",
    "                        num_cols=4,\n",
    "                        figsize=(12, 5),\n",
    "                        marker_size=1)"
   ]
  },
  {
   "cell_type": "markdown",
   "id": "cc2d568b",
   "metadata": {},
   "source": [
    "On remarque certaines structures qui se détachent ce qui laisse présager que le *clustering* pourrait avoir un effet. La forme non globulaire suggère que KMeans ne sera pas énormément plus efficace que CAH. La densité des points laisse présager que DBSCAN ne sera pas un grand succès non plus."
   ]
  },
  {
   "cell_type": "markdown",
   "id": "931547cd",
   "metadata": {},
   "source": [
    "## genres TruncatedSVD - CAH"
   ]
  },
  {
   "cell_type": "code",
   "execution_count": null,
   "id": "f1e58891",
   "metadata": {
    "ExecuteTime": {
     "end_time": "2023-08-27T18:04:42.035340Z",
     "start_time": "2023-08-27T18:03:55.072220Z"
    }
   },
   "outputs": [],
   "source": [
    "#\n",
    "# etape longue (~45 minutes) sans feedback visuel; soyez patient\n",
    "#\n",
    "clstr.cah_analysis(tsvd_coords, figsize=(12, 3))"
   ]
  },
  {
   "cell_type": "markdown",
   "id": "685b6193",
   "metadata": {},
   "source": [
    "Coude à 10 *clusters*. Faible coudes à 12 et 17 *clusters*. Nous gardons 10 parce que les coudes à 12 et 17 ne nous apparaissent pas assez francs par rapport à celui de 10."
   ]
  },
  {
   "cell_type": "code",
   "execution_count": null,
   "id": "e66948f0",
   "metadata": {
    "ExecuteTime": {
     "end_time": "2023-08-27T18:04:44.735760Z",
     "start_time": "2023-08-27T18:04:42.037523Z"
    },
    "scrolled": false
   },
   "outputs": [],
   "source": [
    "cah_ = clstr.cah_init(tsvd_coords, 10)\n",
    "\n",
    "jup.display_html(\"<b>genres TruncatedSVD</b> - Visualisation \"\n",
    "                 \"dimensions (non exhaustif) CAH\")\n",
    "clstr.scatter_multiplot(tsvd_coords, \n",
    "                        num_cols=4, \n",
    "                        figsize=(12, 5), \n",
    "                        marker_size=1, \n",
    "                        labels=cah_.labels_)\n",
    "\n",
    "jup.display_html(\"<b>genres TruncatedSVD</b> - Analyse clusters CAH\\n\")\n",
    "clstr.clusters_analysis(tsvd_coords, cah_.labels_)\n",
    "clusters_analysis(cluster_data_ohe_df, cah_.labels_)"
   ]
  },
  {
   "cell_type": "markdown",
   "id": "fc9b820e",
   "metadata": {},
   "source": [
    "Les *clusters* nous apparaissent mal définis. Le score Davies Bouldin est relativement grand. Les scores silhouette sont en général petits (< 0.5) même si quelques uns sont au dessus. La visualisation des coordonnées réduites ne montre pas non plus de zones bien délimitées. Beaucoup de *clusters* projetés dans les données d'origine ne semblent pas très homogènes. \n",
    "Par exemple *cluster* 3 avec Miss Sloane (drama) vs Salem's lot (horror) et *cluster* 4 avec Intersellar (Sci-Fi) vs Blue Planet II (documentary).\n",
    "\n",
    "En comparant avec ACM, TruncatedSVD a permis de réduire d'avantage la dimentionalité pour un nombre de *clusters* similaires. Leur composition, bien que différente, est un peu moins ciblée en général et souffre de problèmes similaires (individus \"*outliers*\").\n",
    "\n",
    "## genres TruncatedSVD - KMeans"
   ]
  },
  {
   "cell_type": "code",
   "execution_count": null,
   "id": "cef5affb",
   "metadata": {
    "ExecuteTime": {
     "end_time": "2023-08-27T18:05:05.194214Z",
     "start_time": "2023-08-27T18:04:44.737004Z"
    }
   },
   "outputs": [],
   "source": [
    "#\n",
    "# etape longue (~20 secondes) sans feedback visuel; soyez patient\n",
    "#\n",
    "clstr.kmeans_analysis(tsvd_coords, \n",
    "                      clusters_range=range(2, 60),\n",
    "                      n_init=5, # pour accelerer le traitement\n",
    "                      figsize=(12, 3))"
   ]
  },
  {
   "cell_type": "markdown",
   "id": "05c922ee",
   "metadata": {},
   "source": [
    "Le score silhouette va systématiquement en augmentant. Nous devons donc utiliser la méthode du coude avec l'inertie (wss) pour déterminer un nombre raisonable de clusters. Nous estimons que la zone du coude se situe entre 7 et 10 clusters. Nous en prenons donc 10; aucun maximum ou plateau dans score silhouette mais minimum dans inertie."
   ]
  },
  {
   "cell_type": "code",
   "execution_count": null,
   "id": "89d29d7b",
   "metadata": {
    "ExecuteTime": {
     "end_time": "2023-08-27T18:05:08.046371Z",
     "start_time": "2023-08-27T18:05:05.196636Z"
    },
    "scrolled": false
   },
   "outputs": [],
   "source": [
    "kmeans_ = clstr.kmeans_init(tsvd_coords, 10)\n",
    "\n",
    "jup.display_html(\"<b>genres TruncatedSVD</b> - Visualisation \"\n",
    "                 \"dimensions (non exhaustif) KMeans\")\n",
    "clstr.scatter_multiplot(tsvd_coords, \n",
    "                        num_cols=3, \n",
    "                        figsize=(12, 7), \n",
    "                        marker_size=1, \n",
    "                        labels=kmeans_.labels_)\n",
    "\n",
    "jup.display_html(\"<b>genres TruncatedSVD</b> - Analyse clusters KMeans\\n\")\n",
    "clstr.clusters_analysis(tsvd_coords, kmeans_.labels_)\n",
    "clusters_analysis(cluster_data_ohe_df, kmeans_.labels_)"
   ]
  },
  {
   "cell_type": "markdown",
   "id": "d7e2eec1",
   "metadata": {},
   "source": [
    "Conclusions similaires quant aux scores et visualisation. *Clusters* plus ciblés par contre.\n",
    "\n",
    "## genres TruncatedSVD - DBSCAN"
   ]
  },
  {
   "cell_type": "code",
   "execution_count": null,
   "id": "6841d059",
   "metadata": {
    "ExecuteTime": {
     "end_time": "2023-08-27T18:05:08.179826Z",
     "start_time": "2023-08-27T18:05:08.047680Z"
    }
   },
   "outputs": [],
   "source": [
    "clstr.dbscan_eps_analysis(tsvd_coords, \n",
    "                          n_neighbors=3, \n",
    "                          ylim=(-0.5e-1, 0.5))"
   ]
  },
  {
   "cell_type": "code",
   "execution_count": null,
   "id": "094e7fb5",
   "metadata": {
    "ExecuteTime": {
     "end_time": "2023-08-27T18:05:40.387078Z",
     "start_time": "2023-08-27T18:05:08.181386Z"
    },
    "scrolled": false
   },
   "outputs": [],
   "source": [
    "#\n",
    "# etape longue (~20 secondes) sans feedback visuel; soyez patient\n",
    "#\n",
    "eps_, min_samples_ = clstr.dbscan_parameters_analysis(tsvd_coords, \n",
    "                                                  eps_range=np.arange(1e-6, 0.4, 0.05),\n",
    "                                                  min_samples_range=range(3, 10))\n",
    "dbscan_ = clstr.dbscan_init(tsvd_coords, eps_, min_samples_)\n",
    "\n",
    "jup.display_html(\"<b>genres TruncatedSVD</b> - Visualisation \"\n",
    "                 \"dimensions (non exhaustif) DBSCAN\")\n",
    "clstr.scatter_multiplot(tsvd_coords, \n",
    "                        num_cols=4, \n",
    "                        figsize=(12, 5), \n",
    "                        marker_size=1, \n",
    "                        labels=dbscan_.labels_)\n",
    "\n",
    "jup.display_html(\"<b>genres TruncatedSVD</b> - Analyse clusters DBSCAN (HEAD)\\n\")\n",
    "clstr.clusters_analysis(tsvd_coords, dbscan_.labels_)\n",
    "\n",
    "clusters_analysis(cluster_data_ohe_df, dbscan_.labels_, head_count=10)"
   ]
  },
  {
   "cell_type": "markdown",
   "id": "c83b850a",
   "metadata": {},
   "source": [
    "Nous avons le même constat qu'avec DBSCAN sur l'ACM (beaucoups de clusters, en général mal définis si on tient compte des scores et visualisation, division somme toute logique mais avec incohérences).\n",
    "\n",
    "## genres_tfidf* TruncatedSVD"
   ]
  },
  {
   "cell_type": "code",
   "execution_count": null,
   "id": "d0a68f9e",
   "metadata": {
    "ExecuteTime": {
     "end_time": "2023-08-27T18:05:40.514074Z",
     "start_time": "2023-08-27T18:05:40.388350Z"
    }
   },
   "outputs": [],
   "source": [
    "truncated_svd_analysis(genres_tfidf_df)"
   ]
  },
  {
   "cell_type": "markdown",
   "id": "a9d69ae0",
   "metadata": {},
   "source": [
    "Nous gardons 8 axes factoriels afin de pouvoir comparer avec l'ACM. ~75% variance expliquée et à droite du coude (environ à 4 ou 5 axes)."
   ]
  },
  {
   "cell_type": "code",
   "execution_count": null,
   "id": "84283e78",
   "metadata": {
    "ExecuteTime": {
     "end_time": "2023-08-27T18:05:41.420135Z",
     "start_time": "2023-08-27T18:05:40.516471Z"
    }
   },
   "outputs": [],
   "source": [
    "tsvd_coords = truncated_svd_init(genres_tfidf_df, 8).transform(genres_tfidf_df)\n",
    "\n",
    "clstr.scatter_multiplot(tsvd_coords,\n",
    "                        num_cols=4,\n",
    "                        figsize=(12, 5),\n",
    "                        marker_size=1)"
   ]
  },
  {
   "cell_type": "markdown",
   "id": "e523c395",
   "metadata": {},
   "source": [
    "On remarque certaines structures qui se détachent ce qui laisse présager que le clustering pourrait avoir un effet. Les structures netment plus distinctes que **genres** (one hot encoder). La forme non globulaire suggère que KMeans ne sera pas énormément plus efficace que CAH. La densité des points laisse présager que DBSCAN pourrait être intéressant sans être excellent.\n",
    "\n",
    "## genres_tfidf* TruncatedSVD - CAH"
   ]
  },
  {
   "cell_type": "code",
   "execution_count": null,
   "id": "87cd65d9",
   "metadata": {
    "ExecuteTime": {
     "end_time": "2023-08-27T18:06:28.194903Z",
     "start_time": "2023-08-27T18:05:41.421968Z"
    }
   },
   "outputs": [],
   "source": [
    "#\n",
    "# etape longue (~45 secondes) sans feedback visuel; soyez patient\n",
    "#\n",
    "clstr.cah_analysis(tsvd_coords, figsize=(12, 3))"
   ]
  },
  {
   "cell_type": "markdown",
   "id": "4b938954",
   "metadata": {},
   "source": [
    "Coudes à 4 et 8 clusters. Nous gardons 8 pour avoir plus de *clusters*."
   ]
  },
  {
   "cell_type": "code",
   "execution_count": null,
   "id": "014b6d6f",
   "metadata": {
    "ExecuteTime": {
     "end_time": "2023-08-27T18:06:31.101403Z",
     "start_time": "2023-08-27T18:06:28.197124Z"
    },
    "scrolled": false
   },
   "outputs": [],
   "source": [
    "cah_ = clstr.cah_init(tsvd_coords, 8)\n",
    "\n",
    "jup.display_html(\"<b>genres_tfidf TruncatedSVD</b> - Visualisation \"\n",
    "                 \"dimensions (non exhaustif) CAH\")\n",
    "clstr.scatter_multiplot(tsvd_coords, \n",
    "                        num_cols=4, \n",
    "                        figsize=(12, 5), \n",
    "                        marker_size=1, \n",
    "                        labels=cah_.labels_)\n",
    "\n",
    "jup.display_html(\"<b>genres_tfidf TruncatedSVD</b> - Analyse clusters CAH\\n\")\n",
    "clstr.clusters_analysis(tsvd_coords, cah_.labels_)\n",
    "clusters_analysis(cluster_data_ohe_df, cah_.labels_)"
   ]
  },
  {
   "cell_type": "markdown",
   "id": "9da32709",
   "metadata": {},
   "source": [
    "Même conclusions que précédement. Clusters mal définis par scores et visualisation. La projection dans données d'origine est logique à prime abord mais très peu de *clusters* et la représentation n'est pas excellente:\n",
    "\n",
    "* *Cluster* 0 (The Lifegard, romance) et 1 semblent se chevaucher\n",
    "* *Cluster* 5 Très peu discriminant avec Drama\n",
    "* *Cluster* 7 avec Tokyo Tribe (musical) semble moins homogène\n",
    "\n",
    "## genres_tfidf* TruncatedSVD - KMeans"
   ]
  },
  {
   "cell_type": "code",
   "execution_count": null,
   "id": "798ac601",
   "metadata": {
    "ExecuteTime": {
     "end_time": "2023-08-27T18:06:51.735685Z",
     "start_time": "2023-08-27T18:06:31.103344Z"
    },
    "scrolled": true
   },
   "outputs": [],
   "source": [
    "#\n",
    "# etape longue (~20 secondes) sans feedback visuel; soyez patient\n",
    "#\n",
    "clstr.kmeans_analysis(tsvd_coords, \n",
    "                      clusters_range=range(2, 60),\n",
    "                      n_init=5, # pour accelerer le traitement\n",
    "                      figsize=(12, 3))"
   ]
  },
  {
   "cell_type": "markdown",
   "id": "8a2b43e5",
   "metadata": {},
   "source": [
    "Le score silhouette va systématiquement en augmentant. Nous devons donc utiliser la méthode du coude avec l'inertie (wss) pour déterminer un nombre raisonable de clusters. Nous estimons que la zone du coude se situe entre 7 et 11 *clusters*. Nous en prenons 11; maximum score silhouette et inertie minimum."
   ]
  },
  {
   "cell_type": "code",
   "execution_count": null,
   "id": "a1cd85f2",
   "metadata": {
    "ExecuteTime": {
     "end_time": "2023-08-27T18:06:54.196399Z",
     "start_time": "2023-08-27T18:06:51.737045Z"
    },
    "scrolled": false
   },
   "outputs": [],
   "source": [
    "kmeans_ = clstr.kmeans_init(tsvd_coords, 11)\n",
    "\n",
    "jup.display_html(\"<b>genres_tfidf PCA</b> - Visualisation dimensions (non exhaustif) KMeans\")\n",
    "clstr.scatter_multiplot(tsvd_coords, \n",
    "                        num_cols=4, \n",
    "                        figsize=(12, 5), \n",
    "                        marker_size=1, \n",
    "                        labels=kmeans_.labels_)\n",
    "\n",
    "jup.display_html(\"<b>genres_tfidf PCA</b> - Analyse clusters KMeans\\n\")\n",
    "clstr.clusters_analysis(tsvd_coords, kmeans_.labels_)\n",
    "clusters_analysis(cluster_data_ohe_df, kmeans_.labels_)"
   ]
  },
  {
   "cell_type": "markdown",
   "id": "9d96767f",
   "metadata": {},
   "source": [
    "Même conclusions que précédement. Clusters mal définis par scores et visualisation. La projection dans les données d'origine est logique à prime abord mais peu de clusters et la représentation n'est pas excellente.\n",
    "\n",
    "## genres_tfidf* TruncatedSVD - DBSCAN"
   ]
  },
  {
   "cell_type": "code",
   "execution_count": null,
   "id": "82101693",
   "metadata": {
    "ExecuteTime": {
     "end_time": "2023-08-27T18:06:54.335519Z",
     "start_time": "2023-08-27T18:06:54.197821Z"
    }
   },
   "outputs": [],
   "source": [
    "clstr.dbscan_eps_analysis(tsvd_coords, n_neighbors=3)"
   ]
  },
  {
   "cell_type": "code",
   "execution_count": null,
   "id": "12b9234c",
   "metadata": {
    "ExecuteTime": {
     "end_time": "2023-08-27T18:07:25.002020Z",
     "start_time": "2023-08-27T18:06:54.337122Z"
    },
    "scrolled": false
   },
   "outputs": [],
   "source": [
    "#\n",
    "# etape longue (~30 secondes) sans feedback visuel; soyez patient\n",
    "#\n",
    "eps_, min_samples_ = clstr.dbscan_parameters_analysis(tsvd_coords, \n",
    "                                                  eps_range=np.arange(1e-6, 0.3, 0.05),\n",
    "                                                  min_samples_range=range(3, 10))\n",
    "dbscan_ = clstr.dbscan_init(tsvd_coords, eps_, min_samples_)\n",
    "\n",
    "jup.display_html(\"<b>genres_tfidf TruncatedSVD</b> - Visualisation \"\n",
    "                 \"dimensions (non exhaustif) DBSCAN\")\n",
    "clstr.scatter_multiplot(tsvd_coords, \n",
    "                        num_cols=4, \n",
    "                        figsize=(12, 5), \n",
    "                        marker_size=1, \n",
    "                        labels=dbscan_.labels_)\n",
    "\n",
    "jup.display_html(\"<b>genres_tfidf TruncatedSVD</b> - Analyse clusters DBSCAN (HEAD)\\n\")\n",
    "clstr.clusters_analysis(tsvd_coords, dbscan_.labels_)\n",
    "\n",
    "clusters_analysis(cluster_data_ohe_df, dbscan_.labels_, head_count=10)"
   ]
  },
  {
   "cell_type": "markdown",
   "id": "3ca85574",
   "metadata": {},
   "source": [
    "Nous avons le même constat qu'avec DBSCAN sur l'ACM (beaucoups de clusters, en général mal définis si on tient compte des scores et visualisation, division somme toute logique mais avec incohérences).\n",
    "\n",
    "# Règles associations"
   ]
  },
  {
   "cell_type": "code",
   "execution_count": null,
   "id": "ce04004e",
   "metadata": {},
   "outputs": [],
   "source": [
    "rating_df = pd.read_csv(\"./dataset/ratings_pretraitement.csv\", delimiter=',')\n",
    "\n",
    "print(\"Nombre de user\", rating_df.shape[0])\n",
    "print(\"Nombre de film\", rating_df.shape[1])"
   ]
  },
  {
   "cell_type": "code",
   "execution_count": null,
   "id": "df737b8b",
   "metadata": {},
   "outputs": [],
   "source": [
    "choix_min_support = [0.12, 0.14, 0.16, 0.18, 0.2, 0.22, 0.25, 0.28, 0.3, 0.4]\n",
    "print(\"Nombres correspondants:\", [\n",
    "      int(choix_min_support[i]*rating_df.shape[0]) for i in range(len(choix_min_support))])\n"
   ]
  },
  {
   "cell_type": "code",
   "execution_count": null,
   "id": "1c48de12",
   "metadata": {},
   "outputs": [],
   "source": [
    "num_freq_itemset, freq_itemsets = [], []\n",
    "for minsup in choix_min_support:\n",
    "    freq_items = apriori(rating_df, min_support=minsup,\n",
    "                         max_len=9, use_colnames=True)\n",
    "    freq_itemsets.append(freq_items)\n",
    "    num_freq_itemset.append(freq_items.shape[0])\n",
    "result_df = pd.DataFrame({'minsup': choix_min_support, \n",
    "                          'num_items': num_freq_itemset, \n",
    "                          'itemsets':freq_itemsets})\n",
    "result_df[['minsup','num_items']]"
   ]
  },
  {
   "cell_type": "code",
   "execution_count": null,
   "id": "3fdcf765",
   "metadata": {},
   "outputs": [],
   "source": [
    "plt.plot(result_df.minsup, result_df.num_items)\n",
    "plt.xlabel(\"minimum support\")\n",
    "plt.ylabel(\"nombre des fréquent items\")\n",
    "plt.show()\n"
   ]
  },
  {
   "cell_type": "code",
   "execution_count": null,
   "id": "a6337fde",
   "metadata": {},
   "outputs": [],
   "source": [
    "# initialise un petit seuil de confidence 10% afin de trouver maximum de règles\n",
    "num_rules, rules, min_conf = [], [], 0.1\n",
    "for f_items in freq_itemsets:\n",
    "    ar = association_rules(f_items, metric='confidence',\n",
    "                           min_threshold=min_conf)\n",
    "    rules.append(ar.sort_values(by='lift', ascending=False))\n",
    "    num_rules.append(ar.shape[0])\n",
    "result_df['num_rules'] = num_rules\n",
    "result_df['rules'] = rules\n",
    "result_df[['minsup', 'num_items', 'num_rules']]\n"
   ]
  },
  {
   "cell_type": "code",
   "execution_count": null,
   "id": "f4a73d73",
   "metadata": {},
   "outputs": [],
   "source": [
    "col_display = [\"antecedents\", \"consequents\", \"confidence\", \"lift\"]\n",
    "print(\"Toutes les regles\")\n",
    "for idx in range(1, 3):\n",
    "    print(\"=\"*60)\n",
    "    print(\"-\"*20, f\"min_support = {result_df.minsup[idx]}\", \"-\"*20)\n",
    "    print(result_df.rules[idx][col_display])\n"
   ]
  },
  {
   "cell_type": "code",
   "execution_count": null,
   "id": "bc05d75f",
   "metadata": {},
   "outputs": [],
   "source": [
    "freq_itemsets1 = apriori(rating_df, min_support=0.11, max_len=10, use_colnames=True)\n",
    "print(freq_itemsets1.sort_values(by='support', ascending=True))"
   ]
  },
  {
   "cell_type": "code",
   "execution_count": null,
   "id": "7e397117",
   "metadata": {},
   "outputs": [],
   "source": [
    "regles1 = association_rules(freq_itemsets1,metric=\"confidence\",min_threshold=0.11)"
   ]
  },
  {
   "cell_type": "code",
   "execution_count": null,
   "id": "eb0389cd",
   "metadata": {},
   "outputs": [],
   "source": [
    "myRegles = regles1.loc[:, ['antecedents', 'consequents', 'lift', 'conviction']]\n"
   ]
  },
  {
   "cell_type": "code",
   "execution_count": null,
   "id": "1e62ae92",
   "metadata": {},
   "outputs": [],
   "source": [
    "film_id = np.where(regles1.antecedents.apply(lambda x: {7153}.issubset(x)))\n",
    "regles1.iloc[film_id][:20]"
   ]
  },
  {
   "cell_type": "code",
   "execution_count": null,
   "id": "f3c62dc9",
   "metadata": {},
   "outputs": [],
   "source": [
    "regles1['consequents'].nunique()\n",
    "\n",
    "a = set()\n",
    "\n",
    "\n",
    "def testfrozen(v, dest):\n",
    "  dest.update(set(v))\n",
    "\n",
    "\n",
    "regles1['antecedents'].apply(testfrozen, dest=a)\n",
    "print(len(a))\n",
    "\n",
    "#display(dir(regles1['antecedents'][0]))"
   ]
  },
  {
   "cell_type": "code",
   "execution_count": null,
   "id": "73be09ee",
   "metadata": {},
   "outputs": [],
   "source": []
  },
  {
   "cell_type": "markdown",
   "id": "01d78afd",
   "metadata": {},
   "source": [
    "# Conclusion\n",
    "\n",
    "Nous avons regardé 2 représentations de genres, 2 techniques de réduction de dimension et 3 techniques de *clusterization*.\n",
    "\n",
    "**genres** ne semble pas avoir d'avantage particulier par rapport à **genres_tfidf\\***. TruncatedSVD semble, quant à lui avoir un léger avantage sur la réduction de dimensions par rapport à l'ACM. Nous le recommendons donc étant donné le contexte (beaucoup de 0, aucun besoin de centrage).\n",
    "\n",
    "KMeans et CAH sont les seules méthodes qui donnent des résultats exploitables. En effet, DBSCAN semble trouver une trop grande quantité de *clusters* pour être utilisable. Sinon, bien que les *clusters* de CAH et KMeans soient logiques, ils ne sont pas excellents. Il y a quelques incohérences dans leurs contenus, leur pouvoir discriminant n'est pas optimal, la représentation de tous les genres ne l'est pas non et leur interprétation reste ardue. Finalement, leurs calculs demandent également beaucoup de resources. Nous pensons donc que le *clustering* n'est pas la méthode la plus adéquate pour un système de recommendations.\n",
    "\n",
    "*K-nearest neighboor* avec une métrique de similarité nous parait plus juste et beaucoup plus simple. Bien que non montré dans ce notebook, l'ajout de critères additionnels dans le *clustering*, tel que **rating_mode**, augmentent la complexité et la difficulté d'interprétation des résultats ce qui n'est pas le cas avec *K-nearest neighboor*. Voici un exemple illustrant une possible implémentation :"
   ]
  },
  {
   "cell_type": "code",
   "execution_count": null,
   "id": "28c63ae9",
   "metadata": {
    "ExecuteTime": {
     "end_time": "2023-08-27T18:07:25.089832Z",
     "start_time": "2023-08-27T18:07:25.003972Z"
    }
   },
   "outputs": [],
   "source": [
    "from sklearn.neighbors import NearestNeighbors\n",
    "\n",
    "#\n",
    "# ajout des criteres supplementaires\n",
    "#\n",
    "rating_mode_ohe_df = movies_df.rating_mode.astype(str).str.get_dummies()\n",
    "year_ohe_df = pd.get_dummies(movies_df.year_category)\n",
    "\n",
    "# noter la facilite d'ajouter/enlever des criteres\n",
    "data_df = pd.concat([genres_ohe_df, rating_mode_ohe_df, year_ohe_df], axis=1)\n",
    "# data_df = pd.concat([genres_ohe_df, rating_mode_ohe_df], axis=1)\n",
    "# data_df = pd.concat([genres_ohe_df], axis=1)\n",
    "\n",
    "# \n",
    "# modele pour faire les requetes de suggestions\n",
    "# cosine est une mesure de similarite\n",
    "#\n",
    "cls = NearestNeighbors(n_neighbors=9, n_jobs=-1, metric=\"cosine\").fit(data_df)\n",
    "\n",
    "#\n",
    "# requete\n",
    "# \n",
    "print(\"Query\")\n",
    "# query = movies_df[ movies_df.title == \"Star Wars: Episode VII - The Force Awakens (2015)\" ]\n",
    "query = movies_df[ movies_df.title == \"Star Wars: The Last Jedi (2017)\" ]    \n",
    "display(query[[\"title\", \"rating_mode\", \"year_category\", \"genres\"]])\n",
    "\n",
    "print()\n",
    "\n",
    "#\n",
    "# recommendations\n",
    "#\n",
    "distances, recommendation_indices = cls.kneighbors( data_df.loc[query.index] )\n",
    "recommendation_indices = recommendation_indices.flatten()\n",
    "recommendations = movies_df.iloc[recommendation_indices]\n",
    "recommendations = recommendations[[\"title\", \"rating_mode\", \"year_category\", \"genres\"]]\n",
    "recommendations[\"distance\"] = distances.flatten()\n",
    "recommendations.sort_values(by=[\"distance\", \"rating_mode\"], \n",
    "                            inplace=True, \n",
    "                            ascending=[True, False])\n",
    "print(\"Recommendations\")\n",
    "display(recommendations)"
   ]
  }
 ],
 "metadata": {
  "hide_input": false,
  "kernelspec": {
   "display_name": "Python 3 (ipykernel)",
   "language": "python",
   "name": "python3"
  },
  "language_info": {
   "codemirror_mode": {
    "name": "ipython",
    "version": 3
   },
   "file_extension": ".py",
   "mimetype": "text/x-python",
   "name": "python",
   "nbconvert_exporter": "python",
   "pygments_lexer": "ipython3",
   "version": "3.11.3"
  },
  "toc": {
   "base_numbering": 1,
   "nav_menu": {
    "height": "299px",
    "width": "450px"
   },
   "number_sections": false,
   "sideBar": true,
   "skip_h1_title": false,
   "title_cell": "Table of Contents",
   "title_sidebar": "Contents",
   "toc_cell": false,
   "toc_position": {
    "height": "474.4px",
    "left": "27px",
    "top": "110.537px",
    "width": "227.4px"
   },
   "toc_section_display": true,
   "toc_window_display": true
  },
  "varInspector": {
   "cols": {
    "lenName": 16,
    "lenType": 16,
    "lenVar": 40
   },
   "kernels_config": {
    "python": {
     "delete_cmd_postfix": "",
     "delete_cmd_prefix": "del ",
     "library": "var_list.py",
     "varRefreshCmd": "print(var_dic_list())"
    },
    "r": {
     "delete_cmd_postfix": ") ",
     "delete_cmd_prefix": "rm(",
     "library": "var_list.r",
     "varRefreshCmd": "cat(var_dic_list()) "
    }
   },
   "types_to_exclude": [
    "module",
    "function",
    "builtin_function_or_method",
    "instance",
    "_Feature"
   ],
   "window_display": false
  },
  "vscode": {
   "interpreter": {
    "hash": "ad2bdc8ecc057115af97d19610ffacc2b4e99fae6737bb82f5d7fb13d2f2c186"
   }
  }
 },
 "nbformat": 4,
 "nbformat_minor": 5
}
