{
 "cells": [
  {
   "cell_type": "code",
   "execution_count": 1,
   "id": "61a93a2f",
   "metadata": {
    "ExecuteTime": {
     "end_time": "2023-07-16T20:51:23.640134Z",
     "start_time": "2023-07-16T20:51:23.632970Z"
    }
   },
   "outputs": [
    {
     "data": {
      "text/html": [
       "\n",
       "<style>    \n",
       "    @import url(\"css/custom_styles.css\")\n",
       "</style>\n"
      ],
      "text/plain": [
       "<IPython.core.display.HTML object>"
      ]
     },
     "metadata": {},
     "output_type": "display_data"
    }
   ],
   "source": [
    "%%html\n",
    "\n",
    "<style>    \n",
    "    @import url(\"css/custom_styles.css\")\n",
    "</style>"
   ]
  },
  {
   "cell_type": "markdown",
   "id": "f9bafcf8",
   "metadata": {},
   "source": [
    "<center>\n",
    "    <h1>\n",
    "    Transformation Et Manipulation Des Données<br>\n",
    "    </h1>\n",
    "    MovieLens - Système de recommendations de films par regroupement<br>\n",
    "    <br>\n",
    "    <b>Jean-Francois Gagnon</b><br>\n",
    "    <br>\n",
    "    420-A56<br>\n",
    "    <br>\n",
    "</center>"
   ]
  },
  {
   "cell_type": "markdown",
   "id": "b249b9da",
   "metadata": {},
   "source": [
    "# Introduction"
   ]
  },
  {
   "cell_type": "markdown",
   "id": "0215affe",
   "metadata": {},
   "source": [
    "<font class=\"answer\">\n",
    "    \n",
    "J'ai choisi la base de données [MovieLens Small](https://tinyurl.com/bdhmcfht). Elle se compose de 100836 notes représentant 9742 films. Elle contient également les métadonnées sur 19 genres et des liens sur [TMDB](https://www.themoviedb.org) qui permettront d'augmemter son contenu.\n",
    "    \n",
    "Plus spécifiquement, (Voir https://files.grouplens.org/datasets/movielens/ml-latest-small-README.html et décrire en détails le format)\n",
    "    \n",
    "    \n",
    "    \n",
    "L'objectif de ce projet est de contruire un système de recommentation de films en utilisant les techniques de regroupement vu dans le cours. Les détails du sytème seront abordés plus loins dans ce notebooks"
   ]
  },
  {
   "cell_type": "code",
   "execution_count": 2,
   "id": "42719a6b",
   "metadata": {
    "ExecuteTime": {
     "end_time": "2023-07-16T20:51:26.224772Z",
     "start_time": "2023-07-16T20:51:24.808814Z"
    }
   },
   "outputs": [],
   "source": [
    "#\n",
    "# imports utilitaires\n",
    "#\n",
    "\n",
    "%matplotlib inline\n",
    "\n",
    "import json\n",
    "import matplotlib.pyplot as plt\n",
    "import numpy as np\n",
    "import os\n",
    "import pandas as pd\n",
    "import re\n",
    "import requests\n",
    "import seaborn as sns\n",
    "import time\n",
    "\n",
    "from bs4 import BeautifulSoup\n",
    "from imblearn.under_sampling import RandomUnderSampler\n",
    "from sklearn.cluster import MiniBatchKMeans\n",
    "from sklearn.decomposition import TruncatedSVD\n",
    "\n",
    "from tqdm.notebook import tqdm"
   ]
  },
  {
   "cell_type": "code",
   "execution_count": 3,
   "id": "4d914ec6",
   "metadata": {
    "ExecuteTime": {
     "end_time": "2023-07-16T20:51:26.469874Z",
     "start_time": "2023-07-16T20:51:26.461726Z"
    },
    "code_folding": [
     12,
     17,
     22,
     33,
     43
    ]
   },
   "outputs": [],
   "source": [
    "#\n",
    "# imports faisant partie de nos propres modules\n",
    "#\n",
    "\n",
    "import helpers as hlp\n",
    "import helpers.dataset.MovieLens as mvl\n",
    "\n",
    "from helpers.jupyter import display_html\n",
    "\n",
    "#\n",
    "# fonctions utilitaires\n",
    "#\n",
    "def show_na_simple(dataframe):\n",
    "    na_ = dataframe.isna().sum().to_frame()\n",
    "    na_.columns = [\"NA\"]\n",
    "    display(na_.T)\n",
    "\n",
    "def show_types_simple(dataframe):\n",
    "    types_ = dataframe.dtypes.to_frame()\n",
    "    types_.columns = [\"Type\"]\n",
    "    display(types_.T)\n",
    "    \n",
    "def split_title(title, regex):\n",
    "    x = regex.search(title)\n",
    "    if x:\n",
    "        title = x.group(1)\n",
    "        year = x.group(2)\n",
    "        year = int(year) if year else pd.NA\n",
    "    else:\n",
    "        year = pd.NA\n",
    "    \n",
    "    return pd.Series({\"title\": title, \"year\": year})\n",
    "\n",
    "def web_scapping_imdb(links_series, config, callback):\n",
    "    count = links_series.shape[0]\n",
    "    for index, id in tqdm(links_series.items(), total=count):\n",
    "        url = \"\".join([config.scrapping_imdb_url, str(id)])\n",
    "        with requests.get(url, headers=config.scrapping_imdb_headers.__dict__) as r:\n",
    "            callback(r, index, id)\n",
    "\n",
    "            # ne pas surcharger imdb de requetes\n",
    "            time.sleep(0.05)\n",
    "    \n",
    "def json_nested_object(json, keys_iterable):\n",
    "    for k in keys_iterable:\n",
    "        if not k in json:\n",
    "            return None\n",
    "        json = json[k]\n",
    "        \n",
    "    return json"
   ]
  },
  {
   "cell_type": "markdown",
   "id": "1ec93b72",
   "metadata": {},
   "source": [
    "# Prétraitement"
   ]
  },
  {
   "cell_type": "markdown",
   "id": "682de01b",
   "metadata": {},
   "source": [
    "<font class=\"answer\">\n",
    "\n",
    "TODO"
   ]
  },
  {
   "cell_type": "code",
   "execution_count": 4,
   "id": "33ce7ed2",
   "metadata": {
    "ExecuteTime": {
     "end_time": "2023-07-16T20:51:26.812116Z",
     "start_time": "2023-07-16T20:51:26.737674Z"
    }
   },
   "outputs": [],
   "source": [
    "#\n",
    "# parametres configurant nos traitemens\n",
    "#\n",
    "configs = hlp.get_configs(\"config_overrides.json\")\n",
    "\n",
    "#\n",
    "# obtenir le dataset\n",
    "#\n",
    "mvl_dataset = mvl.load(configs.dataset)"
   ]
  },
  {
   "cell_type": "code",
   "execution_count": 5,
   "id": "596dcf24",
   "metadata": {
    "ExecuteTime": {
     "end_time": "2023-07-16T20:51:27.075736Z",
     "start_time": "2023-07-16T20:51:27.060068Z"
    }
   },
   "outputs": [
    {
     "name": "stdout",
     "output_type": "stream",
     "text": [
      "Links\n"
     ]
    },
    {
     "data": {
      "text/html": [
       "<div>\n",
       "<style scoped>\n",
       "    .dataframe tbody tr th:only-of-type {\n",
       "        vertical-align: middle;\n",
       "    }\n",
       "\n",
       "    .dataframe tbody tr th {\n",
       "        vertical-align: top;\n",
       "    }\n",
       "\n",
       "    .dataframe thead th {\n",
       "        text-align: right;\n",
       "    }\n",
       "</style>\n",
       "<table border=\"1\" class=\"dataframe\">\n",
       "  <thead>\n",
       "    <tr style=\"text-align: right;\">\n",
       "      <th></th>\n",
       "      <th>movieId</th>\n",
       "      <th>imdbId</th>\n",
       "      <th>tmdbId</th>\n",
       "    </tr>\n",
       "  </thead>\n",
       "  <tbody>\n",
       "    <tr>\n",
       "      <th>NA</th>\n",
       "      <td>0</td>\n",
       "      <td>0</td>\n",
       "      <td>8</td>\n",
       "    </tr>\n",
       "  </tbody>\n",
       "</table>\n",
       "</div>"
      ],
      "text/plain": [
       "    movieId  imdbId  tmdbId\n",
       "NA        0       0       8"
      ]
     },
     "metadata": {},
     "output_type": "display_data"
    },
    {
     "data": {
      "text/html": [
       "<div>\n",
       "<style scoped>\n",
       "    .dataframe tbody tr th:only-of-type {\n",
       "        vertical-align: middle;\n",
       "    }\n",
       "\n",
       "    .dataframe tbody tr th {\n",
       "        vertical-align: top;\n",
       "    }\n",
       "\n",
       "    .dataframe thead th {\n",
       "        text-align: right;\n",
       "    }\n",
       "</style>\n",
       "<table border=\"1\" class=\"dataframe\">\n",
       "  <thead>\n",
       "    <tr style=\"text-align: right;\">\n",
       "      <th></th>\n",
       "      <th>movieId</th>\n",
       "      <th>imdbId</th>\n",
       "      <th>tmdbId</th>\n",
       "    </tr>\n",
       "  </thead>\n",
       "  <tbody>\n",
       "    <tr>\n",
       "      <th>Type</th>\n",
       "      <td>int64</td>\n",
       "      <td>string[python]</td>\n",
       "      <td>float64</td>\n",
       "    </tr>\n",
       "  </tbody>\n",
       "</table>\n",
       "</div>"
      ],
      "text/plain": [
       "     movieId          imdbId   tmdbId\n",
       "Type   int64  string[python]  float64"
      ]
     },
     "metadata": {},
     "output_type": "display_data"
    },
    {
     "data": {
      "text/html": [
       "<div>\n",
       "<style scoped>\n",
       "    .dataframe tbody tr th:only-of-type {\n",
       "        vertical-align: middle;\n",
       "    }\n",
       "\n",
       "    .dataframe tbody tr th {\n",
       "        vertical-align: top;\n",
       "    }\n",
       "\n",
       "    .dataframe thead th {\n",
       "        text-align: right;\n",
       "    }\n",
       "</style>\n",
       "<table border=\"1\" class=\"dataframe\">\n",
       "  <thead>\n",
       "    <tr style=\"text-align: right;\">\n",
       "      <th></th>\n",
       "      <th>movieId</th>\n",
       "      <th>imdbId</th>\n",
       "      <th>tmdbId</th>\n",
       "    </tr>\n",
       "  </thead>\n",
       "  <tbody>\n",
       "    <tr>\n",
       "      <th>0</th>\n",
       "      <td>1</td>\n",
       "      <td>0114709</td>\n",
       "      <td>862.0</td>\n",
       "    </tr>\n",
       "    <tr>\n",
       "      <th>1</th>\n",
       "      <td>2</td>\n",
       "      <td>0113497</td>\n",
       "      <td>8844.0</td>\n",
       "    </tr>\n",
       "    <tr>\n",
       "      <th>2</th>\n",
       "      <td>3</td>\n",
       "      <td>0113228</td>\n",
       "      <td>15602.0</td>\n",
       "    </tr>\n",
       "    <tr>\n",
       "      <th>3</th>\n",
       "      <td>4</td>\n",
       "      <td>0114885</td>\n",
       "      <td>31357.0</td>\n",
       "    </tr>\n",
       "    <tr>\n",
       "      <th>4</th>\n",
       "      <td>5</td>\n",
       "      <td>0113041</td>\n",
       "      <td>11862.0</td>\n",
       "    </tr>\n",
       "  </tbody>\n",
       "</table>\n",
       "</div>"
      ],
      "text/plain": [
       "   movieId   imdbId   tmdbId\n",
       "0        1  0114709    862.0\n",
       "1        2  0113497   8844.0\n",
       "2        3  0113228  15602.0\n",
       "3        4  0114885  31357.0\n",
       "4        5  0113041  11862.0"
      ]
     },
     "metadata": {},
     "output_type": "display_data"
    }
   ],
   "source": [
    "#\n",
    "# explorer links\n",
    "#\n",
    "print(\"Links\")\n",
    "\n",
    "show_na_simple(mvl_dataset.links)\n",
    "show_types_simple(mvl_dataset.links)\n",
    "display(mvl_dataset.links.head())"
   ]
  },
  {
   "cell_type": "markdown",
   "id": "51c243af",
   "metadata": {},
   "source": [
    "<font class=\"answer\">\n",
    "    \n",
    "Il manque quelques liens sur [TMDB](https://www.themoviedb.org/) (ce qui explique le type float64). Les liens [IMDB](https://www.imdb.com/) seront par conséquent privélégiés pour fin de web scrapping."
   ]
  },
  {
   "cell_type": "code",
   "execution_count": 6,
   "id": "a471ac0f",
   "metadata": {
    "ExecuteTime": {
     "end_time": "2023-07-16T20:51:27.543303Z",
     "start_time": "2023-07-16T20:51:27.524609Z"
    }
   },
   "outputs": [
    {
     "name": "stdout",
     "output_type": "stream",
     "text": [
      "Movies\n"
     ]
    },
    {
     "data": {
      "text/html": [
       "<div>\n",
       "<style scoped>\n",
       "    .dataframe tbody tr th:only-of-type {\n",
       "        vertical-align: middle;\n",
       "    }\n",
       "\n",
       "    .dataframe tbody tr th {\n",
       "        vertical-align: top;\n",
       "    }\n",
       "\n",
       "    .dataframe thead th {\n",
       "        text-align: right;\n",
       "    }\n",
       "</style>\n",
       "<table border=\"1\" class=\"dataframe\">\n",
       "  <thead>\n",
       "    <tr style=\"text-align: right;\">\n",
       "      <th></th>\n",
       "      <th>movieId</th>\n",
       "      <th>title</th>\n",
       "      <th>genres</th>\n",
       "    </tr>\n",
       "  </thead>\n",
       "  <tbody>\n",
       "    <tr>\n",
       "      <th>NA</th>\n",
       "      <td>0</td>\n",
       "      <td>0</td>\n",
       "      <td>0</td>\n",
       "    </tr>\n",
       "  </tbody>\n",
       "</table>\n",
       "</div>"
      ],
      "text/plain": [
       "    movieId  title  genres\n",
       "NA        0      0       0"
      ]
     },
     "metadata": {},
     "output_type": "display_data"
    },
    {
     "data": {
      "text/html": [
       "<div>\n",
       "<style scoped>\n",
       "    .dataframe tbody tr th:only-of-type {\n",
       "        vertical-align: middle;\n",
       "    }\n",
       "\n",
       "    .dataframe tbody tr th {\n",
       "        vertical-align: top;\n",
       "    }\n",
       "\n",
       "    .dataframe thead th {\n",
       "        text-align: right;\n",
       "    }\n",
       "</style>\n",
       "<table border=\"1\" class=\"dataframe\">\n",
       "  <thead>\n",
       "    <tr style=\"text-align: right;\">\n",
       "      <th></th>\n",
       "      <th>movieId</th>\n",
       "      <th>title</th>\n",
       "      <th>genres</th>\n",
       "    </tr>\n",
       "  </thead>\n",
       "  <tbody>\n",
       "    <tr>\n",
       "      <th>Type</th>\n",
       "      <td>int64</td>\n",
       "      <td>object</td>\n",
       "      <td>object</td>\n",
       "    </tr>\n",
       "  </tbody>\n",
       "</table>\n",
       "</div>"
      ],
      "text/plain": [
       "     movieId   title  genres\n",
       "Type   int64  object  object"
      ]
     },
     "metadata": {},
     "output_type": "display_data"
    },
    {
     "data": {
      "text/html": [
       "<div>\n",
       "<style scoped>\n",
       "    .dataframe tbody tr th:only-of-type {\n",
       "        vertical-align: middle;\n",
       "    }\n",
       "\n",
       "    .dataframe tbody tr th {\n",
       "        vertical-align: top;\n",
       "    }\n",
       "\n",
       "    .dataframe thead th {\n",
       "        text-align: right;\n",
       "    }\n",
       "</style>\n",
       "<table border=\"1\" class=\"dataframe\">\n",
       "  <thead>\n",
       "    <tr style=\"text-align: right;\">\n",
       "      <th></th>\n",
       "      <th>movieId</th>\n",
       "      <th>title</th>\n",
       "      <th>genres</th>\n",
       "    </tr>\n",
       "  </thead>\n",
       "  <tbody>\n",
       "    <tr>\n",
       "      <th>0</th>\n",
       "      <td>1</td>\n",
       "      <td>Toy Story (1995)</td>\n",
       "      <td>Adventure|Animation|Children|Comedy|Fantasy</td>\n",
       "    </tr>\n",
       "    <tr>\n",
       "      <th>1</th>\n",
       "      <td>2</td>\n",
       "      <td>Jumanji (1995)</td>\n",
       "      <td>Adventure|Children|Fantasy</td>\n",
       "    </tr>\n",
       "    <tr>\n",
       "      <th>2</th>\n",
       "      <td>3</td>\n",
       "      <td>Grumpier Old Men (1995)</td>\n",
       "      <td>Comedy|Romance</td>\n",
       "    </tr>\n",
       "    <tr>\n",
       "      <th>3</th>\n",
       "      <td>4</td>\n",
       "      <td>Waiting to Exhale (1995)</td>\n",
       "      <td>Comedy|Drama|Romance</td>\n",
       "    </tr>\n",
       "    <tr>\n",
       "      <th>4</th>\n",
       "      <td>5</td>\n",
       "      <td>Father of the Bride Part II (1995)</td>\n",
       "      <td>Comedy</td>\n",
       "    </tr>\n",
       "  </tbody>\n",
       "</table>\n",
       "</div>"
      ],
      "text/plain": [
       "   movieId                               title  \\\n",
       "0        1                    Toy Story (1995)   \n",
       "1        2                      Jumanji (1995)   \n",
       "2        3             Grumpier Old Men (1995)   \n",
       "3        4            Waiting to Exhale (1995)   \n",
       "4        5  Father of the Bride Part II (1995)   \n",
       "\n",
       "                                        genres  \n",
       "0  Adventure|Animation|Children|Comedy|Fantasy  \n",
       "1                   Adventure|Children|Fantasy  \n",
       "2                               Comedy|Romance  \n",
       "3                         Comedy|Drama|Romance  \n",
       "4                                       Comedy  "
      ]
     },
     "metadata": {},
     "output_type": "display_data"
    }
   ],
   "source": [
    "#\n",
    "# explorer movies\n",
    "#\n",
    "print(\"Movies\")\n",
    "\n",
    "show_na_simple(mvl_dataset.movies)\n",
    "show_types_simple(mvl_dataset.movies)\n",
    "display(mvl_dataset.movies.head())"
   ]
  },
  {
   "cell_type": "markdown",
   "id": "02321fd0",
   "metadata": {},
   "source": [
    "<font class=\"answer\">\n",
    "\n",
    "Tel que décris par MovieLens, *title* contient l'année de parution. Nous allons l'extraire afin d'obtenir des caractéritiques \"atomiques\"."
   ]
  },
  {
   "cell_type": "code",
   "execution_count": 7,
   "id": "e41804eb",
   "metadata": {
    "ExecuteTime": {
     "end_time": "2023-07-16T20:51:54.609449Z",
     "start_time": "2023-07-16T20:51:53.054619Z"
    }
   },
   "outputs": [
    {
     "name": "stdout",
     "output_type": "stream",
     "text": [
      "Informations extraites\n"
     ]
    },
    {
     "data": {
      "text/html": [
       "<div>\n",
       "<style scoped>\n",
       "    .dataframe tbody tr th:only-of-type {\n",
       "        vertical-align: middle;\n",
       "    }\n",
       "\n",
       "    .dataframe tbody tr th {\n",
       "        vertical-align: top;\n",
       "    }\n",
       "\n",
       "    .dataframe thead th {\n",
       "        text-align: right;\n",
       "    }\n",
       "</style>\n",
       "<table border=\"1\" class=\"dataframe\">\n",
       "  <thead>\n",
       "    <tr style=\"text-align: right;\">\n",
       "      <th></th>\n",
       "      <th>title</th>\n",
       "      <th>year</th>\n",
       "    </tr>\n",
       "  </thead>\n",
       "  <tbody>\n",
       "    <tr>\n",
       "      <th>NA</th>\n",
       "      <td>0</td>\n",
       "      <td>12</td>\n",
       "    </tr>\n",
       "  </tbody>\n",
       "</table>\n",
       "</div>"
      ],
      "text/plain": [
       "    title  year\n",
       "NA      0    12"
      ]
     },
     "metadata": {},
     "output_type": "display_data"
    },
    {
     "data": {
      "text/html": [
       "<div>\n",
       "<style scoped>\n",
       "    .dataframe tbody tr th:only-of-type {\n",
       "        vertical-align: middle;\n",
       "    }\n",
       "\n",
       "    .dataframe tbody tr th {\n",
       "        vertical-align: top;\n",
       "    }\n",
       "\n",
       "    .dataframe thead th {\n",
       "        text-align: right;\n",
       "    }\n",
       "</style>\n",
       "<table border=\"1\" class=\"dataframe\">\n",
       "  <thead>\n",
       "    <tr style=\"text-align: right;\">\n",
       "      <th></th>\n",
       "      <th>title</th>\n",
       "      <th>year</th>\n",
       "    </tr>\n",
       "  </thead>\n",
       "  <tbody>\n",
       "    <tr>\n",
       "      <th>Type</th>\n",
       "      <td>object</td>\n",
       "      <td>object</td>\n",
       "    </tr>\n",
       "  </tbody>\n",
       "</table>\n",
       "</div>"
      ],
      "text/plain": [
       "       title    year\n",
       "Type  object  object"
      ]
     },
     "metadata": {},
     "output_type": "display_data"
    },
    {
     "data": {
      "text/html": [
       "<div>\n",
       "<style scoped>\n",
       "    .dataframe tbody tr th:only-of-type {\n",
       "        vertical-align: middle;\n",
       "    }\n",
       "\n",
       "    .dataframe tbody tr th {\n",
       "        vertical-align: top;\n",
       "    }\n",
       "\n",
       "    .dataframe thead th {\n",
       "        text-align: right;\n",
       "    }\n",
       "</style>\n",
       "<table border=\"1\" class=\"dataframe\">\n",
       "  <thead>\n",
       "    <tr style=\"text-align: right;\">\n",
       "      <th></th>\n",
       "      <th>title</th>\n",
       "      <th>year</th>\n",
       "    </tr>\n",
       "  </thead>\n",
       "  <tbody>\n",
       "    <tr>\n",
       "      <th>0</th>\n",
       "      <td>Toy Story</td>\n",
       "      <td>1995</td>\n",
       "    </tr>\n",
       "    <tr>\n",
       "      <th>1</th>\n",
       "      <td>Jumanji</td>\n",
       "      <td>1995</td>\n",
       "    </tr>\n",
       "    <tr>\n",
       "      <th>2</th>\n",
       "      <td>Grumpier Old Men</td>\n",
       "      <td>1995</td>\n",
       "    </tr>\n",
       "    <tr>\n",
       "      <th>3</th>\n",
       "      <td>Waiting to Exhale</td>\n",
       "      <td>1995</td>\n",
       "    </tr>\n",
       "    <tr>\n",
       "      <th>4</th>\n",
       "      <td>Father of the Bride Part II</td>\n",
       "      <td>1995</td>\n",
       "    </tr>\n",
       "  </tbody>\n",
       "</table>\n",
       "</div>"
      ],
      "text/plain": [
       "                         title  year\n",
       "0                    Toy Story  1995\n",
       "1                      Jumanji  1995\n",
       "2             Grumpier Old Men  1995\n",
       "3            Waiting to Exhale  1995\n",
       "4  Father of the Bride Part II  1995"
      ]
     },
     "metadata": {},
     "output_type": "display_data"
    }
   ],
   "source": [
    "title_year_re = re.compile(configs.dataset.title_regex, flags=0)        \n",
    "title_year = mvl_dataset.movies.title.apply(split_title, args=(title_year_re,))\n",
    "\n",
    "# validation de l'extraction\n",
    "print(\"Informations extraites\")\n",
    "\n",
    "show_na_simple(title_year)\n",
    "show_types_simple(title_year)\n",
    "display(title_year.head())"
   ]
  },
  {
   "cell_type": "markdown",
   "id": "1e4ec06c",
   "metadata": {},
   "source": [
    "<font class=\"answer\">\n",
    "   \n",
    "On peut remarquer qu'il manque quelques années de parution. Il est probablement possible de les fixer en utilisant *links.tmdb* avec le web scrapping."
   ]
  },
  {
   "cell_type": "code",
   "execution_count": 8,
   "id": "17c52fda",
   "metadata": {
    "ExecuteTime": {
     "end_time": "2023-07-16T20:52:18.486145Z",
     "start_time": "2023-07-16T20:52:07.554478Z"
    },
    "code_folding": [
     0
    ]
   },
   "outputs": [
    {
     "data": {
      "application/vnd.jupyter.widget-view+json": {
       "model_id": "416d8807bdec482380debf82d110f97d",
       "version_major": 2,
       "version_minor": 0
      },
      "text/plain": [
       "  0%|          | 0/12 [00:00<?, ?it/s]"
      ]
     },
     "metadata": {},
     "output_type": "display_data"
    },
    {
     "data": {
      "text/html": [
       "<div>\n",
       "<style scoped>\n",
       "    .dataframe tbody tr th:only-of-type {\n",
       "        vertical-align: middle;\n",
       "    }\n",
       "\n",
       "    .dataframe tbody tr th {\n",
       "        vertical-align: top;\n",
       "    }\n",
       "\n",
       "    .dataframe thead th {\n",
       "        text-align: right;\n",
       "    }\n",
       "</style>\n",
       "<table border=\"1\" class=\"dataframe\">\n",
       "  <thead>\n",
       "    <tr style=\"text-align: right;\">\n",
       "      <th></th>\n",
       "      <th>title</th>\n",
       "      <th>year</th>\n",
       "    </tr>\n",
       "  </thead>\n",
       "  <tbody>\n",
       "    <tr>\n",
       "      <th>NA</th>\n",
       "      <td>0</td>\n",
       "      <td>0</td>\n",
       "    </tr>\n",
       "  </tbody>\n",
       "</table>\n",
       "</div>"
      ],
      "text/plain": [
       "    title  year\n",
       "NA      0     0"
      ]
     },
     "metadata": {},
     "output_type": "display_data"
    }
   ],
   "source": [
    "def imdb_scap_year(response, index, id):\n",
    "    success = False\n",
    "    if response.ok:\n",
    "        bs = BeautifulSoup(response.text, \"html.parser\")\n",
    "\n",
    "        imdb_info = bs.find(\"script\", attrs={\"type\": \"application/ld+json\"})\n",
    "        imdb_json = json.loads(imdb_info.text)\n",
    "        date_published = json_nested_object(imdb_json, [\"datePublished\"])\n",
    "        if not success and date_published:\n",
    "            date_published = pd.to_datetime(date_published)\n",
    "            year = date_published.year\n",
    "            success = True\n",
    "\n",
    "        imdb_info = bs.find(\"script\", attrs={\"type\": \"application/json\"})\n",
    "        imdb_json = json.loads(imdb_info.text)\n",
    "        releaseYear = json_nested_object(imdb_json, \n",
    "                                         [\"props\", \n",
    "                                          \"pageProps\", \n",
    "                                          \"mainColumnData\", \n",
    "                                          \"releaseYear\",\n",
    "                                          \"year\"])\n",
    "        if not success and releaseYear:\n",
    "            year = releaseYear\n",
    "            success = True\n",
    "\n",
    "    if success:\n",
    "        title_year.year[index] = year\n",
    "    else:\n",
    "        print(url, title_year.title[index], \"Failed\")\n",
    "\n",
    "# corriger year via web scrapping avec imdb\n",
    "year_na = title_year.year.isna()\n",
    "year_link = mvl_dataset.links.imdbId[ year_na ]\n",
    "\n",
    "if year_link.shape[0] > 0:\n",
    "    web_scapping_imdb(year_link, configs.dataset, imdb_scap_year)\n",
    "\n",
    "# validation du scapping\n",
    "show_na_simple(title_year)"
   ]
  },
  {
   "cell_type": "code",
   "execution_count": 9,
   "id": "be340b49",
   "metadata": {
    "ExecuteTime": {
     "end_time": "2023-07-16T20:52:22.034987Z",
     "start_time": "2023-07-16T20:52:22.029584Z"
    }
   },
   "outputs": [],
   "source": [
    "#\n",
    "# mettre a jour movies\n",
    "# faire attention, ne pas reexecuter ces cellules\n",
    "# etant donne qu'on modifie le data d'origine\n",
    "#\n",
    "mvl_dataset.movies.title = title_year.title\n",
    "mvl_dataset.movies[\"year\"] = title_year.year.astype(np.int64)"
   ]
  },
  {
   "cell_type": "code",
   "execution_count": 10,
   "id": "e031a8cc",
   "metadata": {
    "ExecuteTime": {
     "end_time": "2023-07-16T20:52:25.145901Z",
     "start_time": "2023-07-16T20:52:25.138216Z"
    }
   },
   "outputs": [
    {
     "name": "stdout",
     "output_type": "stream",
     "text": [
      "Unique movieId: 9742\n",
      "Unique title: 9461\n"
     ]
    }
   ],
   "source": [
    "# validation des modalites\n",
    "print(\"Unique movieId:\", mvl_dataset.movies.movieId.nunique())\n",
    "print(\"Unique title:\", mvl_dataset.movies.title.nunique())"
   ]
  },
  {
   "cell_type": "code",
   "execution_count": null,
   "id": "fe0bb972",
   "metadata": {
    "ExecuteTime": {
     "end_time": "2023-07-16T19:18:15.186320Z",
     "start_time": "2023-07-16T19:18:15.165974Z"
    }
   },
   "outputs": [],
   "source": []
  },
  {
   "cell_type": "markdown",
   "id": "31908023",
   "metadata": {},
   "source": [
    "<font class=\"answer\">\n",
    "    \n",
    "2 constats:\n",
    "* *movieId* est effectivement un identifiant tel que décrit par MovieLens. Il sera mis utilisé comme index.\n",
    "* *title* semble avoir des doublons.\n",
    "    \n",
    "*genre* sera manipuler un peu plus loin dans le notebook"
   ]
  },
  {
   "cell_type": "code",
   "execution_count": null,
   "id": "aa31237a",
   "metadata": {},
   "outputs": [],
   "source": []
  },
  {
   "cell_type": "markdown",
   "id": "e2e527b6",
   "metadata": {},
   "source": [
    "# Exploration"
   ]
  },
  {
   "cell_type": "code",
   "execution_count": null,
   "id": "7685a9d9",
   "metadata": {},
   "outputs": [],
   "source": []
  }
 ],
 "metadata": {
  "hide_input": false,
  "kernelspec": {
   "display_name": "Python 3 (ipykernel)",
   "language": "python",
   "name": "python3"
  },
  "language_info": {
   "codemirror_mode": {
    "name": "ipython",
    "version": 3
   },
   "file_extension": ".py",
   "mimetype": "text/x-python",
   "name": "python",
   "nbconvert_exporter": "python",
   "pygments_lexer": "ipython3",
   "version": "3.11.3"
  },
  "toc": {
   "base_numbering": 1,
   "nav_menu": {},
   "number_sections": true,
   "sideBar": true,
   "skip_h1_title": false,
   "title_cell": "Table of Contents",
   "title_sidebar": "Contents",
   "toc_cell": false,
   "toc_position": {},
   "toc_section_display": true,
   "toc_window_display": false
  },
  "varInspector": {
   "cols": {
    "lenName": 16,
    "lenType": 16,
    "lenVar": 40
   },
   "kernels_config": {
    "python": {
     "delete_cmd_postfix": "",
     "delete_cmd_prefix": "del ",
     "library": "var_list.py",
     "varRefreshCmd": "print(var_dic_list())"
    },
    "r": {
     "delete_cmd_postfix": ") ",
     "delete_cmd_prefix": "rm(",
     "library": "var_list.r",
     "varRefreshCmd": "cat(var_dic_list()) "
    }
   },
   "types_to_exclude": [
    "module",
    "function",
    "builtin_function_or_method",
    "instance",
    "_Feature"
   ],
   "window_display": false
  },
  "vscode": {
   "interpreter": {
    "hash": "ad2bdc8ecc057115af97d19610ffacc2b4e99fae6737bb82f5d7fb13d2f2c186"
   }
  }
 },
 "nbformat": 4,
 "nbformat_minor": 5
}
