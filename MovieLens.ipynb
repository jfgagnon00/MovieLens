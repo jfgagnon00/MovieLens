{
 "cells": [
  {
   "cell_type": "code",
   "execution_count": 1,
   "id": "61a93a2f",
   "metadata": {
    "ExecuteTime": {
     "end_time": "2023-07-16T18:30:46.207476Z",
     "start_time": "2023-07-16T18:30:46.198624Z"
    }
   },
   "outputs": [
    {
     "data": {
      "text/html": [
       "\n",
       "<style>    \n",
       "    @import url(\"css/custom_styles.css\")\n",
       "</style>\n"
      ],
      "text/plain": [
       "<IPython.core.display.HTML object>"
      ]
     },
     "metadata": {},
     "output_type": "display_data"
    }
   ],
   "source": [
    "%%html\n",
    "\n",
    "<style>    \n",
    "    @import url(\"css/custom_styles.css\")\n",
    "</style>"
   ]
  },
  {
   "cell_type": "markdown",
   "id": "f9bafcf8",
   "metadata": {},
   "source": [
    "<center>\n",
    "    <h1>\n",
    "    Transformation Et Manipulation Des Données<br>\n",
    "    </h1>\n",
    "    MovieLens - Système de recommendations de films par regroupement<br>\n",
    "    <br>\n",
    "    <b>Jean-Francois Gagnon</b><br>\n",
    "    <br>\n",
    "    420-A56<br>\n",
    "    <br>\n",
    "</center>"
   ]
  },
  {
   "cell_type": "markdown",
   "id": "b249b9da",
   "metadata": {},
   "source": [
    "# Introduction"
   ]
  },
  {
   "cell_type": "markdown",
   "id": "0215affe",
   "metadata": {},
   "source": [
    "<font class=\"answer\">\n",
    "    \n",
    "J'ai choisi la base de données [MovieLens Small](https://tinyurl.com/bdhmcfht). Elle se compose de 100836 notes représentant 9742 films. Elle contient également les métadonnées sur 19 genres et des liens sur [TMDB](https://www.themoviedb.org) qui permettront d'augmemter son contenu.\n",
    "    \n",
    "Plus spécifiquement, (Voir https://files.grouplens.org/datasets/movielens/ml-latest-small-README.html et décrire en détails le format)\n",
    "    \n",
    "    \n",
    "    \n",
    "L'objectif de ce projet est de contruire un système de recommentation de films en utilisant les techniques de regroupement vu dans le cours. Les détails du sytème seront abordés plus loins dans ce notebooks"
   ]
  },
  {
   "cell_type": "code",
   "execution_count": 2,
   "id": "42719a6b",
   "metadata": {
    "ExecuteTime": {
     "end_time": "2023-07-16T18:30:49.226804Z",
     "start_time": "2023-07-16T18:30:47.974560Z"
    }
   },
   "outputs": [],
   "source": [
    "#\n",
    "# imports utilitaires\n",
    "#\n",
    "\n",
    "%matplotlib inline\n",
    "\n",
    "import re\n",
    "import random\n",
    "import numpy as np\n",
    "import matplotlib.pyplot as plt\n",
    "import os\n",
    "import pandas as pd\n",
    "import seaborn as sns\n",
    "\n",
    "from imblearn.under_sampling import RandomUnderSampler\n",
    "from sklearn.cluster import MiniBatchKMeans\n",
    "from sklearn.decomposition import PCA, TruncatedSVD\n",
    "\n",
    "from tqdm.notebook import tqdm"
   ]
  },
  {
   "cell_type": "code",
   "execution_count": 3,
   "id": "4d914ec6",
   "metadata": {
    "ExecuteTime": {
     "end_time": "2023-07-16T18:30:49.474825Z",
     "start_time": "2023-07-16T18:30:49.418414Z"
    }
   },
   "outputs": [],
   "source": [
    "#\n",
    "# imports faisant partie de nos propres modules\n",
    "#\n",
    "\n",
    "import helpers as hlp\n",
    "import helpers.dataset.MovieLens as mvl\n",
    "\n",
    "from helpers.jupyter import display_html\n",
    "\n",
    "#\n",
    "# fonctions utilitaires\n",
    "#\n",
    "def show_na_simple(dataframe):\n",
    "    na_ = dataframe.isna().sum().to_frame()\n",
    "    na_.columns = [\"NA\"]\n",
    "    display(na_.T)\n",
    "\n",
    "def show_types_simple(dataframe):\n",
    "    types_ = dataframe.dtypes.to_frame()\n",
    "    types_.columns = [\"Type\"]\n",
    "    display(types_.T)"
   ]
  },
  {
   "cell_type": "markdown",
   "id": "1ec93b72",
   "metadata": {},
   "source": [
    "# Prétraitement"
   ]
  },
  {
   "cell_type": "markdown",
   "id": "682de01b",
   "metadata": {},
   "source": [
    "<font class=\"answer\">\n",
    "\n",
    "TODO"
   ]
  },
  {
   "cell_type": "code",
   "execution_count": 4,
   "id": "7b338724",
   "metadata": {
    "ExecuteTime": {
     "end_time": "2023-07-16T18:30:49.736966Z",
     "start_time": "2023-07-16T18:30:49.669593Z"
    }
   },
   "outputs": [],
   "source": [
    "#\n",
    "# parametres configurant nos traitemens\n",
    "#\n",
    "configs = hlp.get_configs(\"config_overrides.json\")\n",
    "\n",
    "#\n",
    "# obtenir le dataset\n",
    "#\n",
    "mvl_dataset = mvl.load(configs.dataset)"
   ]
  },
  {
   "cell_type": "code",
   "execution_count": null,
   "id": "e0424ef0",
   "metadata": {
    "ExecuteTime": {
     "end_time": "2023-07-16T18:28:38.735254Z",
     "start_time": "2023-07-16T18:28:38.716023Z"
    }
   },
   "outputs": [],
   "source": [
    "#\n",
    "# explorer links\n",
    "#\n",
    "print(\"Links\")\n",
    "\n",
    "show_na_simple(mvl_dataset.links)\n",
    "show_types_simple(mvl_dataset.links)\n",
    "display(mvl_dataset.links.head())"
   ]
  },
  {
   "cell_type": "markdown",
   "id": "9f27904d",
   "metadata": {},
   "source": [
    "<font class=\"answer\">\n",
    "    \n",
    "Il manque quelques liens sur [TMDB](https://www.themoviedb.org/) (ce qui explique le type float64). Les liens [IMDB](https://www.imdb.com/) seront par conséquent privélégiés pour fin de web scrapping."
   ]
  },
  {
   "cell_type": "code",
   "execution_count": null,
   "id": "2075b7d0",
   "metadata": {
    "ExecuteTime": {
     "end_time": "2023-07-16T18:28:40.848178Z",
     "start_time": "2023-07-16T18:28:40.829909Z"
    }
   },
   "outputs": [],
   "source": [
    "#\n",
    "# explorer movies\n",
    "#\n",
    "print(\"Movies\")\n",
    "\n",
    "show_na_simple(mvl_dataset.movies)\n",
    "show_types_simple(mvl_dataset.movies)\n",
    "display(mvl_dataset.movies.head())"
   ]
  },
  {
   "cell_type": "markdown",
   "id": "c93cf6ec",
   "metadata": {},
   "source": [
    "<font class=\"answer\">\n",
    "\n",
    "Tel que décris par MovieLens, *title* contient l'année de parution. Nous allons l'extraire afin d'obtenir des caractéritiques \"atomiques\"."
   ]
  },
  {
   "cell_type": "code",
   "execution_count": null,
   "id": "f47d7464",
   "metadata": {
    "ExecuteTime": {
     "end_time": "2023-07-16T18:28:43.853647Z",
     "start_time": "2023-07-16T18:28:42.247916Z"
    },
    "code_folding": [
     0
    ],
    "scrolled": true
   },
   "outputs": [],
   "source": [
    "def split_title(title, regex):\n",
    "    x = regex.search(title)\n",
    "    if x:\n",
    "        title = x.group(1)\n",
    "        year = x.group(2)\n",
    "        year = int(year) if year else pd.NA\n",
    "    else:\n",
    "        year = pd.NA\n",
    "    \n",
    "    return pd.Series({\"title\": title, \"year\": year})\n",
    "\n",
    "title_year_re = re.compile(configs.dataset.title_regex, flags=0)        \n",
    "title_year = mvl_dataset.movies.title.apply(split_title, args=(title_year_re,))"
   ]
  },
  {
   "cell_type": "code",
   "execution_count": null,
   "id": "d8f484ad",
   "metadata": {
    "ExecuteTime": {
     "end_time": "2023-07-16T18:28:44.452120Z",
     "start_time": "2023-07-16T18:28:44.434697Z"
    }
   },
   "outputs": [],
   "source": [
    "# validation de l'extraction\n",
    "print(\"Informations extraites\")\n",
    "\n",
    "show_na_simple(title_year)\n",
    "show_types_simple(title_year)\n",
    "display(title_year.head())"
   ]
  },
  {
   "cell_type": "markdown",
   "id": "c628d363",
   "metadata": {},
   "source": [
    "<font class=\"answer\">\n",
    "   \n",
    "On peut remarquer qu'il manque quelques années de parution. Il est probablement possible de les fixer en utilisant *links.tmdb* avec le web scrapping."
   ]
  },
  {
   "cell_type": "code",
   "execution_count": null,
   "id": "5c619abe",
   "metadata": {
    "ExecuteTime": {
     "end_time": "2023-07-16T18:28:50.913988Z",
     "start_time": "2023-07-16T18:28:50.908665Z"
    }
   },
   "outputs": [],
   "source": [
    "year_na = title_year.year.isna()\n",
    "year_link = mvl_dataset.links.imdbId[ year_na ]\n",
    "\n",
    "for index, id in year_link.items():\n",
    "    url = \"\".join([configs.dataset.scrapping_imdb_url, str(id)])\n",
    "    print(url, title_year.title[index])"
   ]
  },
  {
   "cell_type": "code",
   "execution_count": null,
   "id": "ea579443",
   "metadata": {},
   "outputs": [],
   "source": [
    "# mettre a jour la \n",
    "mvl_dataset.movies.title = title_year.title"
   ]
  },
  {
   "cell_type": "code",
   "execution_count": null,
   "id": "7f1b2f29",
   "metadata": {
    "ExecuteTime": {
     "end_time": "2023-07-16T15:27:43.651482Z",
     "start_time": "2023-07-16T15:27:43.645439Z"
    }
   },
   "outputs": [],
   "source": [
    "# validation des modalites\n",
    "print(\"Unique movieId:\", mvl_dataset.movies.movieId.nunique())\n",
    "print(\"Unique title:\", mvl_dataset.movies.title.nunique())"
   ]
  },
  {
   "cell_type": "code",
   "execution_count": null,
   "id": "ce857681",
   "metadata": {
    "ExecuteTime": {
     "end_time": "2023-07-16T15:29:47.783611Z",
     "start_time": "2023-07-16T15:29:47.776125Z"
    }
   },
   "outputs": [],
   "source": []
  },
  {
   "cell_type": "markdown",
   "id": "0cd0a650",
   "metadata": {},
   "source": [
    "<font class=\"answer\">\n",
    "    \n",
    "2 constats:\n",
    "* *movieId* est effectivement un identifiant tel que décrit par MovieLens. Il sera mis utilisé comme index.\n",
    "* *title* semble avoir des doublons.\n",
    "    \n",
    "*genre* sera manipuler un peu plus loin dans le notebook"
   ]
  },
  {
   "cell_type": "code",
   "execution_count": null,
   "id": "9de309ea",
   "metadata": {},
   "outputs": [],
   "source": []
  },
  {
   "cell_type": "markdown",
   "id": "e2e527b6",
   "metadata": {},
   "source": [
    "# Exploration"
   ]
  },
  {
   "cell_type": "code",
   "execution_count": null,
   "id": "37c49cb9",
   "metadata": {},
   "outputs": [],
   "source": []
  }
 ],
 "metadata": {
  "hide_input": false,
  "kernelspec": {
   "display_name": "Python 3 (ipykernel)",
   "language": "python",
   "name": "python3"
  },
  "language_info": {
   "codemirror_mode": {
    "name": "ipython",
    "version": 3
   },
   "file_extension": ".py",
   "mimetype": "text/x-python",
   "name": "python",
   "nbconvert_exporter": "python",
   "pygments_lexer": "ipython3",
   "version": "3.11.3"
  },
  "toc": {
   "base_numbering": 1,
   "nav_menu": {},
   "number_sections": true,
   "sideBar": true,
   "skip_h1_title": false,
   "title_cell": "Table of Contents",
   "title_sidebar": "Contents",
   "toc_cell": false,
   "toc_position": {},
   "toc_section_display": true,
   "toc_window_display": false
  },
  "varInspector": {
   "cols": {
    "lenName": 16,
    "lenType": 16,
    "lenVar": 40
   },
   "kernels_config": {
    "python": {
     "delete_cmd_postfix": "",
     "delete_cmd_prefix": "del ",
     "library": "var_list.py",
     "varRefreshCmd": "print(var_dic_list())"
    },
    "r": {
     "delete_cmd_postfix": ") ",
     "delete_cmd_prefix": "rm(",
     "library": "var_list.r",
     "varRefreshCmd": "cat(var_dic_list()) "
    }
   },
   "types_to_exclude": [
    "module",
    "function",
    "builtin_function_or_method",
    "instance",
    "_Feature"
   ],
   "window_display": false
  },
  "vscode": {
   "interpreter": {
    "hash": "ad2bdc8ecc057115af97d19610ffacc2b4e99fae6737bb82f5d7fb13d2f2c186"
   }
  }
 },
 "nbformat": 4,
 "nbformat_minor": 5
}
