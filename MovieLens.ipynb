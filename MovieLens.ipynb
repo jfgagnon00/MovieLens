{
 "cells": [
  {
   "cell_type": "code",
   "execution_count": null,
   "id": "61a93a2f",
   "metadata": {
    "ExecuteTime": {
     "end_time": "2023-07-20T01:30:07.282204Z",
     "start_time": "2023-07-20T01:30:07.275519Z"
    }
   },
   "outputs": [],
   "source": [
    "%%html\n",
    "\n",
    "<style>    \n",
    "    @import url(\"css/custom_styles.css\")\n",
    "</style>"
   ]
  },
  {
   "cell_type": "markdown",
   "id": "f9bafcf8",
   "metadata": {},
   "source": [
    "<center>\n",
    "    <h1>\n",
    "    Transformation Et Manipulation Des Données<br>\n",
    "    </h1>\n",
    "    MovieLens - Système de recommendations de films par regroupement<br>\n",
    "    <br>\n",
    "    <b>Jean-Francois Gagnon</b><br>\n",
    "    <br>\n",
    "    420-A56<br>\n",
    "    <br>\n",
    "</center>"
   ]
  },
  {
   "cell_type": "markdown",
   "id": "b249b9da",
   "metadata": {},
   "source": [
    "# Introduction"
   ]
  },
  {
   "cell_type": "markdown",
   "id": "0215affe",
   "metadata": {},
   "source": [
    "<font class=\"answer\">\n",
    "    \n",
    "J'ai choisi la base de données [MovieLens Small](https://tinyurl.com/bdhmcfht). Elle se compose de 100836 notes représentant 9742 films. Elle contient également les métadonnées sur 19 genres et des liens sur [TMDB](https://www.themoviedb.org) qui permettront d'augmemter son contenu.\n",
    "    \n",
    "Plus spécifiquement, (Voir https://files.grouplens.org/datasets/movielens/ml-latest-small-README.html et décrire en détails le format)\n",
    "    \n",
    "    \n",
    "    \n",
    "L'objectif de ce projet est de contruire un système de recommentation de films en utilisant les techniques de regroupement vu dans le cours. Les détails du sytème seront abordés plus loins dans ce notebooks"
   ]
  },
  {
   "cell_type": "code",
   "execution_count": null,
   "id": "4d914ec6",
   "metadata": {
    "ExecuteTime": {
     "end_time": "2023-07-20T01:30:10.430677Z",
     "start_time": "2023-07-20T01:30:09.107288Z"
    },
    "code_folding": [
     20
    ]
   },
   "outputs": [],
   "source": [
    "#\n",
    "# imports utilitaires\n",
    "#\n",
    "\n",
    "%matplotlib inline\n",
    "\n",
    "import json\n",
    "import matplotlib.pyplot as plt\n",
    "import numpy as np\n",
    "import os\n",
    "import pandas as pd\n",
    "import re\n",
    "import requests\n",
    "import seaborn as sns\n",
    "import time\n",
    "\n",
    "from bs4 import BeautifulSoup\n",
    "from imblearn.under_sampling import RandomUnderSampler\n",
    "from sklearn.cluster import MiniBatchKMeans\n",
    "from sklearn.decomposition import TruncatedSVD\n",
    "\n",
    "from tqdm.notebook import tqdm\n",
    "\n",
    "#\n",
    "# imports faisant partie de nos propres modules\n",
    "#\n",
    "\n",
    "import helpers as hlp\n",
    "import helpers.dataset.MovieLens as mvl\n",
    "import helpers.WebScraping as scrap\n",
    "import helpers.Clustering as clstr\n",
    "\n",
    "from helpers.jupyter import display_html"
   ]
  },
  {
   "cell_type": "markdown",
   "id": "1ec93b72",
   "metadata": {},
   "source": [
    "# Prétraitement"
   ]
  },
  {
   "cell_type": "markdown",
   "id": "682de01b",
   "metadata": {},
   "source": [
    "<font class=\"answer\">\n",
    "\n",
    "Description ici?"
   ]
  },
  {
   "cell_type": "code",
   "execution_count": null,
   "id": "654c4385",
   "metadata": {
    "ExecuteTime": {
     "end_time": "2023-07-20T01:30:10.636093Z",
     "start_time": "2023-07-20T01:30:10.573265Z"
    }
   },
   "outputs": [],
   "source": [
    "#\n",
    "# parametres configurant nos traitemens\n",
    "#\n",
    "configs = hlp.get_configs(\"config_overrides.json\")\n",
    "\n",
    "#\n",
    "# obtenir le dataset\n",
    "#\n",
    "mvl_dataset = mvl.load(configs.dataset)"
   ]
  },
  {
   "cell_type": "markdown",
   "id": "f5118517",
   "metadata": {},
   "source": [
    "## links.csv"
   ]
  },
  {
   "cell_type": "markdown",
   "id": "dfd4ee44",
   "metadata": {},
   "source": [
    "<font class=\"answer\">\n",
    "    \n",
    "links.csv n'est pas utilisé directement pour le clustering. Cependant, il le sera pour complémenter l'information des autres base de données. Il m'apparait donc imporant de faire un survol rapide."
   ]
  },
  {
   "cell_type": "code",
   "execution_count": null,
   "id": "caf550da",
   "metadata": {
    "ExecuteTime": {
     "end_time": "2023-07-20T01:30:11.574680Z",
     "start_time": "2023-07-20T01:30:11.551766Z"
    }
   },
   "outputs": [],
   "source": [
    "print(\"Links\", mvl_dataset.links.shape)\n",
    "print(\"Head\")\n",
    "display(mvl_dataset.links.head())\n",
    "clstr.show_na(mvl_dataset.links)\n",
    "clstr.show_types(mvl_dataset.links)"
   ]
  },
  {
   "cell_type": "markdown",
   "id": "8014dc1d",
   "metadata": {},
   "source": [
    "<font class=\"answer\">\n",
    "    \n",
    "Il manque quelques liens sur [TMDB](https://www.themoviedb.org/) (ce qui explique le type float64). Les liens [IMDB](https://www.imdb.com/) seront par conséquent privélégiés pour fin de web scrapping."
   ]
  },
  {
   "cell_type": "markdown",
   "id": "7b174c52",
   "metadata": {},
   "source": [
    "## movies.csv"
   ]
  },
  {
   "cell_type": "markdown",
   "id": "f1978af6",
   "metadata": {},
   "source": [
    "<font class=\"answer\">\n",
    "    \n",
    "Mettre description ici?"
   ]
  },
  {
   "cell_type": "code",
   "execution_count": null,
   "id": "719fc69a",
   "metadata": {
    "ExecuteTime": {
     "end_time": "2023-07-20T01:30:12.957493Z",
     "start_time": "2023-07-20T01:30:12.943693Z"
    }
   },
   "outputs": [],
   "source": [
    "print(\"Movies\", mvl_dataset.movies.shape)\n",
    "print(\"Head\")\n",
    "display(mvl_dataset.movies.head())\n",
    "clstr.show_na(mvl_dataset.movies)\n",
    "clstr.show_types(mvl_dataset.movies)"
   ]
  },
  {
   "cell_type": "markdown",
   "id": "8245cf58",
   "metadata": {},
   "source": [
    "<font class=\"answer\">\n",
    "\n",
    "Tel que décris par MovieLens, *title* contient l'année de parution. Nous allons l'extraire afin d'obtenir une nouvelle variable. *title* sera adressé un pleu plus bas."
   ]
  },
  {
   "cell_type": "code",
   "execution_count": null,
   "id": "74e568fd",
   "metadata": {
    "ExecuteTime": {
     "end_time": "2023-07-20T01:30:15.526634Z",
     "start_time": "2023-07-20T01:30:13.995979Z"
    },
    "code_folding": [
     0
    ]
   },
   "outputs": [],
   "source": [
    "def split_title_year(title, regex):\n",
    "    x = regex.search(title)\n",
    "    if x:\n",
    "        title = x.group(1)\n",
    "        year = x.group(2)\n",
    "        year = int(year) if year else pd.NA\n",
    "    else:\n",
    "        year = pd.NA\n",
    "    \n",
    "    return pd.Series({\"title\": title, \"year\": year})\n",
    "\n",
    "title_year_re = re.compile(configs.dataset.title_regex, flags=0)        \n",
    "title_year = mvl_dataset.movies.title.apply(split_title_year, args=(title_year_re,))\n",
    "\n",
    "#\n",
    "# validation de l'extraction\n",
    "#\n",
    "print(\"Informations extraites\", title_year.shape)\n",
    "print(\"Head\")\n",
    "display(title_year.head())\n",
    "clstr.show_na(title_year)\n",
    "clstr.show_types(title_year)"
   ]
  },
  {
   "cell_type": "markdown",
   "id": "63b581c8",
   "metadata": {},
   "source": [
    "<font class=\"answer\">\n",
    "   \n",
    "On peut remarquer qu'il manque quelques années de parution. Il est probablement possible de les fixer en utilisant *links.imdbId* avec le web scrapping."
   ]
  },
  {
   "cell_type": "code",
   "execution_count": null,
   "id": "1f3a9fa7",
   "metadata": {
    "ExecuteTime": {
     "end_time": "2023-07-20T01:30:29.951580Z",
     "start_time": "2023-07-20T01:30:15.714952Z"
    },
    "code_folding": [
     0
    ]
   },
   "outputs": [],
   "source": [
    "def imdb_scap_year(response, index, id):\n",
    "    success = False\n",
    "    if response.ok:\n",
    "        bs = BeautifulSoup(response.text, \"html.parser\")\n",
    "\n",
    "        imdb_info = bs.find(\"script\", attrs={\"type\": \"application/ld+json\"})\n",
    "        imdb_json = json.loads(imdb_info.text)\n",
    "        date_published = scrap.get_nested_property(imdb_json, [\"datePublished\"])\n",
    "        if not success and date_published:\n",
    "            date_published = pd.to_datetime(date_published)\n",
    "            year = date_published.year\n",
    "            success = True\n",
    "\n",
    "        imdb_info = bs.find(\"script\", attrs={\"type\": \"application/json\"})\n",
    "        imdb_json = json.loads(imdb_info.text)\n",
    "        releaseYear = scrap.get_nested_property(imdb_json, \n",
    "                                                [\"props\", \n",
    "                                                 \"pageProps\", \n",
    "                                                 \"mainColumnData\", \n",
    "                                                 \"releaseYear\",\n",
    "                                                 \"year\"])\n",
    "        if not success and releaseYear:\n",
    "            year = releaseYear\n",
    "            success = True\n",
    "\n",
    "    if success:\n",
    "        title_year.year[index] = year\n",
    "    else:\n",
    "        print(url, title_year.title[index], \"Failed\")\n",
    "\n",
    "# corriger year via web scrapping avec imdb\n",
    "year_na = title_year.year.isna()\n",
    "year_link = mvl_dataset.links.imdbId[ year_na ]\n",
    "\n",
    "if year_link.shape[0] > 0:\n",
    "    scrap.imdb_request(year_link, configs.web_scraping, imdb_scap_year)\n",
    "\n",
    "# validation du scapping\n",
    "clstr.show_na(title_year)"
   ]
  },
  {
   "cell_type": "code",
   "execution_count": null,
   "id": "f64c90c9",
   "metadata": {
    "ExecuteTime": {
     "end_time": "2023-07-20T01:30:30.122923Z",
     "start_time": "2023-07-20T01:30:30.119982Z"
    }
   },
   "outputs": [],
   "source": [
    "# mettre a jour movies\n",
    "mvl_dataset.movies[\"year\"] = title_year.year.astype(np.int64)"
   ]
  },
  {
   "cell_type": "code",
   "execution_count": null,
   "id": "21f934ca",
   "metadata": {
    "ExecuteTime": {
     "end_time": "2023-07-20T01:30:33.608078Z",
     "start_time": "2023-07-20T01:30:30.307188Z"
    }
   },
   "outputs": [],
   "source": [
    "#\n",
    "# validation effet extraction de l'annee de title\n",
    "#\n",
    "imdb_ids = mvl_dataset.links.imdbId[mvl_dataset.links.movieId == mvl_dataset.movies.movieId]\n",
    "\n",
    "title = mvl_dataset.movies[[\"movieId\", \"year\"]].copy()\n",
    "title[\"title\"] = title_year.title.copy()\n",
    "title[\"imdbId\"] = imdb_ids.copy()\n",
    "\n",
    "def title_agregate(dataframe):\n",
    "    return pd.Series({\"imdbIds\": dataframe.imdbId.unique(),\n",
    "                      \"years\": dataframe.year.unique(),\n",
    "                      \"counts\": dataframe.movieId.nunique()})\n",
    "\n",
    "groups = title.groupby(\"title\").apply(title_agregate)\n",
    "groups.sort_values(by=\"counts\", ascending=False, inplace=True)\n",
    "\n",
    "display(groups.head())"
   ]
  },
  {
   "cell_type": "markdown",
   "id": "aea018a4",
   "metadata": {},
   "source": [
    "<font class=\"answer\">\n",
    "    \n",
    "Une inspection manuelle de [Hamlet 1996](http://www.imdb.com/title/tt0116477) et [Hamlet 1948](http://www.imdb.com/title/tt0040416) via IMDB permet de voir que l'année juxtaposée au titre est un identifiant unique. Je dois donc garder *title* original."
   ]
  },
  {
   "cell_type": "code",
   "execution_count": null,
   "id": "2123f163",
   "metadata": {
    "ExecuteTime": {
     "end_time": "2023-07-20T01:30:33.619405Z",
     "start_time": "2023-07-20T01:30:33.611533Z"
    }
   },
   "outputs": [],
   "source": [
    "#\n",
    "# validation doublons\n",
    "#\n",
    "print(\"Vérifier doublons\")\n",
    "print(\"Avant:\", mvl_dataset.movies.shape)\n",
    "mvl_dataset.movies.drop_duplicates(inplace=True)\n",
    "print(\"Après:\", mvl_dataset.movies.shape)"
   ]
  },
  {
   "cell_type": "markdown",
   "id": "11c5ed4b",
   "metadata": {},
   "source": [
    "<font class=\"answer\">\n",
    "Aucun doublon"
   ]
  },
  {
   "cell_type": "code",
   "execution_count": null,
   "id": "c695dfa3",
   "metadata": {
    "ExecuteTime": {
     "end_time": "2023-07-20T01:30:33.892767Z",
     "start_time": "2023-07-20T01:30:33.870155Z"
    },
    "code_folding": []
   },
   "outputs": [],
   "source": [
    "# genre est de type categoriel mais est une seule string contenant toutes les modalites\n",
    "# changer string en list en prevision de pandas.get_dummies() \n",
    "def genres_str_to_array(genres, splitter):\n",
    "    if isinstance(genres, str):\n",
    "        return np.array(genres.split(splitter))\n",
    "    else:\n",
    "        return genres\n",
    "\n",
    "# assignation par .loc est imporant ici\n",
    "mvl_dataset.movies.loc[:, \"genres\"] = mvl_dataset.movies.genres.apply(genres_str_to_array, \n",
    "                                                                      args=(configs.dataset.genre_splitter,))\n",
    "# validation changement de type\n",
    "display(mvl_dataset.movies.head())"
   ]
  },
  {
   "cell_type": "code",
   "execution_count": null,
   "id": "94b80359",
   "metadata": {
    "ExecuteTime": {
     "end_time": "2023-07-20T01:30:34.561404Z",
     "start_time": "2023-07-20T01:30:34.533057Z"
    },
    "code_folding": []
   },
   "outputs": [],
   "source": [
    "# validation modalites genres\n",
    "def gather_genres(genres, final_set):\n",
    "    if len(genres.shape) > 0:\n",
    "        final_set.update(genres)\n",
    "    \n",
    "def show_unique_genres():\n",
    "    genres_set = set()\n",
    "    mvl_dataset.movies.genres.apply(gather_genres,\n",
    "                                    args=(genres_set,))\n",
    "    \n",
    "    print(\"Genres:\", len(genres_set), \"modalités\")\n",
    "    display(genres_set)\n",
    "    \n",
    "show_unique_genres()"
   ]
  },
  {
   "cell_type": "markdown",
   "id": "9e1c8962",
   "metadata": {
    "ExecuteTime": {
     "end_time": "2023-07-17T00:35:29.008411Z",
     "start_time": "2023-07-17T00:35:29.005017Z"
    }
   },
   "source": [
    "<font class=\"answer\">\n",
    "\n",
    "Une seule modalité semble étrange: IMAX. Aussi, (no genres listed) semble être en fait des valeurs manquantes. Adressé un peu plus loin dans le notebook."
   ]
  },
  {
   "cell_type": "code",
   "execution_count": null,
   "id": "0c794935",
   "metadata": {
    "ExecuteTime": {
     "end_time": "2023-07-20T01:30:39.049573Z",
     "start_time": "2023-07-20T01:30:38.992679Z"
    },
    "code_folding": []
   },
   "outputs": [],
   "source": [
    "# valider genres IMAX\n",
    "def find_in_list(haystack, needle):\n",
    "    return needle in haystack\n",
    "\n",
    "def list_size(list_):\n",
    "    return len(list_)\n",
    "\n",
    "imax = mvl_dataset.movies[ mvl_dataset \\\n",
    "                              .movies \\\n",
    "                              .genres \\\n",
    "                              .apply(find_in_list, needle=\"IMAX\") ].copy()\n",
    "imax[\"counts\"] = imax.genres.apply(list_size)\n",
    "print(\"IMAX\", imax.shape[0], \"- min genres count\", imax.counts.min())\n",
    "display(imax.head())"
   ]
  },
  {
   "cell_type": "markdown",
   "id": "4e75d61b",
   "metadata": {},
   "source": [
    "<font class=\"answer\">\n",
    "IMAX est en fait utilisé comme un \"attribut\"; il n'est jamais utlisé seul."
   ]
  },
  {
   "cell_type": "code",
   "execution_count": null,
   "id": "366e6826",
   "metadata": {
    "ExecuteTime": {
     "end_time": "2023-07-20T01:30:47.455287Z",
     "start_time": "2023-07-20T01:30:47.398204Z"
    },
    "code_folding": []
   },
   "outputs": [],
   "source": [
    "#\n",
    "# examiner (no genres listed)\n",
    "#    \n",
    "def show_no_genres():\n",
    "    no_genres = mvl_dataset.movies[ mvl_dataset\n",
    "                                       .movies \\\n",
    "                                       .genres \\\n",
    "                                       .apply(find_in_list, needle=\"(no genres listed)\") ]\n",
    "    print(\"(no genres listed)\", no_genres.shape[0])\n",
    "    display(no_genres.head())\n",
    "    return no_genres.index\n",
    "    \n",
    "no_genres_index = show_no_genres()"
   ]
  },
  {
   "cell_type": "markdown",
   "id": "cb6165c1",
   "metadata": {},
   "source": [
    "<font class=\"answer\">\n",
    "Je vais utiliser le web scrapping pour tenter de remplacer (no genres listed)."
   ]
  },
  {
   "cell_type": "code",
   "execution_count": null,
   "id": "9f311dea",
   "metadata": {
    "ExecuteTime": {
     "end_time": "2023-07-20T01:31:26.538070Z",
     "start_time": "2023-07-20T01:30:54.212191Z"
    },
    "code_folding": [
     0
    ],
    "scrolled": false
   },
   "outputs": [],
   "source": [
    "def imdb_scap_genres(response, index, id):\n",
    "    success = False\n",
    "    if response.ok:\n",
    "        bs = BeautifulSoup(response.text, \"html.parser\")\n",
    "\n",
    "        imdb_info = bs.find(\"script\", attrs={\"type\": \"application/ld+json\"})\n",
    "        imdb_json = json.loads(imdb_info.text)\n",
    "                \n",
    "        genres = scrap.get_nested_property(imdb_json, [\"genre\"])\n",
    "        if not success and genres:\n",
    "            success = True\n",
    "\n",
    "    if success:\n",
    "        # ici, at[] est important - on assigne une list\n",
    "        mvl_dataset.movies.at[index, \"genres\"] = np.array(genres)\n",
    "    else:\n",
    "        if False:\n",
    "            print()\n",
    "            print( json.dumps(imdb_json, indent=4) )\n",
    "            print()\n",
    "        \n",
    "        print(response.url, mvl_dataset.movies.title[index], \"Failed\")\n",
    "\n",
    "# corriger genres via web scrapping avec imdb\n",
    "genres_imdbIds = mvl_dataset.links.imdbId[no_genres_index]\n",
    "\n",
    "if genres_imdbIds.shape[0] > 0:\n",
    "    scrap.imdb_request(genres_imdbIds, configs.web_scraping, imdb_scap_genres)\n",
    "\n",
    "show_unique_genres()\n",
    "show_no_genres();"
   ]
  },
  {
   "cell_type": "markdown",
   "id": "9a0ee94f",
   "metadata": {},
   "source": [
    "## ratings.csv"
   ]
  },
  {
   "cell_type": "markdown",
   "id": "cb2a120d",
   "metadata": {},
   "source": [
    "<font class=\"answer\">\n",
    "    \n",
    "Mettre description ici?"
   ]
  },
  {
   "cell_type": "code",
   "execution_count": null,
   "id": "61fade49",
   "metadata": {
    "ExecuteTime": {
     "end_time": "2023-07-20T01:33:30.443902Z",
     "start_time": "2023-07-20T01:33:30.429653Z"
    }
   },
   "outputs": [],
   "source": [
    "print(\"Ratings\", mvl_dataset.ratings.shape)\n",
    "print(\"Head\")\n",
    "display(mvl_dataset.ratings.head())\n",
    "clstr.show_na(mvl_dataset.ratings)\n",
    "clstr.show_types(mvl_dataset.ratings)"
   ]
  },
  {
   "cell_type": "code",
   "execution_count": null,
   "id": "55450634",
   "metadata": {},
   "outputs": [],
   "source": [
    "# creer des variables pour movies: avg rating, vote_count, avg_vote_count\n",
    "# montrer les duplicats userId et movieId"
   ]
  },
  {
   "cell_type": "markdown",
   "id": "e2e527b6",
   "metadata": {},
   "source": [
    "# Exploration"
   ]
  },
  {
   "cell_type": "code",
   "execution_count": null,
   "id": "b0c482f5",
   "metadata": {},
   "outputs": [],
   "source": []
  }
 ],
 "metadata": {
  "hide_input": false,
  "kernelspec": {
   "display_name": "Python 3 (ipykernel)",
   "language": "python",
   "name": "python3"
  },
  "language_info": {
   "codemirror_mode": {
    "name": "ipython",
    "version": 3
   },
   "file_extension": ".py",
   "mimetype": "text/x-python",
   "name": "python",
   "nbconvert_exporter": "python",
   "pygments_lexer": "ipython3",
   "version": "3.11.3"
  },
  "toc": {
   "base_numbering": 1,
   "nav_menu": {},
   "number_sections": true,
   "sideBar": true,
   "skip_h1_title": false,
   "title_cell": "Table of Contents",
   "title_sidebar": "Contents",
   "toc_cell": false,
   "toc_position": {},
   "toc_section_display": true,
   "toc_window_display": false
  },
  "varInspector": {
   "cols": {
    "lenName": 16,
    "lenType": 16,
    "lenVar": 40
   },
   "kernels_config": {
    "python": {
     "delete_cmd_postfix": "",
     "delete_cmd_prefix": "del ",
     "library": "var_list.py",
     "varRefreshCmd": "print(var_dic_list())"
    },
    "r": {
     "delete_cmd_postfix": ") ",
     "delete_cmd_prefix": "rm(",
     "library": "var_list.r",
     "varRefreshCmd": "cat(var_dic_list()) "
    }
   },
   "types_to_exclude": [
    "module",
    "function",
    "builtin_function_or_method",
    "instance",
    "_Feature"
   ],
   "window_display": false
  },
  "vscode": {
   "interpreter": {
    "hash": "ad2bdc8ecc057115af97d19610ffacc2b4e99fae6737bb82f5d7fb13d2f2c186"
   }
  }
 },
 "nbformat": 4,
 "nbformat_minor": 5
}
